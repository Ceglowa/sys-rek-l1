{
 "cells": [
  {
   "cell_type": "code",
   "execution_count": 1,
   "metadata": {
    "collapsed": true
   },
   "outputs": [
    {
     "ename": "TypeError",
     "evalue": "__init__() missing 4 required positional arguments: 'num_users', 'num_items', 'ratings', and 'all_movie_ids'",
     "output_type": "error",
     "traceback": [
      "\u001B[1;31m---------------------------------------------------------------------------\u001B[0m",
      "\u001B[1;31mTypeError\u001B[0m                                 Traceback (most recent call last)",
      "\u001B[1;32m<ipython-input-1-86a28d206342>\u001B[0m in \u001B[0;36m<module>\u001B[1;34m\u001B[0m\n\u001B[0;32m      1\u001B[0m \u001B[1;32mfrom\u001B[0m \u001B[0mncf\u001B[0m \u001B[1;32mimport\u001B[0m \u001B[0mNCF\u001B[0m\u001B[1;33m\u001B[0m\u001B[1;33m\u001B[0m\u001B[0m\n\u001B[0;32m      2\u001B[0m \u001B[1;33m\u001B[0m\u001B[0m\n\u001B[1;32m----> 3\u001B[1;33m \u001B[0mNCF\u001B[0m\u001B[1;33m(\u001B[0m\u001B[1;33m)\u001B[0m\u001B[1;33m\u001B[0m\u001B[1;33m\u001B[0m\u001B[0m\n\u001B[0m",
      "\u001B[1;31mTypeError\u001B[0m: __init__() missing 4 required positional arguments: 'num_users', 'num_items', 'ratings', and 'all_movie_ids'"
     ]
    }
   ],
   "source": [
    "from ncf import NCF\n",
    "\n",
    "NCF()"
   ]
  },
  {
   "cell_type": "code",
   "execution_count": 3,
   "outputs": [],
   "source": [
    "from data import get_movielens_1m\n",
    "\n",
    "movies_df, users_df, ratings_df = get_movielens_1m()"
   ],
   "metadata": {
    "collapsed": false,
    "pycharm": {
     "name": "#%%\n"
    }
   }
  },
  {
   "cell_type": "code",
   "execution_count": 4,
   "outputs": [
    {
     "data": {
      "text/plain": "      MovieID                               Title  \\\n0           1                    Toy Story (1995)   \n1           2                      Jumanji (1995)   \n2           3             Grumpier Old Men (1995)   \n3           4            Waiting to Exhale (1995)   \n4           5  Father of the Bride Part II (1995)   \n...       ...                                 ...   \n3878     3948             Meet the Parents (2000)   \n3879     3949          Requiem for a Dream (2000)   \n3880     3950                    Tigerland (2000)   \n3881     3951             Two Family House (2000)   \n3882     3952               Contender, The (2000)   \n\n                            Genres  \n0      Animation|Children's|Comedy  \n1     Adventure|Children's|Fantasy  \n2                   Comedy|Romance  \n3                     Comedy|Drama  \n4                           Comedy  \n...                            ...  \n3878                        Comedy  \n3879                         Drama  \n3880                         Drama  \n3881                         Drama  \n3882                Drama|Thriller  \n\n[3883 rows x 3 columns]",
      "text/html": "<div>\n<style scoped>\n    .dataframe tbody tr th:only-of-type {\n        vertical-align: middle;\n    }\n\n    .dataframe tbody tr th {\n        vertical-align: top;\n    }\n\n    .dataframe thead th {\n        text-align: right;\n    }\n</style>\n<table border=\"1\" class=\"dataframe\">\n  <thead>\n    <tr style=\"text-align: right;\">\n      <th></th>\n      <th>MovieID</th>\n      <th>Title</th>\n      <th>Genres</th>\n    </tr>\n  </thead>\n  <tbody>\n    <tr>\n      <th>0</th>\n      <td>1</td>\n      <td>Toy Story (1995)</td>\n      <td>Animation|Children's|Comedy</td>\n    </tr>\n    <tr>\n      <th>1</th>\n      <td>2</td>\n      <td>Jumanji (1995)</td>\n      <td>Adventure|Children's|Fantasy</td>\n    </tr>\n    <tr>\n      <th>2</th>\n      <td>3</td>\n      <td>Grumpier Old Men (1995)</td>\n      <td>Comedy|Romance</td>\n    </tr>\n    <tr>\n      <th>3</th>\n      <td>4</td>\n      <td>Waiting to Exhale (1995)</td>\n      <td>Comedy|Drama</td>\n    </tr>\n    <tr>\n      <th>4</th>\n      <td>5</td>\n      <td>Father of the Bride Part II (1995)</td>\n      <td>Comedy</td>\n    </tr>\n    <tr>\n      <th>...</th>\n      <td>...</td>\n      <td>...</td>\n      <td>...</td>\n    </tr>\n    <tr>\n      <th>3878</th>\n      <td>3948</td>\n      <td>Meet the Parents (2000)</td>\n      <td>Comedy</td>\n    </tr>\n    <tr>\n      <th>3879</th>\n      <td>3949</td>\n      <td>Requiem for a Dream (2000)</td>\n      <td>Drama</td>\n    </tr>\n    <tr>\n      <th>3880</th>\n      <td>3950</td>\n      <td>Tigerland (2000)</td>\n      <td>Drama</td>\n    </tr>\n    <tr>\n      <th>3881</th>\n      <td>3951</td>\n      <td>Two Family House (2000)</td>\n      <td>Drama</td>\n    </tr>\n    <tr>\n      <th>3882</th>\n      <td>3952</td>\n      <td>Contender, The (2000)</td>\n      <td>Drama|Thriller</td>\n    </tr>\n  </tbody>\n</table>\n<p>3883 rows × 3 columns</p>\n</div>"
     },
     "execution_count": 4,
     "metadata": {},
     "output_type": "execute_result"
    }
   ],
   "source": [
    "movies_df"
   ],
   "metadata": {
    "collapsed": false,
    "pycharm": {
     "name": "#%%\n"
    }
   }
  },
  {
   "cell_type": "code",
   "execution_count": 8,
   "outputs": [],
   "source": [
    "movies_df['movie_id'] = movies_df.index"
   ],
   "metadata": {
    "collapsed": false,
    "pycharm": {
     "name": "#%%\n"
    }
   }
  },
  {
   "cell_type": "code",
   "execution_count": 9,
   "outputs": [
    {
     "data": {
      "text/plain": "         UserID  MovieID  Rating  Timestamp\n0             1     1193       5  978300760\n1             1      661       3  978302109\n2             1      914       3  978301968\n3             1     3408       4  978300275\n4             1     2355       5  978824291\n...         ...      ...     ...        ...\n1000204    6040     1091       1  956716541\n1000205    6040     1094       5  956704887\n1000206    6040      562       5  956704746\n1000207    6040     1096       4  956715648\n1000208    6040     1097       4  956715569\n\n[1000209 rows x 4 columns]",
      "text/html": "<div>\n<style scoped>\n    .dataframe tbody tr th:only-of-type {\n        vertical-align: middle;\n    }\n\n    .dataframe tbody tr th {\n        vertical-align: top;\n    }\n\n    .dataframe thead th {\n        text-align: right;\n    }\n</style>\n<table border=\"1\" class=\"dataframe\">\n  <thead>\n    <tr style=\"text-align: right;\">\n      <th></th>\n      <th>UserID</th>\n      <th>MovieID</th>\n      <th>Rating</th>\n      <th>Timestamp</th>\n    </tr>\n  </thead>\n  <tbody>\n    <tr>\n      <th>0</th>\n      <td>1</td>\n      <td>1193</td>\n      <td>5</td>\n      <td>978300760</td>\n    </tr>\n    <tr>\n      <th>1</th>\n      <td>1</td>\n      <td>661</td>\n      <td>3</td>\n      <td>978302109</td>\n    </tr>\n    <tr>\n      <th>2</th>\n      <td>1</td>\n      <td>914</td>\n      <td>3</td>\n      <td>978301968</td>\n    </tr>\n    <tr>\n      <th>3</th>\n      <td>1</td>\n      <td>3408</td>\n      <td>4</td>\n      <td>978300275</td>\n    </tr>\n    <tr>\n      <th>4</th>\n      <td>1</td>\n      <td>2355</td>\n      <td>5</td>\n      <td>978824291</td>\n    </tr>\n    <tr>\n      <th>...</th>\n      <td>...</td>\n      <td>...</td>\n      <td>...</td>\n      <td>...</td>\n    </tr>\n    <tr>\n      <th>1000204</th>\n      <td>6040</td>\n      <td>1091</td>\n      <td>1</td>\n      <td>956716541</td>\n    </tr>\n    <tr>\n      <th>1000205</th>\n      <td>6040</td>\n      <td>1094</td>\n      <td>5</td>\n      <td>956704887</td>\n    </tr>\n    <tr>\n      <th>1000206</th>\n      <td>6040</td>\n      <td>562</td>\n      <td>5</td>\n      <td>956704746</td>\n    </tr>\n    <tr>\n      <th>1000207</th>\n      <td>6040</td>\n      <td>1096</td>\n      <td>4</td>\n      <td>956715648</td>\n    </tr>\n    <tr>\n      <th>1000208</th>\n      <td>6040</td>\n      <td>1097</td>\n      <td>4</td>\n      <td>956715569</td>\n    </tr>\n  </tbody>\n</table>\n<p>1000209 rows × 4 columns</p>\n</div>"
     },
     "execution_count": 9,
     "metadata": {},
     "output_type": "execute_result"
    }
   ],
   "source": [
    "ratings_df"
   ],
   "metadata": {
    "collapsed": false,
    "pycharm": {
     "name": "#%%\n"
    }
   }
  },
  {
   "cell_type": "code",
   "execution_count": 10,
   "outputs": [
    {
     "data": {
      "text/plain": "      UserID Gender  Age  Occupation Zip-code\n0          1      F    1          10    48067\n1          2      M   56          16    70072\n2          3      M   25          15    55117\n3          4      M   45           7    02460\n4          5      M   25          20    55455\n...      ...    ...  ...         ...      ...\n6035    6036      F   25          15    32603\n6036    6037      F   45           1    76006\n6037    6038      F   56           1    14706\n6038    6039      F   45           0    01060\n6039    6040      M   25           6    11106\n\n[6040 rows x 5 columns]",
      "text/html": "<div>\n<style scoped>\n    .dataframe tbody tr th:only-of-type {\n        vertical-align: middle;\n    }\n\n    .dataframe tbody tr th {\n        vertical-align: top;\n    }\n\n    .dataframe thead th {\n        text-align: right;\n    }\n</style>\n<table border=\"1\" class=\"dataframe\">\n  <thead>\n    <tr style=\"text-align: right;\">\n      <th></th>\n      <th>UserID</th>\n      <th>Gender</th>\n      <th>Age</th>\n      <th>Occupation</th>\n      <th>Zip-code</th>\n    </tr>\n  </thead>\n  <tbody>\n    <tr>\n      <th>0</th>\n      <td>1</td>\n      <td>F</td>\n      <td>1</td>\n      <td>10</td>\n      <td>48067</td>\n    </tr>\n    <tr>\n      <th>1</th>\n      <td>2</td>\n      <td>M</td>\n      <td>56</td>\n      <td>16</td>\n      <td>70072</td>\n    </tr>\n    <tr>\n      <th>2</th>\n      <td>3</td>\n      <td>M</td>\n      <td>25</td>\n      <td>15</td>\n      <td>55117</td>\n    </tr>\n    <tr>\n      <th>3</th>\n      <td>4</td>\n      <td>M</td>\n      <td>45</td>\n      <td>7</td>\n      <td>02460</td>\n    </tr>\n    <tr>\n      <th>4</th>\n      <td>5</td>\n      <td>M</td>\n      <td>25</td>\n      <td>20</td>\n      <td>55455</td>\n    </tr>\n    <tr>\n      <th>...</th>\n      <td>...</td>\n      <td>...</td>\n      <td>...</td>\n      <td>...</td>\n      <td>...</td>\n    </tr>\n    <tr>\n      <th>6035</th>\n      <td>6036</td>\n      <td>F</td>\n      <td>25</td>\n      <td>15</td>\n      <td>32603</td>\n    </tr>\n    <tr>\n      <th>6036</th>\n      <td>6037</td>\n      <td>F</td>\n      <td>45</td>\n      <td>1</td>\n      <td>76006</td>\n    </tr>\n    <tr>\n      <th>6037</th>\n      <td>6038</td>\n      <td>F</td>\n      <td>56</td>\n      <td>1</td>\n      <td>14706</td>\n    </tr>\n    <tr>\n      <th>6038</th>\n      <td>6039</td>\n      <td>F</td>\n      <td>45</td>\n      <td>0</td>\n      <td>01060</td>\n    </tr>\n    <tr>\n      <th>6039</th>\n      <td>6040</td>\n      <td>M</td>\n      <td>25</td>\n      <td>6</td>\n      <td>11106</td>\n    </tr>\n  </tbody>\n</table>\n<p>6040 rows × 5 columns</p>\n</div>"
     },
     "execution_count": 10,
     "metadata": {},
     "output_type": "execute_result"
    }
   ],
   "source": [
    "users_df"
   ],
   "metadata": {
    "collapsed": false,
    "pycharm": {
     "name": "#%%\n"
    }
   }
  },
  {
   "cell_type": "code",
   "execution_count": 18,
   "outputs": [],
   "source": [
    "from sklearn.preprocessing import MinMaxScaler\n",
    "\n",
    "ratings_df['rating_scaled'] = MinMaxScaler().fit_transform(ratings_df['Rating'].values[:, None])"
   ],
   "metadata": {
    "collapsed": false,
    "pycharm": {
     "name": "#%%\n"
    }
   }
  },
  {
   "cell_type": "code",
   "execution_count": 27,
   "outputs": [],
   "source": [
    "ratings_sorted = ratings_df.sort_values(by='Timestamp')"
   ],
   "metadata": {
    "collapsed": false,
    "pycharm": {
     "name": "#%%\n"
    }
   }
  },
  {
   "cell_type": "code",
   "execution_count": 28,
   "outputs": [],
   "source": [
    "X = ratings_sorted[['UserID', 'MovieID']].values"
   ],
   "metadata": {
    "collapsed": false,
    "pycharm": {
     "name": "#%%\n"
    }
   }
  },
  {
   "cell_type": "code",
   "execution_count": 33,
   "outputs": [],
   "source": [
    "y = ratings_sorted['rating_scaled'].values[:, None]"
   ],
   "metadata": {
    "collapsed": false,
    "pycharm": {
     "name": "#%%\n"
    }
   }
  },
  {
   "cell_type": "code",
   "execution_count": 34,
   "outputs": [
    {
     "data": {
      "text/plain": "array([[0.75],\n       [0.75],\n       [1.  ],\n       ...,\n       [0.75],\n       [0.5 ],\n       [0.75]])"
     },
     "execution_count": 34,
     "metadata": {},
     "output_type": "execute_result"
    }
   ],
   "source": [
    "y"
   ],
   "metadata": {
    "collapsed": false,
    "pycharm": {
     "name": "#%%\n"
    }
   }
  },
  {
   "cell_type": "code",
   "execution_count": 35,
   "outputs": [
    {
     "data": {
      "text/plain": "         UserID  MovieID  Rating   Timestamp  rating_scaled\n1000138    6040      858       4   956703932           0.75\n1000153    6040     2384       4   956703954           0.75\n999873     6040      593       5   956703954           1.00\n1000007    6040     1961       4   956703977           0.75\n1000192    6040     2019       5   956703977           1.00\n...         ...      ...     ...         ...            ...\n825793     4958     2399       1  1046454338           0.00\n825438     4958     1407       5  1046454443           1.00\n825724     4958     3264       4  1046454548           0.75\n825731     4958     2634       3  1046454548           0.50\n825603     4958     1924       4  1046454590           0.75\n\n[1000209 rows x 5 columns]",
      "text/html": "<div>\n<style scoped>\n    .dataframe tbody tr th:only-of-type {\n        vertical-align: middle;\n    }\n\n    .dataframe tbody tr th {\n        vertical-align: top;\n    }\n\n    .dataframe thead th {\n        text-align: right;\n    }\n</style>\n<table border=\"1\" class=\"dataframe\">\n  <thead>\n    <tr style=\"text-align: right;\">\n      <th></th>\n      <th>UserID</th>\n      <th>MovieID</th>\n      <th>Rating</th>\n      <th>Timestamp</th>\n      <th>rating_scaled</th>\n    </tr>\n  </thead>\n  <tbody>\n    <tr>\n      <th>1000138</th>\n      <td>6040</td>\n      <td>858</td>\n      <td>4</td>\n      <td>956703932</td>\n      <td>0.75</td>\n    </tr>\n    <tr>\n      <th>1000153</th>\n      <td>6040</td>\n      <td>2384</td>\n      <td>4</td>\n      <td>956703954</td>\n      <td>0.75</td>\n    </tr>\n    <tr>\n      <th>999873</th>\n      <td>6040</td>\n      <td>593</td>\n      <td>5</td>\n      <td>956703954</td>\n      <td>1.00</td>\n    </tr>\n    <tr>\n      <th>1000007</th>\n      <td>6040</td>\n      <td>1961</td>\n      <td>4</td>\n      <td>956703977</td>\n      <td>0.75</td>\n    </tr>\n    <tr>\n      <th>1000192</th>\n      <td>6040</td>\n      <td>2019</td>\n      <td>5</td>\n      <td>956703977</td>\n      <td>1.00</td>\n    </tr>\n    <tr>\n      <th>...</th>\n      <td>...</td>\n      <td>...</td>\n      <td>...</td>\n      <td>...</td>\n      <td>...</td>\n    </tr>\n    <tr>\n      <th>825793</th>\n      <td>4958</td>\n      <td>2399</td>\n      <td>1</td>\n      <td>1046454338</td>\n      <td>0.00</td>\n    </tr>\n    <tr>\n      <th>825438</th>\n      <td>4958</td>\n      <td>1407</td>\n      <td>5</td>\n      <td>1046454443</td>\n      <td>1.00</td>\n    </tr>\n    <tr>\n      <th>825724</th>\n      <td>4958</td>\n      <td>3264</td>\n      <td>4</td>\n      <td>1046454548</td>\n      <td>0.75</td>\n    </tr>\n    <tr>\n      <th>825731</th>\n      <td>4958</td>\n      <td>2634</td>\n      <td>3</td>\n      <td>1046454548</td>\n      <td>0.50</td>\n    </tr>\n    <tr>\n      <th>825603</th>\n      <td>4958</td>\n      <td>1924</td>\n      <td>4</td>\n      <td>1046454590</td>\n      <td>0.75</td>\n    </tr>\n  </tbody>\n</table>\n<p>1000209 rows × 5 columns</p>\n</div>"
     },
     "execution_count": 35,
     "metadata": {},
     "output_type": "execute_result"
    }
   ],
   "source": [
    "ratings_sorted"
   ],
   "metadata": {
    "collapsed": false,
    "pycharm": {
     "name": "#%%\n"
    }
   }
  },
  {
   "cell_type": "code",
   "execution_count": 37,
   "outputs": [],
   "source": [
    "users_df['u_id'] = users_df.index"
   ],
   "metadata": {
    "collapsed": false,
    "pycharm": {
     "name": "#%%\n"
    }
   }
  },
  {
   "cell_type": "code",
   "execution_count": 38,
   "outputs": [
    {
     "data": {
      "text/plain": "      UserID Gender  Age  Occupation Zip-code  u_id\n0          1      F    1          10    48067     0\n1          2      M   56          16    70072     1\n2          3      M   25          15    55117     2\n3          4      M   45           7    02460     3\n4          5      M   25          20    55455     4\n...      ...    ...  ...         ...      ...   ...\n6035    6036      F   25          15    32603  6035\n6036    6037      F   45           1    76006  6036\n6037    6038      F   56           1    14706  6037\n6038    6039      F   45           0    01060  6038\n6039    6040      M   25           6    11106  6039\n\n[6040 rows x 6 columns]",
      "text/html": "<div>\n<style scoped>\n    .dataframe tbody tr th:only-of-type {\n        vertical-align: middle;\n    }\n\n    .dataframe tbody tr th {\n        vertical-align: top;\n    }\n\n    .dataframe thead th {\n        text-align: right;\n    }\n</style>\n<table border=\"1\" class=\"dataframe\">\n  <thead>\n    <tr style=\"text-align: right;\">\n      <th></th>\n      <th>UserID</th>\n      <th>Gender</th>\n      <th>Age</th>\n      <th>Occupation</th>\n      <th>Zip-code</th>\n      <th>u_id</th>\n    </tr>\n  </thead>\n  <tbody>\n    <tr>\n      <th>0</th>\n      <td>1</td>\n      <td>F</td>\n      <td>1</td>\n      <td>10</td>\n      <td>48067</td>\n      <td>0</td>\n    </tr>\n    <tr>\n      <th>1</th>\n      <td>2</td>\n      <td>M</td>\n      <td>56</td>\n      <td>16</td>\n      <td>70072</td>\n      <td>1</td>\n    </tr>\n    <tr>\n      <th>2</th>\n      <td>3</td>\n      <td>M</td>\n      <td>25</td>\n      <td>15</td>\n      <td>55117</td>\n      <td>2</td>\n    </tr>\n    <tr>\n      <th>3</th>\n      <td>4</td>\n      <td>M</td>\n      <td>45</td>\n      <td>7</td>\n      <td>02460</td>\n      <td>3</td>\n    </tr>\n    <tr>\n      <th>4</th>\n      <td>5</td>\n      <td>M</td>\n      <td>25</td>\n      <td>20</td>\n      <td>55455</td>\n      <td>4</td>\n    </tr>\n    <tr>\n      <th>...</th>\n      <td>...</td>\n      <td>...</td>\n      <td>...</td>\n      <td>...</td>\n      <td>...</td>\n      <td>...</td>\n    </tr>\n    <tr>\n      <th>6035</th>\n      <td>6036</td>\n      <td>F</td>\n      <td>25</td>\n      <td>15</td>\n      <td>32603</td>\n      <td>6035</td>\n    </tr>\n    <tr>\n      <th>6036</th>\n      <td>6037</td>\n      <td>F</td>\n      <td>45</td>\n      <td>1</td>\n      <td>76006</td>\n      <td>6036</td>\n    </tr>\n    <tr>\n      <th>6037</th>\n      <td>6038</td>\n      <td>F</td>\n      <td>56</td>\n      <td>1</td>\n      <td>14706</td>\n      <td>6037</td>\n    </tr>\n    <tr>\n      <th>6038</th>\n      <td>6039</td>\n      <td>F</td>\n      <td>45</td>\n      <td>0</td>\n      <td>01060</td>\n      <td>6038</td>\n    </tr>\n    <tr>\n      <th>6039</th>\n      <td>6040</td>\n      <td>M</td>\n      <td>25</td>\n      <td>6</td>\n      <td>11106</td>\n      <td>6039</td>\n    </tr>\n  </tbody>\n</table>\n<p>6040 rows × 6 columns</p>\n</div>"
     },
     "execution_count": 38,
     "metadata": {},
     "output_type": "execute_result"
    }
   ],
   "source": [
    "users_df"
   ],
   "metadata": {
    "collapsed": false,
    "pycharm": {
     "name": "#%%\n"
    }
   }
  },
  {
   "cell_type": "code",
   "execution_count": 39,
   "outputs": [],
   "source": [
    "movies_df['m_id'] = movies_df.index"
   ],
   "metadata": {
    "collapsed": false,
    "pycharm": {
     "name": "#%%\n"
    }
   }
  },
  {
   "cell_type": "code",
   "execution_count": 40,
   "outputs": [
    {
     "data": {
      "text/plain": "      MovieID                               Title  \\\n0           1                    Toy Story (1995)   \n1           2                      Jumanji (1995)   \n2           3             Grumpier Old Men (1995)   \n3           4            Waiting to Exhale (1995)   \n4           5  Father of the Bride Part II (1995)   \n...       ...                                 ...   \n3878     3948             Meet the Parents (2000)   \n3879     3949          Requiem for a Dream (2000)   \n3880     3950                    Tigerland (2000)   \n3881     3951             Two Family House (2000)   \n3882     3952               Contender, The (2000)   \n\n                            Genres  train_id  movie_id  m_id  \n0      Animation|Children's|Comedy         0         0     0  \n1     Adventure|Children's|Fantasy         1         1     1  \n2                   Comedy|Romance         2         2     2  \n3                     Comedy|Drama         3         3     3  \n4                           Comedy         4         4     4  \n...                            ...       ...       ...   ...  \n3878                        Comedy      3878      3878  3878  \n3879                         Drama      3879      3879  3879  \n3880                         Drama      3880      3880  3880  \n3881                         Drama      3881      3881  3881  \n3882                Drama|Thriller      3882      3882  3882  \n\n[3883 rows x 6 columns]",
      "text/html": "<div>\n<style scoped>\n    .dataframe tbody tr th:only-of-type {\n        vertical-align: middle;\n    }\n\n    .dataframe tbody tr th {\n        vertical-align: top;\n    }\n\n    .dataframe thead th {\n        text-align: right;\n    }\n</style>\n<table border=\"1\" class=\"dataframe\">\n  <thead>\n    <tr style=\"text-align: right;\">\n      <th></th>\n      <th>MovieID</th>\n      <th>Title</th>\n      <th>Genres</th>\n      <th>train_id</th>\n      <th>movie_id</th>\n      <th>m_id</th>\n    </tr>\n  </thead>\n  <tbody>\n    <tr>\n      <th>0</th>\n      <td>1</td>\n      <td>Toy Story (1995)</td>\n      <td>Animation|Children's|Comedy</td>\n      <td>0</td>\n      <td>0</td>\n      <td>0</td>\n    </tr>\n    <tr>\n      <th>1</th>\n      <td>2</td>\n      <td>Jumanji (1995)</td>\n      <td>Adventure|Children's|Fantasy</td>\n      <td>1</td>\n      <td>1</td>\n      <td>1</td>\n    </tr>\n    <tr>\n      <th>2</th>\n      <td>3</td>\n      <td>Grumpier Old Men (1995)</td>\n      <td>Comedy|Romance</td>\n      <td>2</td>\n      <td>2</td>\n      <td>2</td>\n    </tr>\n    <tr>\n      <th>3</th>\n      <td>4</td>\n      <td>Waiting to Exhale (1995)</td>\n      <td>Comedy|Drama</td>\n      <td>3</td>\n      <td>3</td>\n      <td>3</td>\n    </tr>\n    <tr>\n      <th>4</th>\n      <td>5</td>\n      <td>Father of the Bride Part II (1995)</td>\n      <td>Comedy</td>\n      <td>4</td>\n      <td>4</td>\n      <td>4</td>\n    </tr>\n    <tr>\n      <th>...</th>\n      <td>...</td>\n      <td>...</td>\n      <td>...</td>\n      <td>...</td>\n      <td>...</td>\n      <td>...</td>\n    </tr>\n    <tr>\n      <th>3878</th>\n      <td>3948</td>\n      <td>Meet the Parents (2000)</td>\n      <td>Comedy</td>\n      <td>3878</td>\n      <td>3878</td>\n      <td>3878</td>\n    </tr>\n    <tr>\n      <th>3879</th>\n      <td>3949</td>\n      <td>Requiem for a Dream (2000)</td>\n      <td>Drama</td>\n      <td>3879</td>\n      <td>3879</td>\n      <td>3879</td>\n    </tr>\n    <tr>\n      <th>3880</th>\n      <td>3950</td>\n      <td>Tigerland (2000)</td>\n      <td>Drama</td>\n      <td>3880</td>\n      <td>3880</td>\n      <td>3880</td>\n    </tr>\n    <tr>\n      <th>3881</th>\n      <td>3951</td>\n      <td>Two Family House (2000)</td>\n      <td>Drama</td>\n      <td>3881</td>\n      <td>3881</td>\n      <td>3881</td>\n    </tr>\n    <tr>\n      <th>3882</th>\n      <td>3952</td>\n      <td>Contender, The (2000)</td>\n      <td>Drama|Thriller</td>\n      <td>3882</td>\n      <td>3882</td>\n      <td>3882</td>\n    </tr>\n  </tbody>\n</table>\n<p>3883 rows × 6 columns</p>\n</div>"
     },
     "execution_count": 40,
     "metadata": {},
     "output_type": "execute_result"
    }
   ],
   "source": [
    "movies_df"
   ],
   "metadata": {
    "collapsed": false,
    "pycharm": {
     "name": "#%%\n"
    }
   }
  },
  {
   "cell_type": "code",
   "execution_count": 43,
   "outputs": [],
   "source": [
    "r = ratings_sorted.merge(movies_df[['MovieID', 'm_id']], left_on='MovieID', right_on='MovieID')"
   ],
   "metadata": {
    "collapsed": false,
    "pycharm": {
     "name": "#%%\n"
    }
   }
  },
  {
   "cell_type": "code",
   "execution_count": 44,
   "outputs": [
    {
     "data": {
      "text/plain": "         UserID  MovieID  Rating   Timestamp  rating_scaled  m_id\n0          6040      858       4   956703932           0.75   847\n1          6037      858       5   956709118           1.00   847\n2          6033      858       4   956713838           0.75   847\n3          6028      858       4   956723393           0.75   847\n4          6026      858       4   956725396           0.75   847\n...         ...      ...     ...         ...            ...   ...\n1000204     454      658       3  1025574350           0.50   652\n1000205     549     3291       2  1029337483           0.25  3222\n1000206    4579     3315       2  1033002064           0.25  3246\n1000207    2063     2592       3  1035152972           0.50  2523\n1000208    1812     2226       3  1036451763           0.50  2157\n\n[1000209 rows x 6 columns]",
      "text/html": "<div>\n<style scoped>\n    .dataframe tbody tr th:only-of-type {\n        vertical-align: middle;\n    }\n\n    .dataframe tbody tr th {\n        vertical-align: top;\n    }\n\n    .dataframe thead th {\n        text-align: right;\n    }\n</style>\n<table border=\"1\" class=\"dataframe\">\n  <thead>\n    <tr style=\"text-align: right;\">\n      <th></th>\n      <th>UserID</th>\n      <th>MovieID</th>\n      <th>Rating</th>\n      <th>Timestamp</th>\n      <th>rating_scaled</th>\n      <th>m_id</th>\n    </tr>\n  </thead>\n  <tbody>\n    <tr>\n      <th>0</th>\n      <td>6040</td>\n      <td>858</td>\n      <td>4</td>\n      <td>956703932</td>\n      <td>0.75</td>\n      <td>847</td>\n    </tr>\n    <tr>\n      <th>1</th>\n      <td>6037</td>\n      <td>858</td>\n      <td>5</td>\n      <td>956709118</td>\n      <td>1.00</td>\n      <td>847</td>\n    </tr>\n    <tr>\n      <th>2</th>\n      <td>6033</td>\n      <td>858</td>\n      <td>4</td>\n      <td>956713838</td>\n      <td>0.75</td>\n      <td>847</td>\n    </tr>\n    <tr>\n      <th>3</th>\n      <td>6028</td>\n      <td>858</td>\n      <td>4</td>\n      <td>956723393</td>\n      <td>0.75</td>\n      <td>847</td>\n    </tr>\n    <tr>\n      <th>4</th>\n      <td>6026</td>\n      <td>858</td>\n      <td>4</td>\n      <td>956725396</td>\n      <td>0.75</td>\n      <td>847</td>\n    </tr>\n    <tr>\n      <th>...</th>\n      <td>...</td>\n      <td>...</td>\n      <td>...</td>\n      <td>...</td>\n      <td>...</td>\n      <td>...</td>\n    </tr>\n    <tr>\n      <th>1000204</th>\n      <td>454</td>\n      <td>658</td>\n      <td>3</td>\n      <td>1025574350</td>\n      <td>0.50</td>\n      <td>652</td>\n    </tr>\n    <tr>\n      <th>1000205</th>\n      <td>549</td>\n      <td>3291</td>\n      <td>2</td>\n      <td>1029337483</td>\n      <td>0.25</td>\n      <td>3222</td>\n    </tr>\n    <tr>\n      <th>1000206</th>\n      <td>4579</td>\n      <td>3315</td>\n      <td>2</td>\n      <td>1033002064</td>\n      <td>0.25</td>\n      <td>3246</td>\n    </tr>\n    <tr>\n      <th>1000207</th>\n      <td>2063</td>\n      <td>2592</td>\n      <td>3</td>\n      <td>1035152972</td>\n      <td>0.50</td>\n      <td>2523</td>\n    </tr>\n    <tr>\n      <th>1000208</th>\n      <td>1812</td>\n      <td>2226</td>\n      <td>3</td>\n      <td>1036451763</td>\n      <td>0.50</td>\n      <td>2157</td>\n    </tr>\n  </tbody>\n</table>\n<p>1000209 rows × 6 columns</p>\n</div>"
     },
     "execution_count": 44,
     "metadata": {},
     "output_type": "execute_result"
    }
   ],
   "source": [
    "r"
   ],
   "metadata": {
    "collapsed": false,
    "pycharm": {
     "name": "#%%\n"
    }
   }
  },
  {
   "cell_type": "code",
   "execution_count": 47,
   "outputs": [],
   "source": [
    "r = ratings_sorted.merge(users_df[['UserID', 'u_id']], left_on='UserID', right_on='UserID')"
   ],
   "metadata": {
    "collapsed": false,
    "pycharm": {
     "name": "#%%\n"
    }
   }
  },
  {
   "cell_type": "code",
   "execution_count": 48,
   "outputs": [
    {
     "data": {
      "text/plain": "         UserID  MovieID  Rating   Timestamp  rating_scaled  u_id\n0          6040      858       4   956703932           0.75  6039\n1          6040     2384       4   956703954           0.75  6039\n2          6040      593       5   956703954           1.00  6039\n3          6040     1961       4   956703977           0.75  6039\n4          6040     2019       5   956703977           1.00  6039\n...         ...      ...     ...         ...            ...   ...\n1000204    2947      356       2  1037807918           0.25  2946\n1000205    2947     2318       2  1037807954           0.25  2946\n1000206    2947     2700       3  1037807993           0.50  2946\n1000207    2947       45       4  1037808019           0.75  2946\n1000208    2947     1732       3  1037992675           0.50  2946\n\n[1000209 rows x 6 columns]",
      "text/html": "<div>\n<style scoped>\n    .dataframe tbody tr th:only-of-type {\n        vertical-align: middle;\n    }\n\n    .dataframe tbody tr th {\n        vertical-align: top;\n    }\n\n    .dataframe thead th {\n        text-align: right;\n    }\n</style>\n<table border=\"1\" class=\"dataframe\">\n  <thead>\n    <tr style=\"text-align: right;\">\n      <th></th>\n      <th>UserID</th>\n      <th>MovieID</th>\n      <th>Rating</th>\n      <th>Timestamp</th>\n      <th>rating_scaled</th>\n      <th>u_id</th>\n    </tr>\n  </thead>\n  <tbody>\n    <tr>\n      <th>0</th>\n      <td>6040</td>\n      <td>858</td>\n      <td>4</td>\n      <td>956703932</td>\n      <td>0.75</td>\n      <td>6039</td>\n    </tr>\n    <tr>\n      <th>1</th>\n      <td>6040</td>\n      <td>2384</td>\n      <td>4</td>\n      <td>956703954</td>\n      <td>0.75</td>\n      <td>6039</td>\n    </tr>\n    <tr>\n      <th>2</th>\n      <td>6040</td>\n      <td>593</td>\n      <td>5</td>\n      <td>956703954</td>\n      <td>1.00</td>\n      <td>6039</td>\n    </tr>\n    <tr>\n      <th>3</th>\n      <td>6040</td>\n      <td>1961</td>\n      <td>4</td>\n      <td>956703977</td>\n      <td>0.75</td>\n      <td>6039</td>\n    </tr>\n    <tr>\n      <th>4</th>\n      <td>6040</td>\n      <td>2019</td>\n      <td>5</td>\n      <td>956703977</td>\n      <td>1.00</td>\n      <td>6039</td>\n    </tr>\n    <tr>\n      <th>...</th>\n      <td>...</td>\n      <td>...</td>\n      <td>...</td>\n      <td>...</td>\n      <td>...</td>\n      <td>...</td>\n    </tr>\n    <tr>\n      <th>1000204</th>\n      <td>2947</td>\n      <td>356</td>\n      <td>2</td>\n      <td>1037807918</td>\n      <td>0.25</td>\n      <td>2946</td>\n    </tr>\n    <tr>\n      <th>1000205</th>\n      <td>2947</td>\n      <td>2318</td>\n      <td>2</td>\n      <td>1037807954</td>\n      <td>0.25</td>\n      <td>2946</td>\n    </tr>\n    <tr>\n      <th>1000206</th>\n      <td>2947</td>\n      <td>2700</td>\n      <td>3</td>\n      <td>1037807993</td>\n      <td>0.50</td>\n      <td>2946</td>\n    </tr>\n    <tr>\n      <th>1000207</th>\n      <td>2947</td>\n      <td>45</td>\n      <td>4</td>\n      <td>1037808019</td>\n      <td>0.75</td>\n      <td>2946</td>\n    </tr>\n    <tr>\n      <th>1000208</th>\n      <td>2947</td>\n      <td>1732</td>\n      <td>3</td>\n      <td>1037992675</td>\n      <td>0.50</td>\n      <td>2946</td>\n    </tr>\n  </tbody>\n</table>\n<p>1000209 rows × 6 columns</p>\n</div>"
     },
     "execution_count": 48,
     "metadata": {},
     "output_type": "execute_result"
    }
   ],
   "source": [
    "r"
   ],
   "metadata": {
    "collapsed": false,
    "pycharm": {
     "name": "#%%\n"
    }
   }
  },
  {
   "cell_type": "code",
   "execution_count": null,
   "outputs": [],
   "source": [],
   "metadata": {
    "collapsed": false,
    "pycharm": {
     "name": "#%%\n"
    }
   }
  }
 ],
 "metadata": {
  "kernelspec": {
   "display_name": "Python 3",
   "language": "python",
   "name": "python3"
  },
  "language_info": {
   "codemirror_mode": {
    "name": "ipython",
    "version": 2
   },
   "file_extension": ".py",
   "mimetype": "text/x-python",
   "name": "python",
   "nbconvert_exporter": "python",
   "pygments_lexer": "ipython2",
   "version": "2.7.6"
  }
 },
 "nbformat": 4,
 "nbformat_minor": 0
}