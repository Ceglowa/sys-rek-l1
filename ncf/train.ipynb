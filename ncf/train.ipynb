{
 "cells": [
  {
   "cell_type": "code",
   "execution_count": 1,
   "outputs": [],
   "source": [
    "%load_ext autoreload\n",
    "%autoreload 2"
   ],
   "metadata": {
    "collapsed": false,
    "pycharm": {
     "name": "#%%\n"
    }
   }
  },
  {
   "cell_type": "code",
   "execution_count": 2,
   "outputs": [
    {
     "name": "stderr",
     "output_type": "stream",
     "text": [
      "Global seed set to 42\n",
      "wandb: Currently logged in as: szymon_wozniak (use `wandb login --relogin` to force relogin)\n"
     ]
    }
   ],
   "source": [
    "from pytorch_lightning.utilities.seed import seed_everything\n",
    "from pytorch_lightning.loggers import WandbLogger\n",
    "from pytorch_lightning import Trainer\n",
    "import wandb\n",
    "\n",
    "seed_everything(42)\n",
    "wandb.login()\n",
    "wandb_logger = WandbLogger(project='neural-collaborative-filtering')"
   ],
   "metadata": {
    "collapsed": false,
    "pycharm": {
     "name": "#%%\n"
    }
   }
  },
  {
   "cell_type": "code",
   "execution_count": 3,
   "outputs": [
    {
     "name": "stderr",
     "output_type": "stream",
     "text": [
      "GPU available: True, used: True\n",
      "TPU available: None, using: 0 TPU cores\n"
     ]
    }
   ],
   "source": [
    "from ncf import NCF\n",
    "from movielens_dataset import MovielensDataModule\n",
    "data = MovielensDataModule()\n",
    "\n",
    "data.setup()\n",
    "\n",
    "trainer = Trainer(\n",
    "    logger=wandb_logger,\n",
    "    max_epochs=5,\n",
    "    gpus=-1\n",
    ")\n",
    "\n",
    "\n",
    "model = NCF(16, 64, 32, 0.2, data.n_users(), data.n_movies())"
   ],
   "metadata": {
    "collapsed": false,
    "pycharm": {
     "name": "#%%\n"
    }
   }
  },
  {
   "cell_type": "code",
   "execution_count": 4,
   "outputs": [
    {
     "data": {
      "text/plain": "<IPython.core.display.HTML object>",
      "text/html": "\n                Tracking run with wandb version 0.10.23<br/>\n                Syncing run <strong style=\"color:#cdcd00\">genial-disco-7</strong> to <a href=\"https://wandb.ai\" target=\"_blank\">Weights & Biases</a> <a href=\"https://docs.wandb.com/integrations/jupyter.html\" target=\"_blank\">(Documentation)</a>.<br/>\n                Project page: <a href=\"https://wandb.ai/szymon_wozniak/neural-collaborative-filtering\" target=\"_blank\">https://wandb.ai/szymon_wozniak/neural-collaborative-filtering</a><br/>\n                Run page: <a href=\"https://wandb.ai/szymon_wozniak/neural-collaborative-filtering/runs/2giis9h3\" target=\"_blank\">https://wandb.ai/szymon_wozniak/neural-collaborative-filtering/runs/2giis9h3</a><br/>\n                Run data is saved locally in <code>C:\\Users\\Szymon\\projects\\recommendation\\sys-rek-l1\\ncf\\wandb\\run-20210323_212718-2giis9h3</code><br/><br/>\n            "
     },
     "metadata": {},
     "output_type": "display_data"
    },
    {
     "name": "stderr",
     "output_type": "stream",
     "text": [
      "\n",
      "  | Name           | Type      | Params\n",
      "---------------------------------------------\n",
      "0 | user_embedding | Embedding | 96.6 K\n",
      "1 | item_embedding | Embedding | 62.1 K\n",
      "2 | fc1            | Linear    | 2.1 K \n",
      "3 | d1             | Dropout   | 0     \n",
      "4 | fc2            | Linear    | 2.1 K \n",
      "5 | d2             | Dropout   | 0     \n",
      "6 | output         | Linear    | 33    \n",
      "---------------------------------------------\n",
      "162 K     Trainable params\n",
      "0         Non-trainable params\n",
      "162 K     Total params\n",
      "0.652     Total estimated model params size (MB)\n"
     ]
    },
    {
     "data": {
      "text/plain": "Validation sanity check: 0it [00:00, ?it/s]",
      "application/vnd.jupyter.widget-view+json": {
       "version_major": 2,
       "version_minor": 0,
       "model_id": "674bcecb99794058b4a8e1b067f540ec"
      }
     },
     "metadata": {},
     "output_type": "display_data"
    },
    {
     "data": {
      "text/plain": "Training: 0it [00:00, ?it/s]",
      "application/vnd.jupyter.widget-view+json": {
       "version_major": 2,
       "version_minor": 0,
       "model_id": "4e22fe90719b42d1b11118a0f3a061a8"
      }
     },
     "metadata": {},
     "output_type": "display_data"
    },
    {
     "data": {
      "text/plain": "Validating: 0it [00:00, ?it/s]",
      "application/vnd.jupyter.widget-view+json": {
       "version_major": 2,
       "version_minor": 0,
       "model_id": "25e2eea983984252aa43dac37f3c108f"
      }
     },
     "metadata": {},
     "output_type": "display_data"
    },
    {
     "data": {
      "text/plain": "Validating: 0it [00:00, ?it/s]",
      "application/vnd.jupyter.widget-view+json": {
       "version_major": 2,
       "version_minor": 0,
       "model_id": "e62335f071e446ffa95f245bb6b2c4ca"
      }
     },
     "metadata": {},
     "output_type": "display_data"
    },
    {
     "data": {
      "text/plain": "Validating: 0it [00:00, ?it/s]",
      "application/vnd.jupyter.widget-view+json": {
       "version_major": 2,
       "version_minor": 0,
       "model_id": "d37e7b12159240839ae495a6551300b4"
      }
     },
     "metadata": {},
     "output_type": "display_data"
    },
    {
     "data": {
      "text/plain": "Validating: 0it [00:00, ?it/s]",
      "application/vnd.jupyter.widget-view+json": {
       "version_major": 2,
       "version_minor": 0,
       "model_id": "56552cc5888e466bad4c0e15bfe6f338"
      }
     },
     "metadata": {},
     "output_type": "display_data"
    },
    {
     "data": {
      "text/plain": "Validating: 0it [00:00, ?it/s]",
      "application/vnd.jupyter.widget-view+json": {
       "version_major": 2,
       "version_minor": 0,
       "model_id": "f53a567bb1fa4474a89d45e4d2d7362a"
      }
     },
     "metadata": {},
     "output_type": "display_data"
    },
    {
     "data": {
      "text/plain": "1"
     },
     "execution_count": 4,
     "metadata": {},
     "output_type": "execute_result"
    }
   ],
   "source": [
    "trainer.fit(model, data)"
   ],
   "metadata": {
    "collapsed": false,
    "pycharm": {
     "name": "#%%\n"
    }
   }
  },
  {
   "cell_type": "code",
   "execution_count": 5,
   "outputs": [],
   "source": [
    "def show_user_known_ratings(user_id, top_ratings: int, data: MovielensDataModule):\n",
    "    whole_data = data.users.merge(data.ratings, left_on='UserID', right_on='UserID').merge(data.movies, left_on='MovieID', right_on='MovieID')\n",
    "    user_ratings = whole_data[whole_data['UserID'] == user_id]\n",
    "    ratings_ordered = user_ratings.sort_values(by=['Rating', 'Timestamp'], ascending=[False, True])\n",
    "    top = ratings_ordered.head(top_ratings)[['MovieID', 'Title', 'Genres', 'Rating']]\n",
    "    return top"
   ],
   "metadata": {
    "collapsed": false,
    "pycharm": {
     "name": "#%%\n"
    }
   }
  },
  {
   "cell_type": "code",
   "execution_count": 6,
   "outputs": [],
   "source": [
    "import torch\n",
    "\n",
    "def get_user_unrated_movies(user_id: int, data: MovielensDataModule):\n",
    "    user_ratings = data.ratings[data.ratings['UserID'] == user_id]\n",
    "    temp_movies = data.movies.merge(user_ratings, how='left', indicator=True)\n",
    "    unrated_movies = temp_movies[temp_movies['_merge'] == \"left_only\"][['MovieID', 'Title', 'Genres', 'm_id']]\n",
    "    return unrated_movies\n",
    "\n",
    "def recommend_new_movies(user_id, data: MovielensDataModule, model: NCF):\n",
    "    unrated_movies = get_user_unrated_movies(user_id, data)\n",
    "    unrated_movies['UserID'] = user_id\n",
    "    unrated_movies['u_id'] = data.users[data.users['UserID'] == user_id]['u_id'].values[0]\n",
    "    model_user_ids = torch.from_numpy(unrated_movies['u_id'].values[:, None])\n",
    "    model_movies_ids = torch.from_numpy(unrated_movies['m_id'].values[:, None])\n",
    "\n",
    "    predictions = model(model_user_ids, model_movies_ids).detach().squeeze(-1).numpy()\n",
    "    print(predictions.shape)\n",
    "    unrated_movies['predicted'] = predictions\n",
    "    unrated_movies.sort_values(by='predicted', ascending=False, inplace=True)\n",
    "    return unrated_movies"
   ],
   "metadata": {
    "collapsed": false,
    "pycharm": {
     "name": "#%%\n"
    }
   }
  },
  {
   "cell_type": "code",
   "execution_count": 16,
   "outputs": [
    {
     "data": {
      "text/plain": "        MovieID                                              Title  \\\n66518      1293                                      Gandhi (1982)   \n67349      1225                                     Amadeus (1984)   \n12641      1193             One Flew Over the Cuckoo's Nest (1975)   \n68731       318                   Shawshank Redemption, The (1994)   \n74601      1945                           On the Waterfront (1954)   \n77298       593                   Silence of the Lambs, The (1991)   \n79876       515                     Remains of the Day, The (1993)   \n80326      3468                                Hustler, The (1961)   \n82178      2501                                 October Sky (1999)   \n83187       110                                  Braveheart (1995)   \n85630      2067                              Doctor Zhivago (1965)   \n86194      3147                             Green Mile, The (1999)   \n87416      1247                               Graduate, The (1967)   \n88677      1357                                       Shine (1996)   \n89225      1196  Star Wars: Episode V - The Empire Strikes Back...   \n92215      1957                            Chariots of Fire (1981)   \n93710       920                          Gone with the Wind (1939)   \n25401      1962                          Driving Miss Daisy (1989)   \n97042      3471          Close Encounters of the Third Kind (1977)   \n98493      1259                                 Stand by Me (1986)   \n100278     1954                                       Rocky (1976)   \n101407     1784                          As Good As It Gets (1997)   \n106388     3578                                   Gladiator (2000)   \n110255      590                          Dances with Wolves (1990)   \n114985     2236                                 Simon Birch (1998)   \n116556     2268                             Few Good Men, A (1992)   \n36463      1246                          Dead Poets Society (1989)   \n120475     1124                              On Golden Pond (1981)   \n125537      356                                Forrest Gump (1994)   \n141001      480                               Jurassic Park (1993)   \n144213      380                                   True Lies (1994)   \n145613     1610                   Hunt for Red October, The (1990)   \n156472     1370                                  Die Hard 2 (1990)   \n175032     2002                             Lethal Weapon 3 (1992)   \n60199      1198                     Raiders of the Lost Ark (1981)   \n62713      1210  Star Wars: Episode VI - Return of the Jedi (1983)   \n67189      2943                                   Indochine (1992)   \n70958      2858                             American Beauty (1999)   \n74386      3030                                     Yojimbo (1961)   \n6932       1207                       To Kill a Mockingbird (1962)   \n76777      3095                        Grapes of Wrath, The (1940)   \n80776      1873                             Mis�rables, Les (1998)   \n82766      3035                              Mister Roberts (1955)   \n23652      3105                                  Awakenings (1990)   \n92849      1953                      French Connection, The (1971)   \n95552      1834                       Spanish Prisoner, The (1997)   \n105874     3451                Guess Who's Coming to Dinner (1967)   \n108312     3334                                   Key Largo (1948)   \n108773     3068                                Verdict, The (1982)   \n109152      265  Like Water for Chocolate (Como agua para choco...   \n112265     3071                           Stand and Deliver (1987)   \n114175     1955                           Kramer Vs. Kramer (1979)   \n115277      982                                      Picnic (1955)   \n115358     2194                           Untouchables, The (1987)   \n116485     1442                                 Prefontaine (1997)   \n117617     3255                      League of Their Own, A (1992)   \n120084     1096                             Sophie's Choice (1982)   \n121439     1537           Shall We Dance? (Shall We Dansu?) (1996)   \n121789     1188                           Strictly Ballroom (1992)   \n122465     2396                         Shakespeare in Love (1998)   \n20999      2028                         Saving Private Ryan (1998)   \n131771      589                  Terminator 2: Judgment Day (1991)   \n134420      457                               Fugitive, The (1993)   \n136415     2571                                 Matrix, The (1999)   \n143673      163                                   Desperado (1995)   \n147265     3418                             Thelma & Louise (1991)   \n150709      349                    Clear and Present Danger (1994)   \n153124     1527                          Fifth Element, The (1997)   \n155484     2353                          Enemy of the State (1998)   \n159216      648                         Mission: Impossible (1996)   \n166935      368                                    Maverick (1994)   \n175834      736                                     Twister (1996)   \n180606     1544              Lost World: Jurassic Park, The (1997)   \n65596      1217                                         Ran (1985)   \n65953      2717                             Ghostbusters II (1989)   \n94866      1084                            Bonnie and Clyde (1967)   \n96045      3735                                     Serpico (1973)   \n96540      3654                       Guns of Navarone, The (1961)   \n104370     2728                                   Spartacus (1960)   \n105472     1103                       Rebel Without a Cause (1955)   \n106224     2852                          Soldier's Story, A (1984)   \n109924     2312                    Children of a Lesser God (1986)   \n111706     1253              Day the Earth Stood Still, The (1951)   \n112592     1244                                   Manhattan (1979)   \n115187     3678                Man with the Golden Arm, The (1955)   \n118716      235                                     Ed Wood (1994)   \n119643      647                          Courage Under Fire (1996)   \n120428      498                                   Mr. Jones (1993)   \n42970      2321                               Pleasantville (1998)   \n124834     2359                           Waking Ned Devine (1998)   \n127731     3108                            Fisher King, The (1991)   \n128676     1265                               Groundhog Day (1993)   \n130954     3809                             What About Bob? (1991)   \n139005     2916                                Total Recall (1990)   \n149734     1408                   Last of the Mohicans, The (1992)   \n154501     2006                          Mask of Zorro, The (1998)   \n157607     2278                                       Ronin (1998)   \n160743     1372      Star Trek VI: The Undiscovered Country (1991)   \n161744     1552                                     Con Air (1997)   \n162698     1792                              U.S. Marshalls (1998)   \n163146      780                      Independence Day (ID4) (1996)   \n164876     1385                                 Under Siege (1992)   \n165337     2490                                     Payback (1999)   \n166110      165                  Die Hard: With a Vengeance (1995)   \n167737     2881                             Double Jeopardy (1999)   \n169392      459                                Getaway, The (1994)   \n169535     1801                   Man in the Iron Mask, The (1998)   \n169926     1597                           Conspiracy Theory (1997)   \n170737      442                              Demolition Man (1993)   \n171377     2628   Star Wars: Episode I - The Phantom Menace (1999)   \n173627     1690                         Alien: Resurrection (1997)   \n174406     3257                              Bodyguard, The (1992)   \n176944      292                                    Outbreak (1995)   \n177677     2126                                  Snake Eyes (1998)   \n179496     1917                                  Armageddon (1998)   \n181861     1687                                 Jackal, The (1997)   \n75120      1213                                  GoodFellas (1990)   \n81035      1090                                     Platoon (1986)   \n102831     1968                         Breakfast Club, The (1985)   \n104796      902                      Breakfast at Tiffany's (1961)   \n113310     3699                                     Starman (1984)   \n114627     1245                           Miller's Crossing (1990)   \n148682     3256                               Patriot Games (1992)   \n158413     2427                          Thin Red Line, The (1998)   \n168523     3107                                   Backdraft (1991)   \n178172       95                                Broken Arrow (1996)   \n178810      434                                 Cliffhanger (1993)   \n120880     3893                                 Nurse Betty (2000)   \n151768       21                                  Get Shorty (1995)   \n\n                                     Genres  Rating  \n66518                                 Drama       5  \n67349                                 Drama       5  \n12641                                 Drama       5  \n68731                                 Drama       5  \n74601                           Crime|Drama       5  \n77298                        Drama|Thriller       5  \n79876                                 Drama       5  \n80326                                 Drama       5  \n82178                                 Drama       5  \n83187                      Action|Drama|War       5  \n85630                     Drama|Romance|War       5  \n86194                        Drama|Thriller       5  \n87416                         Drama|Romance       5  \n88677                         Drama|Romance       5  \n89225     Action|Adventure|Drama|Sci-Fi|War       5  \n92215                                 Drama       5  \n93710                     Drama|Romance|War       5  \n25401                                 Drama       5  \n97042                          Drama|Sci-Fi       5  \n98493                Adventure|Comedy|Drama       5  \n100278                         Action|Drama       5  \n101407                         Comedy|Drama       5  \n106388                         Action|Drama       5  \n110255              Adventure|Drama|Western       5  \n114985                                Drama       5  \n116556                          Crime|Drama       5  \n36463                                 Drama       5  \n120475                                Drama       5  \n125537                   Comedy|Romance|War       5  \n141001              Action|Adventure|Sci-Fi       5  \n144213      Action|Adventure|Comedy|Romance       5  \n145613                      Action|Thriller       5  \n156472                      Action|Thriller       5  \n175032            Action|Comedy|Crime|Drama       5  \n60199                      Action|Adventure       4  \n62713   Action|Adventure|Romance|Sci-Fi|War       4  \n67189                         Drama|Romance       4  \n70958                          Comedy|Drama       4  \n74386                  Comedy|Drama|Western       4  \n6932                                  Drama       4  \n76777                                 Drama       4  \n80776                                 Drama       4  \n82766                      Comedy|Drama|War       4  \n23652                                 Drama       4  \n92849           Action|Crime|Drama|Thriller       4  \n95552                        Drama|Thriller       4  \n105874                         Comedy|Drama       4  \n108312       Crime|Drama|Film-Noir|Thriller       4  \n108773                                Drama       4  \n109152                        Drama|Romance       4  \n112265                                Drama       4  \n114175                                Drama       4  \n115277                                Drama       4  \n115358                   Action|Crime|Drama       4  \n116485                                Drama       4  \n117617                         Comedy|Drama       4  \n120084                                Drama       4  \n121439                               Comedy       4  \n121789                       Comedy|Romance       4  \n122465                       Comedy|Romance       4  \n20999                      Action|Drama|War       4  \n131771               Action|Sci-Fi|Thriller       4  \n134420                      Action|Thriller       4  \n136415               Action|Sci-Fi|Thriller       4  \n143673              Action|Romance|Thriller       4  \n147265                         Action|Drama       4  \n150709            Action|Adventure|Thriller       4  \n153124                        Action|Sci-Fi       4  \n155484                      Action|Thriller       4  \n159216             Action|Adventure|Mystery       4  \n166935                Action|Comedy|Western       4  \n175834    Action|Adventure|Romance|Thriller       4  \n180606     Action|Adventure|Sci-Fi|Thriller       4  \n65596                             Drama|War       3  \n65953                         Comedy|Horror       3  \n94866                           Crime|Drama       3  \n96045                           Crime|Drama       3  \n96540                      Action|Drama|War       3  \n104370                                Drama       3  \n105472                                Drama       3  \n106224                                Drama       3  \n109924                                Drama       3  \n111706                         Drama|Sci-Fi       3  \n112592                 Comedy|Drama|Romance       3  \n115187                                Drama       3  \n118716                         Comedy|Drama       3  \n119643                            Drama|War       3  \n120428                        Drama|Romance       3  \n42970                                Comedy       3  \n124834                               Comedy       3  \n127731                 Comedy|Drama|Romance       3  \n128676                       Comedy|Romance       3  \n130954                               Comedy       3  \n139005     Action|Adventure|Sci-Fi|Thriller       3  \n149734                   Action|Romance|War       3  \n154501             Action|Adventure|Romance       3  \n157607                Action|Crime|Thriller       3  \n160743              Action|Adventure|Sci-Fi       3  \n161744            Action|Adventure|Thriller       3  \n162698                      Action|Thriller       3  \n163146                    Action|Sci-Fi|War       3  \n164876                               Action       3  \n165337                      Action|Thriller       3  \n166110                      Action|Thriller       3  \n167737                      Action|Thriller       3  \n169392                               Action       3  \n169535                 Action|Drama|Romance       3  \n169926      Action|Mystery|Romance|Thriller       3  \n170737                        Action|Sci-Fi       3  \n171377      Action|Adventure|Fantasy|Sci-Fi       3  \n173627                 Action|Horror|Sci-Fi       3  \n174406        Action|Drama|Romance|Thriller       3  \n176944                Action|Drama|Thriller       3  \n177677        Action|Crime|Mystery|Thriller       3  \n179496     Action|Adventure|Sci-Fi|Thriller       3  \n181861                      Action|Thriller       3  \n75120                           Crime|Drama       2  \n81035                             Drama|War       2  \n102831                         Comedy|Drama       2  \n104796                        Drama|Romance       2  \n113310       Adventure|Drama|Romance|Sci-Fi       2  \n114627                                Drama       2  \n148682                      Action|Thriller       2  \n158413                     Action|Drama|War       2  \n168523                         Action|Drama       2  \n178172                      Action|Thriller       2  \n178810               Action|Adventure|Crime       2  \n120880                      Comedy|Thriller       1  \n151768                  Action|Comedy|Drama       1  ",
      "text/html": "<div>\n<style scoped>\n    .dataframe tbody tr th:only-of-type {\n        vertical-align: middle;\n    }\n\n    .dataframe tbody tr th {\n        vertical-align: top;\n    }\n\n    .dataframe thead th {\n        text-align: right;\n    }\n</style>\n<table border=\"1\" class=\"dataframe\">\n  <thead>\n    <tr style=\"text-align: right;\">\n      <th></th>\n      <th>MovieID</th>\n      <th>Title</th>\n      <th>Genres</th>\n      <th>Rating</th>\n    </tr>\n  </thead>\n  <tbody>\n    <tr>\n      <th>66518</th>\n      <td>1293</td>\n      <td>Gandhi (1982)</td>\n      <td>Drama</td>\n      <td>5</td>\n    </tr>\n    <tr>\n      <th>67349</th>\n      <td>1225</td>\n      <td>Amadeus (1984)</td>\n      <td>Drama</td>\n      <td>5</td>\n    </tr>\n    <tr>\n      <th>12641</th>\n      <td>1193</td>\n      <td>One Flew Over the Cuckoo's Nest (1975)</td>\n      <td>Drama</td>\n      <td>5</td>\n    </tr>\n    <tr>\n      <th>68731</th>\n      <td>318</td>\n      <td>Shawshank Redemption, The (1994)</td>\n      <td>Drama</td>\n      <td>5</td>\n    </tr>\n    <tr>\n      <th>74601</th>\n      <td>1945</td>\n      <td>On the Waterfront (1954)</td>\n      <td>Crime|Drama</td>\n      <td>5</td>\n    </tr>\n    <tr>\n      <th>77298</th>\n      <td>593</td>\n      <td>Silence of the Lambs, The (1991)</td>\n      <td>Drama|Thriller</td>\n      <td>5</td>\n    </tr>\n    <tr>\n      <th>79876</th>\n      <td>515</td>\n      <td>Remains of the Day, The (1993)</td>\n      <td>Drama</td>\n      <td>5</td>\n    </tr>\n    <tr>\n      <th>80326</th>\n      <td>3468</td>\n      <td>Hustler, The (1961)</td>\n      <td>Drama</td>\n      <td>5</td>\n    </tr>\n    <tr>\n      <th>82178</th>\n      <td>2501</td>\n      <td>October Sky (1999)</td>\n      <td>Drama</td>\n      <td>5</td>\n    </tr>\n    <tr>\n      <th>83187</th>\n      <td>110</td>\n      <td>Braveheart (1995)</td>\n      <td>Action|Drama|War</td>\n      <td>5</td>\n    </tr>\n    <tr>\n      <th>85630</th>\n      <td>2067</td>\n      <td>Doctor Zhivago (1965)</td>\n      <td>Drama|Romance|War</td>\n      <td>5</td>\n    </tr>\n    <tr>\n      <th>86194</th>\n      <td>3147</td>\n      <td>Green Mile, The (1999)</td>\n      <td>Drama|Thriller</td>\n      <td>5</td>\n    </tr>\n    <tr>\n      <th>87416</th>\n      <td>1247</td>\n      <td>Graduate, The (1967)</td>\n      <td>Drama|Romance</td>\n      <td>5</td>\n    </tr>\n    <tr>\n      <th>88677</th>\n      <td>1357</td>\n      <td>Shine (1996)</td>\n      <td>Drama|Romance</td>\n      <td>5</td>\n    </tr>\n    <tr>\n      <th>89225</th>\n      <td>1196</td>\n      <td>Star Wars: Episode V - The Empire Strikes Back...</td>\n      <td>Action|Adventure|Drama|Sci-Fi|War</td>\n      <td>5</td>\n    </tr>\n    <tr>\n      <th>92215</th>\n      <td>1957</td>\n      <td>Chariots of Fire (1981)</td>\n      <td>Drama</td>\n      <td>5</td>\n    </tr>\n    <tr>\n      <th>93710</th>\n      <td>920</td>\n      <td>Gone with the Wind (1939)</td>\n      <td>Drama|Romance|War</td>\n      <td>5</td>\n    </tr>\n    <tr>\n      <th>25401</th>\n      <td>1962</td>\n      <td>Driving Miss Daisy (1989)</td>\n      <td>Drama</td>\n      <td>5</td>\n    </tr>\n    <tr>\n      <th>97042</th>\n      <td>3471</td>\n      <td>Close Encounters of the Third Kind (1977)</td>\n      <td>Drama|Sci-Fi</td>\n      <td>5</td>\n    </tr>\n    <tr>\n      <th>98493</th>\n      <td>1259</td>\n      <td>Stand by Me (1986)</td>\n      <td>Adventure|Comedy|Drama</td>\n      <td>5</td>\n    </tr>\n    <tr>\n      <th>100278</th>\n      <td>1954</td>\n      <td>Rocky (1976)</td>\n      <td>Action|Drama</td>\n      <td>5</td>\n    </tr>\n    <tr>\n      <th>101407</th>\n      <td>1784</td>\n      <td>As Good As It Gets (1997)</td>\n      <td>Comedy|Drama</td>\n      <td>5</td>\n    </tr>\n    <tr>\n      <th>106388</th>\n      <td>3578</td>\n      <td>Gladiator (2000)</td>\n      <td>Action|Drama</td>\n      <td>5</td>\n    </tr>\n    <tr>\n      <th>110255</th>\n      <td>590</td>\n      <td>Dances with Wolves (1990)</td>\n      <td>Adventure|Drama|Western</td>\n      <td>5</td>\n    </tr>\n    <tr>\n      <th>114985</th>\n      <td>2236</td>\n      <td>Simon Birch (1998)</td>\n      <td>Drama</td>\n      <td>5</td>\n    </tr>\n    <tr>\n      <th>116556</th>\n      <td>2268</td>\n      <td>Few Good Men, A (1992)</td>\n      <td>Crime|Drama</td>\n      <td>5</td>\n    </tr>\n    <tr>\n      <th>36463</th>\n      <td>1246</td>\n      <td>Dead Poets Society (1989)</td>\n      <td>Drama</td>\n      <td>5</td>\n    </tr>\n    <tr>\n      <th>120475</th>\n      <td>1124</td>\n      <td>On Golden Pond (1981)</td>\n      <td>Drama</td>\n      <td>5</td>\n    </tr>\n    <tr>\n      <th>125537</th>\n      <td>356</td>\n      <td>Forrest Gump (1994)</td>\n      <td>Comedy|Romance|War</td>\n      <td>5</td>\n    </tr>\n    <tr>\n      <th>141001</th>\n      <td>480</td>\n      <td>Jurassic Park (1993)</td>\n      <td>Action|Adventure|Sci-Fi</td>\n      <td>5</td>\n    </tr>\n    <tr>\n      <th>144213</th>\n      <td>380</td>\n      <td>True Lies (1994)</td>\n      <td>Action|Adventure|Comedy|Romance</td>\n      <td>5</td>\n    </tr>\n    <tr>\n      <th>145613</th>\n      <td>1610</td>\n      <td>Hunt for Red October, The (1990)</td>\n      <td>Action|Thriller</td>\n      <td>5</td>\n    </tr>\n    <tr>\n      <th>156472</th>\n      <td>1370</td>\n      <td>Die Hard 2 (1990)</td>\n      <td>Action|Thriller</td>\n      <td>5</td>\n    </tr>\n    <tr>\n      <th>175032</th>\n      <td>2002</td>\n      <td>Lethal Weapon 3 (1992)</td>\n      <td>Action|Comedy|Crime|Drama</td>\n      <td>5</td>\n    </tr>\n    <tr>\n      <th>60199</th>\n      <td>1198</td>\n      <td>Raiders of the Lost Ark (1981)</td>\n      <td>Action|Adventure</td>\n      <td>4</td>\n    </tr>\n    <tr>\n      <th>62713</th>\n      <td>1210</td>\n      <td>Star Wars: Episode VI - Return of the Jedi (1983)</td>\n      <td>Action|Adventure|Romance|Sci-Fi|War</td>\n      <td>4</td>\n    </tr>\n    <tr>\n      <th>67189</th>\n      <td>2943</td>\n      <td>Indochine (1992)</td>\n      <td>Drama|Romance</td>\n      <td>4</td>\n    </tr>\n    <tr>\n      <th>70958</th>\n      <td>2858</td>\n      <td>American Beauty (1999)</td>\n      <td>Comedy|Drama</td>\n      <td>4</td>\n    </tr>\n    <tr>\n      <th>74386</th>\n      <td>3030</td>\n      <td>Yojimbo (1961)</td>\n      <td>Comedy|Drama|Western</td>\n      <td>4</td>\n    </tr>\n    <tr>\n      <th>6932</th>\n      <td>1207</td>\n      <td>To Kill a Mockingbird (1962)</td>\n      <td>Drama</td>\n      <td>4</td>\n    </tr>\n    <tr>\n      <th>76777</th>\n      <td>3095</td>\n      <td>Grapes of Wrath, The (1940)</td>\n      <td>Drama</td>\n      <td>4</td>\n    </tr>\n    <tr>\n      <th>80776</th>\n      <td>1873</td>\n      <td>Mis�rables, Les (1998)</td>\n      <td>Drama</td>\n      <td>4</td>\n    </tr>\n    <tr>\n      <th>82766</th>\n      <td>3035</td>\n      <td>Mister Roberts (1955)</td>\n      <td>Comedy|Drama|War</td>\n      <td>4</td>\n    </tr>\n    <tr>\n      <th>23652</th>\n      <td>3105</td>\n      <td>Awakenings (1990)</td>\n      <td>Drama</td>\n      <td>4</td>\n    </tr>\n    <tr>\n      <th>92849</th>\n      <td>1953</td>\n      <td>French Connection, The (1971)</td>\n      <td>Action|Crime|Drama|Thriller</td>\n      <td>4</td>\n    </tr>\n    <tr>\n      <th>95552</th>\n      <td>1834</td>\n      <td>Spanish Prisoner, The (1997)</td>\n      <td>Drama|Thriller</td>\n      <td>4</td>\n    </tr>\n    <tr>\n      <th>105874</th>\n      <td>3451</td>\n      <td>Guess Who's Coming to Dinner (1967)</td>\n      <td>Comedy|Drama</td>\n      <td>4</td>\n    </tr>\n    <tr>\n      <th>108312</th>\n      <td>3334</td>\n      <td>Key Largo (1948)</td>\n      <td>Crime|Drama|Film-Noir|Thriller</td>\n      <td>4</td>\n    </tr>\n    <tr>\n      <th>108773</th>\n      <td>3068</td>\n      <td>Verdict, The (1982)</td>\n      <td>Drama</td>\n      <td>4</td>\n    </tr>\n    <tr>\n      <th>109152</th>\n      <td>265</td>\n      <td>Like Water for Chocolate (Como agua para choco...</td>\n      <td>Drama|Romance</td>\n      <td>4</td>\n    </tr>\n    <tr>\n      <th>112265</th>\n      <td>3071</td>\n      <td>Stand and Deliver (1987)</td>\n      <td>Drama</td>\n      <td>4</td>\n    </tr>\n    <tr>\n      <th>114175</th>\n      <td>1955</td>\n      <td>Kramer Vs. Kramer (1979)</td>\n      <td>Drama</td>\n      <td>4</td>\n    </tr>\n    <tr>\n      <th>115277</th>\n      <td>982</td>\n      <td>Picnic (1955)</td>\n      <td>Drama</td>\n      <td>4</td>\n    </tr>\n    <tr>\n      <th>115358</th>\n      <td>2194</td>\n      <td>Untouchables, The (1987)</td>\n      <td>Action|Crime|Drama</td>\n      <td>4</td>\n    </tr>\n    <tr>\n      <th>116485</th>\n      <td>1442</td>\n      <td>Prefontaine (1997)</td>\n      <td>Drama</td>\n      <td>4</td>\n    </tr>\n    <tr>\n      <th>117617</th>\n      <td>3255</td>\n      <td>League of Their Own, A (1992)</td>\n      <td>Comedy|Drama</td>\n      <td>4</td>\n    </tr>\n    <tr>\n      <th>120084</th>\n      <td>1096</td>\n      <td>Sophie's Choice (1982)</td>\n      <td>Drama</td>\n      <td>4</td>\n    </tr>\n    <tr>\n      <th>121439</th>\n      <td>1537</td>\n      <td>Shall We Dance? (Shall We Dansu?) (1996)</td>\n      <td>Comedy</td>\n      <td>4</td>\n    </tr>\n    <tr>\n      <th>121789</th>\n      <td>1188</td>\n      <td>Strictly Ballroom (1992)</td>\n      <td>Comedy|Romance</td>\n      <td>4</td>\n    </tr>\n    <tr>\n      <th>122465</th>\n      <td>2396</td>\n      <td>Shakespeare in Love (1998)</td>\n      <td>Comedy|Romance</td>\n      <td>4</td>\n    </tr>\n    <tr>\n      <th>20999</th>\n      <td>2028</td>\n      <td>Saving Private Ryan (1998)</td>\n      <td>Action|Drama|War</td>\n      <td>4</td>\n    </tr>\n    <tr>\n      <th>131771</th>\n      <td>589</td>\n      <td>Terminator 2: Judgment Day (1991)</td>\n      <td>Action|Sci-Fi|Thriller</td>\n      <td>4</td>\n    </tr>\n    <tr>\n      <th>134420</th>\n      <td>457</td>\n      <td>Fugitive, The (1993)</td>\n      <td>Action|Thriller</td>\n      <td>4</td>\n    </tr>\n    <tr>\n      <th>136415</th>\n      <td>2571</td>\n      <td>Matrix, The (1999)</td>\n      <td>Action|Sci-Fi|Thriller</td>\n      <td>4</td>\n    </tr>\n    <tr>\n      <th>143673</th>\n      <td>163</td>\n      <td>Desperado (1995)</td>\n      <td>Action|Romance|Thriller</td>\n      <td>4</td>\n    </tr>\n    <tr>\n      <th>147265</th>\n      <td>3418</td>\n      <td>Thelma &amp; Louise (1991)</td>\n      <td>Action|Drama</td>\n      <td>4</td>\n    </tr>\n    <tr>\n      <th>150709</th>\n      <td>349</td>\n      <td>Clear and Present Danger (1994)</td>\n      <td>Action|Adventure|Thriller</td>\n      <td>4</td>\n    </tr>\n    <tr>\n      <th>153124</th>\n      <td>1527</td>\n      <td>Fifth Element, The (1997)</td>\n      <td>Action|Sci-Fi</td>\n      <td>4</td>\n    </tr>\n    <tr>\n      <th>155484</th>\n      <td>2353</td>\n      <td>Enemy of the State (1998)</td>\n      <td>Action|Thriller</td>\n      <td>4</td>\n    </tr>\n    <tr>\n      <th>159216</th>\n      <td>648</td>\n      <td>Mission: Impossible (1996)</td>\n      <td>Action|Adventure|Mystery</td>\n      <td>4</td>\n    </tr>\n    <tr>\n      <th>166935</th>\n      <td>368</td>\n      <td>Maverick (1994)</td>\n      <td>Action|Comedy|Western</td>\n      <td>4</td>\n    </tr>\n    <tr>\n      <th>175834</th>\n      <td>736</td>\n      <td>Twister (1996)</td>\n      <td>Action|Adventure|Romance|Thriller</td>\n      <td>4</td>\n    </tr>\n    <tr>\n      <th>180606</th>\n      <td>1544</td>\n      <td>Lost World: Jurassic Park, The (1997)</td>\n      <td>Action|Adventure|Sci-Fi|Thriller</td>\n      <td>4</td>\n    </tr>\n    <tr>\n      <th>65596</th>\n      <td>1217</td>\n      <td>Ran (1985)</td>\n      <td>Drama|War</td>\n      <td>3</td>\n    </tr>\n    <tr>\n      <th>65953</th>\n      <td>2717</td>\n      <td>Ghostbusters II (1989)</td>\n      <td>Comedy|Horror</td>\n      <td>3</td>\n    </tr>\n    <tr>\n      <th>94866</th>\n      <td>1084</td>\n      <td>Bonnie and Clyde (1967)</td>\n      <td>Crime|Drama</td>\n      <td>3</td>\n    </tr>\n    <tr>\n      <th>96045</th>\n      <td>3735</td>\n      <td>Serpico (1973)</td>\n      <td>Crime|Drama</td>\n      <td>3</td>\n    </tr>\n    <tr>\n      <th>96540</th>\n      <td>3654</td>\n      <td>Guns of Navarone, The (1961)</td>\n      <td>Action|Drama|War</td>\n      <td>3</td>\n    </tr>\n    <tr>\n      <th>104370</th>\n      <td>2728</td>\n      <td>Spartacus (1960)</td>\n      <td>Drama</td>\n      <td>3</td>\n    </tr>\n    <tr>\n      <th>105472</th>\n      <td>1103</td>\n      <td>Rebel Without a Cause (1955)</td>\n      <td>Drama</td>\n      <td>3</td>\n    </tr>\n    <tr>\n      <th>106224</th>\n      <td>2852</td>\n      <td>Soldier's Story, A (1984)</td>\n      <td>Drama</td>\n      <td>3</td>\n    </tr>\n    <tr>\n      <th>109924</th>\n      <td>2312</td>\n      <td>Children of a Lesser God (1986)</td>\n      <td>Drama</td>\n      <td>3</td>\n    </tr>\n    <tr>\n      <th>111706</th>\n      <td>1253</td>\n      <td>Day the Earth Stood Still, The (1951)</td>\n      <td>Drama|Sci-Fi</td>\n      <td>3</td>\n    </tr>\n    <tr>\n      <th>112592</th>\n      <td>1244</td>\n      <td>Manhattan (1979)</td>\n      <td>Comedy|Drama|Romance</td>\n      <td>3</td>\n    </tr>\n    <tr>\n      <th>115187</th>\n      <td>3678</td>\n      <td>Man with the Golden Arm, The (1955)</td>\n      <td>Drama</td>\n      <td>3</td>\n    </tr>\n    <tr>\n      <th>118716</th>\n      <td>235</td>\n      <td>Ed Wood (1994)</td>\n      <td>Comedy|Drama</td>\n      <td>3</td>\n    </tr>\n    <tr>\n      <th>119643</th>\n      <td>647</td>\n      <td>Courage Under Fire (1996)</td>\n      <td>Drama|War</td>\n      <td>3</td>\n    </tr>\n    <tr>\n      <th>120428</th>\n      <td>498</td>\n      <td>Mr. Jones (1993)</td>\n      <td>Drama|Romance</td>\n      <td>3</td>\n    </tr>\n    <tr>\n      <th>42970</th>\n      <td>2321</td>\n      <td>Pleasantville (1998)</td>\n      <td>Comedy</td>\n      <td>3</td>\n    </tr>\n    <tr>\n      <th>124834</th>\n      <td>2359</td>\n      <td>Waking Ned Devine (1998)</td>\n      <td>Comedy</td>\n      <td>3</td>\n    </tr>\n    <tr>\n      <th>127731</th>\n      <td>3108</td>\n      <td>Fisher King, The (1991)</td>\n      <td>Comedy|Drama|Romance</td>\n      <td>3</td>\n    </tr>\n    <tr>\n      <th>128676</th>\n      <td>1265</td>\n      <td>Groundhog Day (1993)</td>\n      <td>Comedy|Romance</td>\n      <td>3</td>\n    </tr>\n    <tr>\n      <th>130954</th>\n      <td>3809</td>\n      <td>What About Bob? (1991)</td>\n      <td>Comedy</td>\n      <td>3</td>\n    </tr>\n    <tr>\n      <th>139005</th>\n      <td>2916</td>\n      <td>Total Recall (1990)</td>\n      <td>Action|Adventure|Sci-Fi|Thriller</td>\n      <td>3</td>\n    </tr>\n    <tr>\n      <th>149734</th>\n      <td>1408</td>\n      <td>Last of the Mohicans, The (1992)</td>\n      <td>Action|Romance|War</td>\n      <td>3</td>\n    </tr>\n    <tr>\n      <th>154501</th>\n      <td>2006</td>\n      <td>Mask of Zorro, The (1998)</td>\n      <td>Action|Adventure|Romance</td>\n      <td>3</td>\n    </tr>\n    <tr>\n      <th>157607</th>\n      <td>2278</td>\n      <td>Ronin (1998)</td>\n      <td>Action|Crime|Thriller</td>\n      <td>3</td>\n    </tr>\n    <tr>\n      <th>160743</th>\n      <td>1372</td>\n      <td>Star Trek VI: The Undiscovered Country (1991)</td>\n      <td>Action|Adventure|Sci-Fi</td>\n      <td>3</td>\n    </tr>\n    <tr>\n      <th>161744</th>\n      <td>1552</td>\n      <td>Con Air (1997)</td>\n      <td>Action|Adventure|Thriller</td>\n      <td>3</td>\n    </tr>\n    <tr>\n      <th>162698</th>\n      <td>1792</td>\n      <td>U.S. Marshalls (1998)</td>\n      <td>Action|Thriller</td>\n      <td>3</td>\n    </tr>\n    <tr>\n      <th>163146</th>\n      <td>780</td>\n      <td>Independence Day (ID4) (1996)</td>\n      <td>Action|Sci-Fi|War</td>\n      <td>3</td>\n    </tr>\n    <tr>\n      <th>164876</th>\n      <td>1385</td>\n      <td>Under Siege (1992)</td>\n      <td>Action</td>\n      <td>3</td>\n    </tr>\n    <tr>\n      <th>165337</th>\n      <td>2490</td>\n      <td>Payback (1999)</td>\n      <td>Action|Thriller</td>\n      <td>3</td>\n    </tr>\n    <tr>\n      <th>166110</th>\n      <td>165</td>\n      <td>Die Hard: With a Vengeance (1995)</td>\n      <td>Action|Thriller</td>\n      <td>3</td>\n    </tr>\n    <tr>\n      <th>167737</th>\n      <td>2881</td>\n      <td>Double Jeopardy (1999)</td>\n      <td>Action|Thriller</td>\n      <td>3</td>\n    </tr>\n    <tr>\n      <th>169392</th>\n      <td>459</td>\n      <td>Getaway, The (1994)</td>\n      <td>Action</td>\n      <td>3</td>\n    </tr>\n    <tr>\n      <th>169535</th>\n      <td>1801</td>\n      <td>Man in the Iron Mask, The (1998)</td>\n      <td>Action|Drama|Romance</td>\n      <td>3</td>\n    </tr>\n    <tr>\n      <th>169926</th>\n      <td>1597</td>\n      <td>Conspiracy Theory (1997)</td>\n      <td>Action|Mystery|Romance|Thriller</td>\n      <td>3</td>\n    </tr>\n    <tr>\n      <th>170737</th>\n      <td>442</td>\n      <td>Demolition Man (1993)</td>\n      <td>Action|Sci-Fi</td>\n      <td>3</td>\n    </tr>\n    <tr>\n      <th>171377</th>\n      <td>2628</td>\n      <td>Star Wars: Episode I - The Phantom Menace (1999)</td>\n      <td>Action|Adventure|Fantasy|Sci-Fi</td>\n      <td>3</td>\n    </tr>\n    <tr>\n      <th>173627</th>\n      <td>1690</td>\n      <td>Alien: Resurrection (1997)</td>\n      <td>Action|Horror|Sci-Fi</td>\n      <td>3</td>\n    </tr>\n    <tr>\n      <th>174406</th>\n      <td>3257</td>\n      <td>Bodyguard, The (1992)</td>\n      <td>Action|Drama|Romance|Thriller</td>\n      <td>3</td>\n    </tr>\n    <tr>\n      <th>176944</th>\n      <td>292</td>\n      <td>Outbreak (1995)</td>\n      <td>Action|Drama|Thriller</td>\n      <td>3</td>\n    </tr>\n    <tr>\n      <th>177677</th>\n      <td>2126</td>\n      <td>Snake Eyes (1998)</td>\n      <td>Action|Crime|Mystery|Thriller</td>\n      <td>3</td>\n    </tr>\n    <tr>\n      <th>179496</th>\n      <td>1917</td>\n      <td>Armageddon (1998)</td>\n      <td>Action|Adventure|Sci-Fi|Thriller</td>\n      <td>3</td>\n    </tr>\n    <tr>\n      <th>181861</th>\n      <td>1687</td>\n      <td>Jackal, The (1997)</td>\n      <td>Action|Thriller</td>\n      <td>3</td>\n    </tr>\n    <tr>\n      <th>75120</th>\n      <td>1213</td>\n      <td>GoodFellas (1990)</td>\n      <td>Crime|Drama</td>\n      <td>2</td>\n    </tr>\n    <tr>\n      <th>81035</th>\n      <td>1090</td>\n      <td>Platoon (1986)</td>\n      <td>Drama|War</td>\n      <td>2</td>\n    </tr>\n    <tr>\n      <th>102831</th>\n      <td>1968</td>\n      <td>Breakfast Club, The (1985)</td>\n      <td>Comedy|Drama</td>\n      <td>2</td>\n    </tr>\n    <tr>\n      <th>104796</th>\n      <td>902</td>\n      <td>Breakfast at Tiffany's (1961)</td>\n      <td>Drama|Romance</td>\n      <td>2</td>\n    </tr>\n    <tr>\n      <th>113310</th>\n      <td>3699</td>\n      <td>Starman (1984)</td>\n      <td>Adventure|Drama|Romance|Sci-Fi</td>\n      <td>2</td>\n    </tr>\n    <tr>\n      <th>114627</th>\n      <td>1245</td>\n      <td>Miller's Crossing (1990)</td>\n      <td>Drama</td>\n      <td>2</td>\n    </tr>\n    <tr>\n      <th>148682</th>\n      <td>3256</td>\n      <td>Patriot Games (1992)</td>\n      <td>Action|Thriller</td>\n      <td>2</td>\n    </tr>\n    <tr>\n      <th>158413</th>\n      <td>2427</td>\n      <td>Thin Red Line, The (1998)</td>\n      <td>Action|Drama|War</td>\n      <td>2</td>\n    </tr>\n    <tr>\n      <th>168523</th>\n      <td>3107</td>\n      <td>Backdraft (1991)</td>\n      <td>Action|Drama</td>\n      <td>2</td>\n    </tr>\n    <tr>\n      <th>178172</th>\n      <td>95</td>\n      <td>Broken Arrow (1996)</td>\n      <td>Action|Thriller</td>\n      <td>2</td>\n    </tr>\n    <tr>\n      <th>178810</th>\n      <td>434</td>\n      <td>Cliffhanger (1993)</td>\n      <td>Action|Adventure|Crime</td>\n      <td>2</td>\n    </tr>\n    <tr>\n      <th>120880</th>\n      <td>3893</td>\n      <td>Nurse Betty (2000)</td>\n      <td>Comedy|Thriller</td>\n      <td>1</td>\n    </tr>\n    <tr>\n      <th>151768</th>\n      <td>21</td>\n      <td>Get Shorty (1995)</td>\n      <td>Action|Comedy|Drama</td>\n      <td>1</td>\n    </tr>\n  </tbody>\n</table>\n</div>"
     },
     "execution_count": 16,
     "metadata": {},
     "output_type": "execute_result"
    }
   ],
   "source": [
    "import pandas as pd\n",
    "show_user_known_ratings(2, 150, data)"
   ],
   "metadata": {
    "collapsed": false,
    "pycharm": {
     "name": "#%%\n"
    }
   }
  },
  {
   "cell_type": "code",
   "execution_count": 12,
   "outputs": [
    {
     "name": "stdout",
     "output_type": "stream",
     "text": [
      "(3754, 1)\n"
     ]
    },
    {
     "data": {
      "text/plain": "      MovieID                                              Title  \\\n1328     1349                         Nosferatu a Venezia (1986)   \n3185     3254                             Wayne's World 2 (1993)   \n3103     3172                            Ulysses (Ulisse) (1954)   \n246       249                            Immortal Beloved (1994)   \n3771     3841                                 Air America (1990)   \n270       273                 Mary Shelley's Frankenstein (1994)   \n840       851                                    Basquiat (1996)   \n3855     3925                      Stranger Than Paradise (1984)   \n691       700                                       Angus (1995)   \n1969     2038                   Cat from Outer Space, The (1978)   \n1433     1460                              That Darn Cat! (1997)   \n3424     3493  Torso (Corpi Presentano Tracce di Violenza Car...   \n3246     3315                             Happy Go Lovely (1951)   \n3245     3314                              Big Trees, The (1952)   \n1783     1852                              Love Walked In (1998)   \n1008     1021                      Angels in the Outfield (1994)   \n2972     3041                           Meatballs Part II (1984)   \n1321     1342                                    Candyman (1992)   \n3422     3491                                My Chauffeur (1986)   \n3240     3309                               Dog's Life, A (1920)   \n2320     2389                                      Psycho (1998)   \n2923     2992                                 Rawhead Rex (1986)   \n3346     3415                       Mirror, The (Zerkalo) (1975)   \n655       661                   James and the Giant Peach (1996)   \n1892     1961                                    Rain Man (1988)   \n\n                            Genres  m_id  UserID  u_id  predicted  \n1328                        Horror  1328       2     1   0.735111  \n3185                        Comedy  3185       2     1   0.725243  \n3103                     Adventure  3103       2     1   0.725149  \n246                  Drama|Romance   246       2     1   0.719561  \n3771                 Action|Comedy  3771       2     1   0.719549  \n270                   Drama|Horror   270       2     1   0.719351  \n840                          Drama   840       2     1   0.719255  \n3855                        Comedy  3855       2     1   0.719123  \n691                         Comedy   691       2     1   0.718301  \n1969      Children's|Comedy|Sci-Fi  1969       2     1   0.718168  \n1433     Children's|Comedy|Mystery  1433       2     1   0.714956  \n3424                        Horror  3424       2     1   0.714869  \n3246                       Musical  3246       2     1   0.714269  \n3245                  Action|Drama  3245       2     1   0.712639  \n1783                Drama|Thriller  1783       2     1   0.712587  \n1008             Children's|Comedy  1008       2     1   0.712309  \n2972                        Comedy  2972       2     1   0.711901  \n1321                        Horror  1321       2     1   0.711856  \n3422                        Comedy  3422       2     1   0.711167  \n3240                        Comedy  3240       2     1   0.710911  \n2320         Crime|Horror|Thriller  2320       2     1   0.710861  \n2923               Horror|Thriller  2923       2     1   0.710700  \n3346                         Drama  3346       2     1   0.709355  \n655   Animation|Children's|Musical   655       2     1   0.709252  \n1892                         Drama  1892       2     1   0.708877  ",
      "text/html": "<div>\n<style scoped>\n    .dataframe tbody tr th:only-of-type {\n        vertical-align: middle;\n    }\n\n    .dataframe tbody tr th {\n        vertical-align: top;\n    }\n\n    .dataframe thead th {\n        text-align: right;\n    }\n</style>\n<table border=\"1\" class=\"dataframe\">\n  <thead>\n    <tr style=\"text-align: right;\">\n      <th></th>\n      <th>MovieID</th>\n      <th>Title</th>\n      <th>Genres</th>\n      <th>m_id</th>\n      <th>UserID</th>\n      <th>u_id</th>\n      <th>predicted</th>\n    </tr>\n  </thead>\n  <tbody>\n    <tr>\n      <th>1328</th>\n      <td>1349</td>\n      <td>Nosferatu a Venezia (1986)</td>\n      <td>Horror</td>\n      <td>1328</td>\n      <td>2</td>\n      <td>1</td>\n      <td>0.735111</td>\n    </tr>\n    <tr>\n      <th>3185</th>\n      <td>3254</td>\n      <td>Wayne's World 2 (1993)</td>\n      <td>Comedy</td>\n      <td>3185</td>\n      <td>2</td>\n      <td>1</td>\n      <td>0.725243</td>\n    </tr>\n    <tr>\n      <th>3103</th>\n      <td>3172</td>\n      <td>Ulysses (Ulisse) (1954)</td>\n      <td>Adventure</td>\n      <td>3103</td>\n      <td>2</td>\n      <td>1</td>\n      <td>0.725149</td>\n    </tr>\n    <tr>\n      <th>246</th>\n      <td>249</td>\n      <td>Immortal Beloved (1994)</td>\n      <td>Drama|Romance</td>\n      <td>246</td>\n      <td>2</td>\n      <td>1</td>\n      <td>0.719561</td>\n    </tr>\n    <tr>\n      <th>3771</th>\n      <td>3841</td>\n      <td>Air America (1990)</td>\n      <td>Action|Comedy</td>\n      <td>3771</td>\n      <td>2</td>\n      <td>1</td>\n      <td>0.719549</td>\n    </tr>\n    <tr>\n      <th>270</th>\n      <td>273</td>\n      <td>Mary Shelley's Frankenstein (1994)</td>\n      <td>Drama|Horror</td>\n      <td>270</td>\n      <td>2</td>\n      <td>1</td>\n      <td>0.719351</td>\n    </tr>\n    <tr>\n      <th>840</th>\n      <td>851</td>\n      <td>Basquiat (1996)</td>\n      <td>Drama</td>\n      <td>840</td>\n      <td>2</td>\n      <td>1</td>\n      <td>0.719255</td>\n    </tr>\n    <tr>\n      <th>3855</th>\n      <td>3925</td>\n      <td>Stranger Than Paradise (1984)</td>\n      <td>Comedy</td>\n      <td>3855</td>\n      <td>2</td>\n      <td>1</td>\n      <td>0.719123</td>\n    </tr>\n    <tr>\n      <th>691</th>\n      <td>700</td>\n      <td>Angus (1995)</td>\n      <td>Comedy</td>\n      <td>691</td>\n      <td>2</td>\n      <td>1</td>\n      <td>0.718301</td>\n    </tr>\n    <tr>\n      <th>1969</th>\n      <td>2038</td>\n      <td>Cat from Outer Space, The (1978)</td>\n      <td>Children's|Comedy|Sci-Fi</td>\n      <td>1969</td>\n      <td>2</td>\n      <td>1</td>\n      <td>0.718168</td>\n    </tr>\n    <tr>\n      <th>1433</th>\n      <td>1460</td>\n      <td>That Darn Cat! (1997)</td>\n      <td>Children's|Comedy|Mystery</td>\n      <td>1433</td>\n      <td>2</td>\n      <td>1</td>\n      <td>0.714956</td>\n    </tr>\n    <tr>\n      <th>3424</th>\n      <td>3493</td>\n      <td>Torso (Corpi Presentano Tracce di Violenza Car...</td>\n      <td>Horror</td>\n      <td>3424</td>\n      <td>2</td>\n      <td>1</td>\n      <td>0.714869</td>\n    </tr>\n    <tr>\n      <th>3246</th>\n      <td>3315</td>\n      <td>Happy Go Lovely (1951)</td>\n      <td>Musical</td>\n      <td>3246</td>\n      <td>2</td>\n      <td>1</td>\n      <td>0.714269</td>\n    </tr>\n    <tr>\n      <th>3245</th>\n      <td>3314</td>\n      <td>Big Trees, The (1952)</td>\n      <td>Action|Drama</td>\n      <td>3245</td>\n      <td>2</td>\n      <td>1</td>\n      <td>0.712639</td>\n    </tr>\n    <tr>\n      <th>1783</th>\n      <td>1852</td>\n      <td>Love Walked In (1998)</td>\n      <td>Drama|Thriller</td>\n      <td>1783</td>\n      <td>2</td>\n      <td>1</td>\n      <td>0.712587</td>\n    </tr>\n    <tr>\n      <th>1008</th>\n      <td>1021</td>\n      <td>Angels in the Outfield (1994)</td>\n      <td>Children's|Comedy</td>\n      <td>1008</td>\n      <td>2</td>\n      <td>1</td>\n      <td>0.712309</td>\n    </tr>\n    <tr>\n      <th>2972</th>\n      <td>3041</td>\n      <td>Meatballs Part II (1984)</td>\n      <td>Comedy</td>\n      <td>2972</td>\n      <td>2</td>\n      <td>1</td>\n      <td>0.711901</td>\n    </tr>\n    <tr>\n      <th>1321</th>\n      <td>1342</td>\n      <td>Candyman (1992)</td>\n      <td>Horror</td>\n      <td>1321</td>\n      <td>2</td>\n      <td>1</td>\n      <td>0.711856</td>\n    </tr>\n    <tr>\n      <th>3422</th>\n      <td>3491</td>\n      <td>My Chauffeur (1986)</td>\n      <td>Comedy</td>\n      <td>3422</td>\n      <td>2</td>\n      <td>1</td>\n      <td>0.711167</td>\n    </tr>\n    <tr>\n      <th>3240</th>\n      <td>3309</td>\n      <td>Dog's Life, A (1920)</td>\n      <td>Comedy</td>\n      <td>3240</td>\n      <td>2</td>\n      <td>1</td>\n      <td>0.710911</td>\n    </tr>\n    <tr>\n      <th>2320</th>\n      <td>2389</td>\n      <td>Psycho (1998)</td>\n      <td>Crime|Horror|Thriller</td>\n      <td>2320</td>\n      <td>2</td>\n      <td>1</td>\n      <td>0.710861</td>\n    </tr>\n    <tr>\n      <th>2923</th>\n      <td>2992</td>\n      <td>Rawhead Rex (1986)</td>\n      <td>Horror|Thriller</td>\n      <td>2923</td>\n      <td>2</td>\n      <td>1</td>\n      <td>0.710700</td>\n    </tr>\n    <tr>\n      <th>3346</th>\n      <td>3415</td>\n      <td>Mirror, The (Zerkalo) (1975)</td>\n      <td>Drama</td>\n      <td>3346</td>\n      <td>2</td>\n      <td>1</td>\n      <td>0.709355</td>\n    </tr>\n    <tr>\n      <th>655</th>\n      <td>661</td>\n      <td>James and the Giant Peach (1996)</td>\n      <td>Animation|Children's|Musical</td>\n      <td>655</td>\n      <td>2</td>\n      <td>1</td>\n      <td>0.709252</td>\n    </tr>\n    <tr>\n      <th>1892</th>\n      <td>1961</td>\n      <td>Rain Man (1988)</td>\n      <td>Drama</td>\n      <td>1892</td>\n      <td>2</td>\n      <td>1</td>\n      <td>0.708877</td>\n    </tr>\n  </tbody>\n</table>\n</div>"
     },
     "execution_count": 12,
     "metadata": {},
     "output_type": "execute_result"
    }
   ],
   "source": [
    "recommend_new_movies(2, data, model).head(25)\n"
   ],
   "metadata": {
    "collapsed": false,
    "pycharm": {
     "name": "#%%\n"
    }
   }
  },
  {
   "cell_type": "code",
   "execution_count": 13,
   "outputs": [
    {
     "data": {
      "text/plain": "   UserID Gender  Age  Occupation Zip-code  u_id\n1       2      M   56          16    70072     1",
      "text/html": "<div>\n<style scoped>\n    .dataframe tbody tr th:only-of-type {\n        vertical-align: middle;\n    }\n\n    .dataframe tbody tr th {\n        vertical-align: top;\n    }\n\n    .dataframe thead th {\n        text-align: right;\n    }\n</style>\n<table border=\"1\" class=\"dataframe\">\n  <thead>\n    <tr style=\"text-align: right;\">\n      <th></th>\n      <th>UserID</th>\n      <th>Gender</th>\n      <th>Age</th>\n      <th>Occupation</th>\n      <th>Zip-code</th>\n      <th>u_id</th>\n    </tr>\n  </thead>\n  <tbody>\n    <tr>\n      <th>1</th>\n      <td>2</td>\n      <td>M</td>\n      <td>56</td>\n      <td>16</td>\n      <td>70072</td>\n      <td>1</td>\n    </tr>\n  </tbody>\n</table>\n</div>"
     },
     "execution_count": 13,
     "metadata": {},
     "output_type": "execute_result"
    }
   ],
   "source": [
    "data.users[data.users['UserID'] == 2]\n"
   ],
   "metadata": {
    "collapsed": false,
    "pycharm": {
     "name": "#%%\n"
    }
   }
  },
  {
   "cell_type": "code",
   "execution_count": 14,
   "outputs": [
    {
     "data": {
      "text/plain": "        UserID  MovieID  Rating   Timestamp  m_id  u_id  rating_scaled\n456790    6040      858       4   956703932   847  6039           0.75\n456672    6040      593       5   956703954   589  6039           0.75\n456732    6040     2384       4   956703954  2315  6039           0.75\n456641    6040     1961       4   956703977  1892  6039           1.00\n456842    6040     2019       5   956703977  1950  6039           0.50\n...        ...      ...     ...         ...   ...   ...            ...\n373230    4958     2399       1  1046454338  2330  4957           0.75\n373293    4958     1407       5  1046454443  1384  4957           0.50\n373382    4958     2634       3  1046454548  2565  4957           0.25\n373229    4958     3264       4  1046454548  3195  4957           0.50\n373352    4958     1924       4  1046454590  1855  4957           0.25\n\n[1000209 rows x 7 columns]",
      "text/html": "<div>\n<style scoped>\n    .dataframe tbody tr th:only-of-type {\n        vertical-align: middle;\n    }\n\n    .dataframe tbody tr th {\n        vertical-align: top;\n    }\n\n    .dataframe thead th {\n        text-align: right;\n    }\n</style>\n<table border=\"1\" class=\"dataframe\">\n  <thead>\n    <tr style=\"text-align: right;\">\n      <th></th>\n      <th>UserID</th>\n      <th>MovieID</th>\n      <th>Rating</th>\n      <th>Timestamp</th>\n      <th>m_id</th>\n      <th>u_id</th>\n      <th>rating_scaled</th>\n    </tr>\n  </thead>\n  <tbody>\n    <tr>\n      <th>456790</th>\n      <td>6040</td>\n      <td>858</td>\n      <td>4</td>\n      <td>956703932</td>\n      <td>847</td>\n      <td>6039</td>\n      <td>0.75</td>\n    </tr>\n    <tr>\n      <th>456672</th>\n      <td>6040</td>\n      <td>593</td>\n      <td>5</td>\n      <td>956703954</td>\n      <td>589</td>\n      <td>6039</td>\n      <td>0.75</td>\n    </tr>\n    <tr>\n      <th>456732</th>\n      <td>6040</td>\n      <td>2384</td>\n      <td>4</td>\n      <td>956703954</td>\n      <td>2315</td>\n      <td>6039</td>\n      <td>0.75</td>\n    </tr>\n    <tr>\n      <th>456641</th>\n      <td>6040</td>\n      <td>1961</td>\n      <td>4</td>\n      <td>956703977</td>\n      <td>1892</td>\n      <td>6039</td>\n      <td>1.00</td>\n    </tr>\n    <tr>\n      <th>456842</th>\n      <td>6040</td>\n      <td>2019</td>\n      <td>5</td>\n      <td>956703977</td>\n      <td>1950</td>\n      <td>6039</td>\n      <td>0.50</td>\n    </tr>\n    <tr>\n      <th>...</th>\n      <td>...</td>\n      <td>...</td>\n      <td>...</td>\n      <td>...</td>\n      <td>...</td>\n      <td>...</td>\n      <td>...</td>\n    </tr>\n    <tr>\n      <th>373230</th>\n      <td>4958</td>\n      <td>2399</td>\n      <td>1</td>\n      <td>1046454338</td>\n      <td>2330</td>\n      <td>4957</td>\n      <td>0.75</td>\n    </tr>\n    <tr>\n      <th>373293</th>\n      <td>4958</td>\n      <td>1407</td>\n      <td>5</td>\n      <td>1046454443</td>\n      <td>1384</td>\n      <td>4957</td>\n      <td>0.50</td>\n    </tr>\n    <tr>\n      <th>373382</th>\n      <td>4958</td>\n      <td>2634</td>\n      <td>3</td>\n      <td>1046454548</td>\n      <td>2565</td>\n      <td>4957</td>\n      <td>0.25</td>\n    </tr>\n    <tr>\n      <th>373229</th>\n      <td>4958</td>\n      <td>3264</td>\n      <td>4</td>\n      <td>1046454548</td>\n      <td>3195</td>\n      <td>4957</td>\n      <td>0.50</td>\n    </tr>\n    <tr>\n      <th>373352</th>\n      <td>4958</td>\n      <td>1924</td>\n      <td>4</td>\n      <td>1046454590</td>\n      <td>1855</td>\n      <td>4957</td>\n      <td>0.25</td>\n    </tr>\n  </tbody>\n</table>\n<p>1000209 rows × 7 columns</p>\n</div>"
     },
     "execution_count": 14,
     "metadata": {},
     "output_type": "execute_result"
    }
   ],
   "source": [
    "data.ratings\n"
   ],
   "metadata": {
    "collapsed": false,
    "pycharm": {
     "name": "#%%\n"
    }
   }
  },
  {
   "cell_type": "code",
   "execution_count": 17,
   "outputs": [
    {
     "data": {
      "text/plain": "Embedding(3883, 16)"
     },
     "execution_count": 17,
     "metadata": {},
     "output_type": "execute_result"
    }
   ],
   "source": [
    "model.item_embedding"
   ],
   "metadata": {
    "collapsed": false,
    "pycharm": {
     "name": "#%%\n"
    }
   }
  },
  {
   "cell_type": "code",
   "execution_count": 19,
   "outputs": [
    {
     "data": {
      "text/plain": "      MovieID                               Title  \\\n0           1                    Toy Story (1995)   \n1           2                      Jumanji (1995)   \n2           3             Grumpier Old Men (1995)   \n3           4            Waiting to Exhale (1995)   \n4           5  Father of the Bride Part II (1995)   \n...       ...                                 ...   \n3878     3948             Meet the Parents (2000)   \n3879     3949          Requiem for a Dream (2000)   \n3880     3950                    Tigerland (2000)   \n3881     3951             Two Family House (2000)   \n3882     3952               Contender, The (2000)   \n\n                            Genres  m_id  \n0      Animation|Children's|Comedy     0  \n1     Adventure|Children's|Fantasy     1  \n2                   Comedy|Romance     2  \n3                     Comedy|Drama     3  \n4                           Comedy     4  \n...                            ...   ...  \n3878                        Comedy  3878  \n3879                         Drama  3879  \n3880                         Drama  3880  \n3881                         Drama  3881  \n3882                Drama|Thriller  3882  \n\n[3883 rows x 4 columns]",
      "text/html": "<div>\n<style scoped>\n    .dataframe tbody tr th:only-of-type {\n        vertical-align: middle;\n    }\n\n    .dataframe tbody tr th {\n        vertical-align: top;\n    }\n\n    .dataframe thead th {\n        text-align: right;\n    }\n</style>\n<table border=\"1\" class=\"dataframe\">\n  <thead>\n    <tr style=\"text-align: right;\">\n      <th></th>\n      <th>MovieID</th>\n      <th>Title</th>\n      <th>Genres</th>\n      <th>m_id</th>\n    </tr>\n  </thead>\n  <tbody>\n    <tr>\n      <th>0</th>\n      <td>1</td>\n      <td>Toy Story (1995)</td>\n      <td>Animation|Children's|Comedy</td>\n      <td>0</td>\n    </tr>\n    <tr>\n      <th>1</th>\n      <td>2</td>\n      <td>Jumanji (1995)</td>\n      <td>Adventure|Children's|Fantasy</td>\n      <td>1</td>\n    </tr>\n    <tr>\n      <th>2</th>\n      <td>3</td>\n      <td>Grumpier Old Men (1995)</td>\n      <td>Comedy|Romance</td>\n      <td>2</td>\n    </tr>\n    <tr>\n      <th>3</th>\n      <td>4</td>\n      <td>Waiting to Exhale (1995)</td>\n      <td>Comedy|Drama</td>\n      <td>3</td>\n    </tr>\n    <tr>\n      <th>4</th>\n      <td>5</td>\n      <td>Father of the Bride Part II (1995)</td>\n      <td>Comedy</td>\n      <td>4</td>\n    </tr>\n    <tr>\n      <th>...</th>\n      <td>...</td>\n      <td>...</td>\n      <td>...</td>\n      <td>...</td>\n    </tr>\n    <tr>\n      <th>3878</th>\n      <td>3948</td>\n      <td>Meet the Parents (2000)</td>\n      <td>Comedy</td>\n      <td>3878</td>\n    </tr>\n    <tr>\n      <th>3879</th>\n      <td>3949</td>\n      <td>Requiem for a Dream (2000)</td>\n      <td>Drama</td>\n      <td>3879</td>\n    </tr>\n    <tr>\n      <th>3880</th>\n      <td>3950</td>\n      <td>Tigerland (2000)</td>\n      <td>Drama</td>\n      <td>3880</td>\n    </tr>\n    <tr>\n      <th>3881</th>\n      <td>3951</td>\n      <td>Two Family House (2000)</td>\n      <td>Drama</td>\n      <td>3881</td>\n    </tr>\n    <tr>\n      <th>3882</th>\n      <td>3952</td>\n      <td>Contender, The (2000)</td>\n      <td>Drama|Thriller</td>\n      <td>3882</td>\n    </tr>\n  </tbody>\n</table>\n<p>3883 rows × 4 columns</p>\n</div>"
     },
     "execution_count": 19,
     "metadata": {},
     "output_type": "execute_result"
    }
   ],
   "source": [
    "data.movies\n"
   ],
   "metadata": {
    "collapsed": false,
    "pycharm": {
     "name": "#%%\n"
    }
   }
  },
  {
   "cell_type": "code",
   "execution_count": 50,
   "outputs": [],
   "source": [
    "toy_story = model.item_embedding.weight[0].detach().numpy()"
   ],
   "metadata": {
    "collapsed": false,
    "pycharm": {
     "name": "#%%\n"
    }
   }
  },
  {
   "cell_type": "code",
   "execution_count": 51,
   "outputs": [],
   "source": [
    "all_embeddings = model.item_embedding.weight.detach().numpy()"
   ],
   "metadata": {
    "collapsed": false,
    "pycharm": {
     "name": "#%%\n"
    }
   }
  },
  {
   "cell_type": "code",
   "execution_count": 52,
   "outputs": [],
   "source": [
    "from sklearn.metrics.pairwise import cosine_similarity, euclidean_distances\n",
    "toy_story = toy_story[None, :]"
   ],
   "metadata": {
    "collapsed": false,
    "pycharm": {
     "name": "#%%\n"
    }
   }
  },
  {
   "cell_type": "code",
   "execution_count": 53,
   "outputs": [],
   "source": [
    "similarity = cosine_similarity(toy_story, all_embeddings)\n",
    "distances = euclidean_distances(toy_story, all_embeddings)"
   ],
   "metadata": {
    "collapsed": false,
    "pycharm": {
     "name": "#%%\n"
    }
   }
  },
  {
   "cell_type": "code",
   "execution_count": 54,
   "outputs": [
    {
     "data": {
      "text/plain": "array([[ 0.99999994,  0.03530335,  0.38939586, ..., -0.28143138,\n         0.21651693,  0.07017481]], dtype=float32)"
     },
     "execution_count": 54,
     "metadata": {},
     "output_type": "execute_result"
    }
   ],
   "source": [
    "similarity"
   ],
   "metadata": {
    "collapsed": false,
    "pycharm": {
     "name": "#%%\n"
    }
   }
  },
  {
   "cell_type": "code",
   "execution_count": 55,
   "outputs": [],
   "source": [
    "import numpy as np\n",
    "most_similar = np.flip(similarity.argsort())\n",
    "most_similar_2 = distances.argsort()"
   ],
   "metadata": {
    "collapsed": false,
    "pycharm": {
     "name": "#%%\n"
    }
   }
  },
  {
   "cell_type": "code",
   "execution_count": 56,
   "outputs": [
    {
     "data": {
      "text/plain": "array([[   0, 3243, 2635, ..., 2783, 3199, 1375]], dtype=int64)"
     },
     "execution_count": 56,
     "metadata": {},
     "output_type": "execute_result"
    }
   ],
   "source": [
    "most_similar"
   ],
   "metadata": {
    "collapsed": false,
    "pycharm": {
     "name": "#%%\n"
    }
   }
  },
  {
   "cell_type": "code",
   "execution_count": 57,
   "outputs": [
    {
     "data": {
      "text/plain": "      MovieID                                              Title  \\\n0           1                                   Toy Story (1995)   \n3243     3312                             McCullochs, The (1975)   \n2635     2704  Lovers on the Bridge, The (Les Amants du Pont-...   \n2455     2524                       Towering Inferno, The (1974)   \n853       864                                   Wife, The (1995)   \n468       472                            I'll Do Anything (1994)   \n2612     2681                             Free Enterprise (1998)   \n919       931                                  Spellbound (1945)   \n2296     2365  King Kong vs. Godzilla (Kingukongu tai Gojira)...   \n3625     3694                 Toxic Avenger, Part II, The (1989)   \n\n                           Genres  m_id  \n0     Animation|Children's|Comedy     0  \n3243                        Drama  3243  \n2635                Drama|Romance  2635  \n2455                 Action|Drama  2455  \n853                  Comedy|Drama   853  \n468                  Comedy|Drama   468  \n2612        Comedy|Romance|Sci-Fi  2612  \n919      Mystery|Romance|Thriller   919  \n2296                Action|Sci-Fi  2296  \n3625                Comedy|Horror  3625  ",
      "text/html": "<div>\n<style scoped>\n    .dataframe tbody tr th:only-of-type {\n        vertical-align: middle;\n    }\n\n    .dataframe tbody tr th {\n        vertical-align: top;\n    }\n\n    .dataframe thead th {\n        text-align: right;\n    }\n</style>\n<table border=\"1\" class=\"dataframe\">\n  <thead>\n    <tr style=\"text-align: right;\">\n      <th></th>\n      <th>MovieID</th>\n      <th>Title</th>\n      <th>Genres</th>\n      <th>m_id</th>\n    </tr>\n  </thead>\n  <tbody>\n    <tr>\n      <th>0</th>\n      <td>1</td>\n      <td>Toy Story (1995)</td>\n      <td>Animation|Children's|Comedy</td>\n      <td>0</td>\n    </tr>\n    <tr>\n      <th>3243</th>\n      <td>3312</td>\n      <td>McCullochs, The (1975)</td>\n      <td>Drama</td>\n      <td>3243</td>\n    </tr>\n    <tr>\n      <th>2635</th>\n      <td>2704</td>\n      <td>Lovers on the Bridge, The (Les Amants du Pont-...</td>\n      <td>Drama|Romance</td>\n      <td>2635</td>\n    </tr>\n    <tr>\n      <th>2455</th>\n      <td>2524</td>\n      <td>Towering Inferno, The (1974)</td>\n      <td>Action|Drama</td>\n      <td>2455</td>\n    </tr>\n    <tr>\n      <th>853</th>\n      <td>864</td>\n      <td>Wife, The (1995)</td>\n      <td>Comedy|Drama</td>\n      <td>853</td>\n    </tr>\n    <tr>\n      <th>468</th>\n      <td>472</td>\n      <td>I'll Do Anything (1994)</td>\n      <td>Comedy|Drama</td>\n      <td>468</td>\n    </tr>\n    <tr>\n      <th>2612</th>\n      <td>2681</td>\n      <td>Free Enterprise (1998)</td>\n      <td>Comedy|Romance|Sci-Fi</td>\n      <td>2612</td>\n    </tr>\n    <tr>\n      <th>919</th>\n      <td>931</td>\n      <td>Spellbound (1945)</td>\n      <td>Mystery|Romance|Thriller</td>\n      <td>919</td>\n    </tr>\n    <tr>\n      <th>2296</th>\n      <td>2365</td>\n      <td>King Kong vs. Godzilla (Kingukongu tai Gojira)...</td>\n      <td>Action|Sci-Fi</td>\n      <td>2296</td>\n    </tr>\n    <tr>\n      <th>3625</th>\n      <td>3694</td>\n      <td>Toxic Avenger, Part II, The (1989)</td>\n      <td>Comedy|Horror</td>\n      <td>3625</td>\n    </tr>\n  </tbody>\n</table>\n</div>"
     },
     "execution_count": 57,
     "metadata": {},
     "output_type": "execute_result"
    }
   ],
   "source": [
    "data.movies.iloc[most_similar.squeeze()].head(10)"
   ],
   "metadata": {
    "collapsed": false,
    "pycharm": {
     "name": "#%%\n"
    }
   }
  },
  {
   "cell_type": "code",
   "execution_count": 58,
   "outputs": [
    {
     "data": {
      "text/plain": "      MovieID                                              Title  \\\n0           1                                   Toy Story (1995)   \n2635     2704  Lovers on the Bridge, The (Les Amants du Pont-...   \n853       864                                   Wife, The (1995)   \n919       931                                  Spellbound (1945)   \n2455     2524                       Towering Inferno, The (1974)   \n3625     3694                 Toxic Avenger, Part II, The (1989)   \n2612     2681                             Free Enterprise (1998)   \n468       472                            I'll Do Anything (1994)   \n2135     2204                                    Saboteur (1942)   \n3243     3312                             McCullochs, The (1975)   \n\n                           Genres  m_id  \n0     Animation|Children's|Comedy     0  \n2635                Drama|Romance  2635  \n853                  Comedy|Drama   853  \n919      Mystery|Romance|Thriller   919  \n2455                 Action|Drama  2455  \n3625                Comedy|Horror  3625  \n2612        Comedy|Romance|Sci-Fi  2612  \n468                  Comedy|Drama   468  \n2135                     Thriller  2135  \n3243                        Drama  3243  ",
      "text/html": "<div>\n<style scoped>\n    .dataframe tbody tr th:only-of-type {\n        vertical-align: middle;\n    }\n\n    .dataframe tbody tr th {\n        vertical-align: top;\n    }\n\n    .dataframe thead th {\n        text-align: right;\n    }\n</style>\n<table border=\"1\" class=\"dataframe\">\n  <thead>\n    <tr style=\"text-align: right;\">\n      <th></th>\n      <th>MovieID</th>\n      <th>Title</th>\n      <th>Genres</th>\n      <th>m_id</th>\n    </tr>\n  </thead>\n  <tbody>\n    <tr>\n      <th>0</th>\n      <td>1</td>\n      <td>Toy Story (1995)</td>\n      <td>Animation|Children's|Comedy</td>\n      <td>0</td>\n    </tr>\n    <tr>\n      <th>2635</th>\n      <td>2704</td>\n      <td>Lovers on the Bridge, The (Les Amants du Pont-...</td>\n      <td>Drama|Romance</td>\n      <td>2635</td>\n    </tr>\n    <tr>\n      <th>853</th>\n      <td>864</td>\n      <td>Wife, The (1995)</td>\n      <td>Comedy|Drama</td>\n      <td>853</td>\n    </tr>\n    <tr>\n      <th>919</th>\n      <td>931</td>\n      <td>Spellbound (1945)</td>\n      <td>Mystery|Romance|Thriller</td>\n      <td>919</td>\n    </tr>\n    <tr>\n      <th>2455</th>\n      <td>2524</td>\n      <td>Towering Inferno, The (1974)</td>\n      <td>Action|Drama</td>\n      <td>2455</td>\n    </tr>\n    <tr>\n      <th>3625</th>\n      <td>3694</td>\n      <td>Toxic Avenger, Part II, The (1989)</td>\n      <td>Comedy|Horror</td>\n      <td>3625</td>\n    </tr>\n    <tr>\n      <th>2612</th>\n      <td>2681</td>\n      <td>Free Enterprise (1998)</td>\n      <td>Comedy|Romance|Sci-Fi</td>\n      <td>2612</td>\n    </tr>\n    <tr>\n      <th>468</th>\n      <td>472</td>\n      <td>I'll Do Anything (1994)</td>\n      <td>Comedy|Drama</td>\n      <td>468</td>\n    </tr>\n    <tr>\n      <th>2135</th>\n      <td>2204</td>\n      <td>Saboteur (1942)</td>\n      <td>Thriller</td>\n      <td>2135</td>\n    </tr>\n    <tr>\n      <th>3243</th>\n      <td>3312</td>\n      <td>McCullochs, The (1975)</td>\n      <td>Drama</td>\n      <td>3243</td>\n    </tr>\n  </tbody>\n</table>\n</div>"
     },
     "execution_count": 58,
     "metadata": {},
     "output_type": "execute_result"
    }
   ],
   "source": [
    "data.movies.iloc[most_similar_2.squeeze()].head(10)\n"
   ],
   "metadata": {
    "collapsed": false,
    "pycharm": {
     "name": "#%%\n"
    }
   }
  },
  {
   "cell_type": "code",
   "execution_count": null,
   "outputs": [],
   "source": [],
   "metadata": {
    "collapsed": false,
    "pycharm": {
     "name": "#%%\n"
    }
   }
  }
 ],
 "metadata": {
  "kernelspec": {
   "display_name": "Python 3",
   "language": "python",
   "name": "python3"
  },
  "language_info": {
   "codemirror_mode": {
    "name": "ipython",
    "version": 2
   },
   "file_extension": ".py",
   "mimetype": "text/x-python",
   "name": "python",
   "nbconvert_exporter": "python",
   "pygments_lexer": "ipython2",
   "version": "2.7.6"
  }
 },
 "nbformat": 4,
 "nbformat_minor": 0
}