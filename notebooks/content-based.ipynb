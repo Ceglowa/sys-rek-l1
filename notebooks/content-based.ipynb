{
 "cells": [
  {
   "cell_type": "code",
   "execution_count": null,
   "metadata": {},
   "outputs": [],
   "source": []
  }
 ],
 "metadata": {
  "kernelspec": {
   "display_name": "Python 3.9.2  ('venv': venv)",
   "metadata": {
    "interpreter": {
     "hash": "cba70d05618ea7eb51a384ca103fdfbcbf0b78c16183c0fc8e62f02054b28d86"
    }
   },
   "name": "python3"
  },
  "language_info": {
   "name": "python",
   "nbconvert_exporter": "python",
   "version": "3.9.2"
  },
  "orig_nbformat": 2
 },
 "nbformat": 4,
 "nbformat_minor": 2
}