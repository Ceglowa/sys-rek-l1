{
 "cells": [
  {
   "cell_type": "code",
   "execution_count": 23,
   "outputs": [],
   "source": [
    "%load_ext autoreload\n",
    "%autoreload 2"
   ],
   "metadata": {
    "collapsed": false,
    "pycharm": {
     "name": "#%%\n"
    }
   }
  },
  {
   "cell_type": "code",
   "execution_count": 28,
   "metadata": {},
   "outputs": [],
   "source": [
    "import os\n",
    "import surprise\n",
    "from surprise import Dataset, Reader\n",
    "import pandas as pd"
   ]
  },
  {
   "cell_type": "code",
   "execution_count": 25,
   "outputs": [],
   "source": [
    "movielens = Dataset.load_builtin('ml-1m', prompt=False)"
   ],
   "metadata": {
    "collapsed": false,
    "pycharm": {
     "name": "#%%\n"
    }
   }
  },
  {
   "cell_type": "code",
   "execution_count": 33,
   "outputs": [],
   "source": [
    "movies_file = f\"{surprise.get_dataset_dir()}/ml-1m/ml-1m/movies.dat\"\n",
    "users_file = f\"{surprise.get_dataset_dir()}/ml-1m/ml-1m/users.dat\"\n",
    "ratings_file = f\"{surprise.get_dataset_dir()}/ml-1m/ml-1m/ratings.dat\""
   ],
   "metadata": {
    "collapsed": false,
    "pycharm": {
     "name": "#%%\n"
    }
   }
  },
  {
   "cell_type": "code",
   "execution_count": 34,
   "outputs": [
    {
     "name": "stdout",
     "output_type": "stream",
     "text": [
      "True\n",
      "True\n"
     ]
    }
   ],
   "source": [
    "print(os.path.exists(movies_file))\n",
    "print(os.path.exists(users_file))"
   ],
   "metadata": {
    "collapsed": false,
    "pycharm": {
     "name": "#%%\n"
    }
   }
  },
  {
   "cell_type": "code",
   "execution_count": 35,
   "outputs": [],
   "source": [
    "movies_df = pd.read_csv(movies_file, sep=\"::\", names=[\"MovieID\", \"Title\", \"Genres\"], engine='python')\n",
    "users_df = pd.read_csv(users_file, sep=\"::\", names=[\"UserID\", \"Gender\", \"Age\", \"Occupation\", \"Zip-code\"], engine='python')\n",
    "ratings_df = pd.read_csv(ratings_file, sep=\"::\", names=[\"UserID\", \"MovieID\", \"Rating\", \"Timestamp\"], engine='python')"
   ],
   "metadata": {
    "collapsed": false,
    "pycharm": {
     "name": "#%%\n"
    }
   }
  }
 ],
 "metadata": {
  "kernelspec": {
   "name": "python3",
   "language": "python",
   "display_name": "Python 3"
  },
  "language_info": {
   "name": "python",
   "nbconvert_exporter": "python",
   "version": "3.9.2"
  },
  "orig_nbformat": 2
 },
 "nbformat": 4,
 "nbformat_minor": 2
}