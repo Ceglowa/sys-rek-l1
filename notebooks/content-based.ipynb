{
 "cells": [
  {
   "cell_type": "code",
   "execution_count": 51,
   "outputs": [
    {
     "name": "stdout",
     "output_type": "stream",
     "text": [
      "The autoreload extension is already loaded. To reload it, use:\n",
      "  %reload_ext autoreload\n"
     ]
    }
   ],
   "source": [
    "%load_ext autoreload\n",
    "%autoreload 2"
   ],
   "metadata": {
    "collapsed": false,
    "pycharm": {
     "name": "#%%\n"
    }
   }
  },
  {
   "cell_type": "code",
   "execution_count": 52,
   "metadata": {},
   "outputs": [],
   "source": [
    "import os\n",
    "import surprise\n",
    "from surprise import Dataset, Reader\n",
    "import pandas as pd\n",
    "from sklearn.feature_extraction.text import CountVectorizer, TfidfVectorizer"
   ]
  },
  {
   "cell_type": "code",
   "execution_count": 25,
   "outputs": [],
   "source": [
    "movielens = Dataset.load_builtin('ml-1m', prompt=False)"
   ],
   "metadata": {
    "collapsed": false,
    "pycharm": {
     "name": "#%%\n"
    }
   }
  },
  {
   "cell_type": "code",
   "execution_count": 33,
   "outputs": [],
   "source": [
    "movies_file = f\"{surprise.get_dataset_dir()}/ml-1m/ml-1m/movies.dat\"\n",
    "users_file = f\"{surprise.get_dataset_dir()}/ml-1m/ml-1m/users.dat\"\n",
    "ratings_file = f\"{surprise.get_dataset_dir()}/ml-1m/ml-1m/ratings.dat\""
   ],
   "metadata": {
    "collapsed": false,
    "pycharm": {
     "name": "#%%\n"
    }
   }
  },
  {
   "cell_type": "code",
   "execution_count": 108,
   "outputs": [
    {
     "name": "stdout",
     "output_type": "stream",
     "text": [
      "True\n",
      "True\n",
      "True\n"
     ]
    }
   ],
   "source": [
    "print(os.path.exists(movies_file))\n",
    "print(os.path.exists(users_file))\n",
    "print(os.path.exists(ratings_file))"
   ],
   "metadata": {
    "collapsed": false,
    "pycharm": {
     "name": "#%%\n"
    }
   }
  },
  {
   "cell_type": "code",
   "execution_count": 55,
   "outputs": [],
   "source": [
    "movies_df = pd.read_csv(movies_file, sep=\"::\", names=[\"MovieID\", \"Title\", \"Genres\"], engine='python')\n",
    "users_df = pd.read_csv(users_file, sep=\"::\", names=[\"UserID\", \"Gender\", \"Age\", \"Occupation\", \"Zip-code\"], engine='python')\n",
    "ratings_df = pd.read_csv(ratings_file, sep=\"::\", names=[\"UserID\", \"MovieID\", \"Rating\", \"Timestamp\"], engine='python')"
   ],
   "metadata": {
    "collapsed": false,
    "pycharm": {
     "name": "#%%\n"
    }
   }
  },
  {
   "cell_type": "code",
   "execution_count": 56,
   "outputs": [],
   "source": [
    "movies_df['Genres'] = movies_df['Genres'].apply(lambda genres: \" \".join(genres.split(\"|\")))"
   ],
   "metadata": {
    "collapsed": false,
    "pycharm": {
     "name": "#%%\n"
    }
   }
  },
  {
   "cell_type": "code",
   "execution_count": 72,
   "outputs": [
    {
     "data": {
      "text/plain": "   MovieID                               Title                        Genres\n0        1                    Toy Story (1995)   Animation Children's Comedy\n1        2                      Jumanji (1995)  Adventure Children's Fantasy\n2        3             Grumpier Old Men (1995)                Comedy Romance\n3        4            Waiting to Exhale (1995)                  Comedy Drama\n4        5  Father of the Bride Part II (1995)                        Comedy",
      "text/html": "<div>\n<style scoped>\n    .dataframe tbody tr th:only-of-type {\n        vertical-align: middle;\n    }\n\n    .dataframe tbody tr th {\n        vertical-align: top;\n    }\n\n    .dataframe thead th {\n        text-align: right;\n    }\n</style>\n<table border=\"1\" class=\"dataframe\">\n  <thead>\n    <tr style=\"text-align: right;\">\n      <th></th>\n      <th>MovieID</th>\n      <th>Title</th>\n      <th>Genres</th>\n    </tr>\n  </thead>\n  <tbody>\n    <tr>\n      <th>0</th>\n      <td>1</td>\n      <td>Toy Story (1995)</td>\n      <td>Animation Children's Comedy</td>\n    </tr>\n    <tr>\n      <th>1</th>\n      <td>2</td>\n      <td>Jumanji (1995)</td>\n      <td>Adventure Children's Fantasy</td>\n    </tr>\n    <tr>\n      <th>2</th>\n      <td>3</td>\n      <td>Grumpier Old Men (1995)</td>\n      <td>Comedy Romance</td>\n    </tr>\n    <tr>\n      <th>3</th>\n      <td>4</td>\n      <td>Waiting to Exhale (1995)</td>\n      <td>Comedy Drama</td>\n    </tr>\n    <tr>\n      <th>4</th>\n      <td>5</td>\n      <td>Father of the Bride Part II (1995)</td>\n      <td>Comedy</td>\n    </tr>\n  </tbody>\n</table>\n</div>"
     },
     "execution_count": 72,
     "metadata": {},
     "output_type": "execute_result"
    }
   ],
   "source": [
    "movies_df.head(5)"
   ],
   "metadata": {
    "collapsed": false,
    "pycharm": {
     "name": "#%%\n"
    }
   }
  },
  {
   "cell_type": "code",
   "execution_count": 60,
   "outputs": [
    {
     "data": {
      "text/plain": "0"
     },
     "execution_count": 60,
     "metadata": {},
     "output_type": "execute_result"
    }
   ],
   "source": [
    "sum(movies_df['Genres'].isna())"
   ],
   "metadata": {
    "collapsed": false,
    "pycharm": {
     "name": "#%%\n"
    }
   }
  },
  {
   "cell_type": "code",
   "execution_count": 65,
   "outputs": [],
   "source": [
    "tfidf = TfidfVectorizer(max_features=20,analyzer='word')\n",
    "x = tfidf.fit_transform(movies_df[\"Genres\"])"
   ],
   "metadata": {
    "collapsed": false,
    "pycharm": {
     "name": "#%%\n"
    }
   }
  },
  {
   "cell_type": "code",
   "execution_count": 77,
   "outputs": [
    {
     "data": {
      "text/plain": "(3883, 20)"
     },
     "execution_count": 77,
     "metadata": {},
     "output_type": "execute_result"
    }
   ],
   "source": [
    "x.shape"
   ],
   "metadata": {
    "collapsed": false,
    "pycharm": {
     "name": "#%%\n"
    }
   }
  },
  {
   "cell_type": "code",
   "execution_count": 66,
   "outputs": [
    {
     "data": {
      "text/plain": "array([[1.        , 0.30552517, 0.19737232, 0.26019351],\n       [0.30552517, 1.        , 0.        , 0.        ],\n       [0.19737232, 0.        , 1.        , 0.43309256],\n       [0.26019351, 0.        , 0.43309256, 1.        ]])"
     },
     "execution_count": 66,
     "metadata": {},
     "output_type": "execute_result"
    }
   ],
   "source": [
    "from sklearn.metrics.pairwise import linear_kernel\n",
    "cosine_sim = linear_kernel(x, x)\n",
    "cosine_sim[:4, :4]"
   ],
   "metadata": {
    "collapsed": false,
    "pycharm": {
     "name": "#%%\n"
    }
   }
  },
  {
   "cell_type": "code",
   "execution_count": 81,
   "outputs": [],
   "source": [
    "names_to_indices = pd.Series(movies_df.index, index = movies_df['Title'])"
   ],
   "metadata": {
    "collapsed": false,
    "pycharm": {
     "name": "#%%\n"
    }
   }
  },
  {
   "cell_type": "code",
   "execution_count": 106,
   "outputs": [
    {
     "name": "stdout",
     "output_type": "stream",
     "text": [
      "Because you watched Toy Story (1995), you might also like:\n",
      "\tAladdin and the King of Thieves (1996)\n",
      "\tAmerican Tail, An (1986)\n",
      "\tAmerican Tail: Fievel Goes West, An (1991)\n",
      "\tRugrats Movie, The (1998)\n",
      "\tBug's Life, A (1998)\n",
      "\tToy Story 2 (1999)\n",
      "\tSaludos Amigos (1943)\n",
      "\tChicken Run (2000)\n",
      "\tAdventures of Rocky and Bullwinkle, The (2000)\n",
      "\tBalto (1995)\n"
     ]
    }
   ],
   "source": [
    "def recommend_by_name(name, n=10):\n",
    "    idx = names_to_indices[name]\n",
    "    sims = list(enumerate(cosine_sim[idx]))\n",
    "    sims = sorted(sims,key= lambda x:x[1], reverse=True)\n",
    "    top_sims = sims[1:n+1]\n",
    "    top_indicies = [i[0] for i in top_sims]\n",
    "    return movies_df.iloc[top_indicies]\n",
    "\n",
    "recommended_films = recommend_by_name(\"Toy Story (1995)\")\n",
    "\n",
    "print(\"Because you watched Toy Story (1995), you might also like:\")\n",
    "for idx,row in recommended_films.iterrows():\n",
    "    print(f\"\\t{row['Title']}\")"
   ],
   "metadata": {
    "collapsed": false,
    "pycharm": {
     "name": "#%%\n"
    }
   }
  },
  {
   "cell_type": "code",
   "execution_count": 107,
   "outputs": [
    {
     "name": "stdout",
     "output_type": "stream",
     "text": [
      "Because you watched Jumanji (1995), you might also like:\n",
      "\tKids of the Round Table (1995)\n",
      "\tIndian in the Cupboard, The (1995)\n",
      "\tNeverEnding Story III, The (1994)\n",
      "\tEscape to Witch Mountain (1975)\n",
      "\tLabyrinth (1986)\n",
      "\tGoonies, The (1985)\n",
      "\tDarby O'Gill and the Little People (1959)\n",
      "\tNeverEnding Story, The (1984)\n",
      "\tNeverEnding Story II: The Next Chapter, The (1990)\n",
      "\tSanta Claus: The Movie (1985)\n"
     ]
    }
   ],
   "source": [
    "recommended_films = recommend_by_name(\"Jumanji (1995)\")\n",
    "\n",
    "print(\"Because you watched Jumanji (1995), you might also like:\")\n",
    "for idx,row in recommended_films.iterrows():\n",
    "    print(f\"\\t{row['Title']}\")"
   ],
   "metadata": {
    "collapsed": false,
    "pycharm": {
     "name": "#%%\n"
    }
   }
  }
 ],
 "metadata": {
  "kernelspec": {
   "name": "python3",
   "language": "python",
   "display_name": "Python 3"
  },
  "language_info": {
   "name": "python",
   "nbconvert_exporter": "python",
   "version": "3.9.2"
  },
  "orig_nbformat": 2
 },
 "nbformat": 4,
 "nbformat_minor": 2
}