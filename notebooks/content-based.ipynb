{
 "cells": [
  {
   "cell_type": "code",
   "execution_count": 51,
   "outputs": [
    {
     "name": "stdout",
     "output_type": "stream",
     "text": [
      "The autoreload extension is already loaded. To reload it, use:\n",
      "  %reload_ext autoreload\n"
     ]
    }
   ],
   "source": [
    "%load_ext autoreload\n",
    "%autoreload 2"
   ],
   "metadata": {
    "collapsed": false,
    "pycharm": {
     "name": "#%%\n"
    }
   }
  },
  {
   "cell_type": "code",
   "execution_count": 52,
   "metadata": {},
   "outputs": [],
   "source": [
    "import os\n",
    "import surprise\n",
    "from surprise import Dataset\n",
    "import pandas as pd\n",
    "from sklearn.feature_extraction.text import CountVectorizer, TfidfVectorizer\n",
    "from sklearn.metrics.pairwise import linear_kernel"
   ]
  },
  {
   "cell_type": "code",
   "execution_count": 25,
   "outputs": [],
   "source": [
    "movielens = Dataset.load_builtin('ml-1m', prompt=False)"
   ],
   "metadata": {
    "collapsed": false,
    "pycharm": {
     "name": "#%%\n"
    }
   }
  },
  {
   "cell_type": "code",
   "execution_count": 33,
   "outputs": [],
   "source": [
    "movies_file = f\"{surprise.get_dataset_dir()}/ml-1m/ml-1m/movies.dat\"\n",
    "users_file = f\"{surprise.get_dataset_dir()}/ml-1m/ml-1m/users.dat\"\n",
    "ratings_file = f\"{surprise.get_dataset_dir()}/ml-1m/ml-1m/ratings.dat\""
   ],
   "metadata": {
    "collapsed": false,
    "pycharm": {
     "name": "#%%\n"
    }
   }
  },
  {
   "cell_type": "code",
   "execution_count": 108,
   "outputs": [
    {
     "name": "stdout",
     "output_type": "stream",
     "text": [
      "True\n",
      "True\n",
      "True\n"
     ]
    }
   ],
   "source": [
    "print(os.path.exists(movies_file))\n",
    "print(os.path.exists(users_file))\n",
    "print(os.path.exists(ratings_file))"
   ],
   "metadata": {
    "collapsed": false,
    "pycharm": {
     "name": "#%%\n"
    }
   }
  },
  {
   "cell_type": "code",
   "execution_count": 55,
   "outputs": [],
   "source": [
    "movies_df = pd.read_csv(movies_file, sep=\"::\", names=[\"MovieID\", \"Title\", \"Genres\"], engine='python')\n",
    "users_df = pd.read_csv(users_file, sep=\"::\", names=[\"UserID\", \"Gender\", \"Age\", \"Occupation\", \"Zip-code\"], engine='python')\n",
    "ratings_df = pd.read_csv(ratings_file, sep=\"::\", names=[\"UserID\", \"MovieID\", \"Rating\", \"Timestamp\"], engine='python')"
   ],
   "metadata": {
    "collapsed": false,
    "pycharm": {
     "name": "#%%\n"
    }
   }
  },
  {
   "cell_type": "markdown",
   "source": [
    "Genres-based recommendation"
   ],
   "metadata": {
    "collapsed": false,
    "pycharm": {
     "name": "#%% md\n"
    }
   }
  },
  {
   "cell_type": "code",
   "execution_count": 56,
   "outputs": [],
   "source": [
    "movies_df['Genres'] = movies_df['Genres'].apply(lambda genres: \" \".join(genres.split(\"|\")))"
   ],
   "metadata": {
    "collapsed": false,
    "pycharm": {
     "name": "#%%\n"
    }
   }
  },
  {
   "cell_type": "code",
   "execution_count": 72,
   "outputs": [
    {
     "data": {
      "text/plain": "   MovieID                               Title                        Genres\n0        1                    Toy Story (1995)   Animation Children's Comedy\n1        2                      Jumanji (1995)  Adventure Children's Fantasy\n2        3             Grumpier Old Men (1995)                Comedy Romance\n3        4            Waiting to Exhale (1995)                  Comedy Drama\n4        5  Father of the Bride Part II (1995)                        Comedy",
      "text/html": "<div>\n<style scoped>\n    .dataframe tbody tr th:only-of-type {\n        vertical-align: middle;\n    }\n\n    .dataframe tbody tr th {\n        vertical-align: top;\n    }\n\n    .dataframe thead th {\n        text-align: right;\n    }\n</style>\n<table border=\"1\" class=\"dataframe\">\n  <thead>\n    <tr style=\"text-align: right;\">\n      <th></th>\n      <th>MovieID</th>\n      <th>Title</th>\n      <th>Genres</th>\n    </tr>\n  </thead>\n  <tbody>\n    <tr>\n      <th>0</th>\n      <td>1</td>\n      <td>Toy Story (1995)</td>\n      <td>Animation Children's Comedy</td>\n    </tr>\n    <tr>\n      <th>1</th>\n      <td>2</td>\n      <td>Jumanji (1995)</td>\n      <td>Adventure Children's Fantasy</td>\n    </tr>\n    <tr>\n      <th>2</th>\n      <td>3</td>\n      <td>Grumpier Old Men (1995)</td>\n      <td>Comedy Romance</td>\n    </tr>\n    <tr>\n      <th>3</th>\n      <td>4</td>\n      <td>Waiting to Exhale (1995)</td>\n      <td>Comedy Drama</td>\n    </tr>\n    <tr>\n      <th>4</th>\n      <td>5</td>\n      <td>Father of the Bride Part II (1995)</td>\n      <td>Comedy</td>\n    </tr>\n  </tbody>\n</table>\n</div>"
     },
     "execution_count": 72,
     "metadata": {},
     "output_type": "execute_result"
    }
   ],
   "source": [
    "movies_df.head(5)"
   ],
   "metadata": {
    "collapsed": false,
    "pycharm": {
     "name": "#%%\n"
    }
   }
  },
  {
   "cell_type": "code",
   "execution_count": 60,
   "outputs": [
    {
     "data": {
      "text/plain": "0"
     },
     "execution_count": 60,
     "metadata": {},
     "output_type": "execute_result"
    }
   ],
   "source": [
    "sum(movies_df['Genres'].isna())"
   ],
   "metadata": {
    "collapsed": false,
    "pycharm": {
     "name": "#%%\n"
    }
   }
  },
  {
   "cell_type": "code",
   "execution_count": 114,
   "outputs": [
    {
     "name": "stdout",
     "output_type": "stream",
     "text": [
      "(3883, 20)\n"
     ]
    }
   ],
   "source": [
    "tfidf = TfidfVectorizer(max_features=20,analyzer='word')\n",
    "tfidf_matrix = tfidf.fit_transform(movies_df[\"Genres\"])\n",
    "print(tfidf_matrix.shape)"
   ],
   "metadata": {
    "collapsed": false,
    "pycharm": {
     "name": "#%%\n"
    }
   }
  },
  {
   "cell_type": "code",
   "execution_count": 115,
   "outputs": [
    {
     "name": "stdout",
     "output_type": "stream",
     "text": [
      "(3883, 20)\n"
     ]
    }
   ],
   "source": [
    "cv = CountVectorizer(max_features=20, analyzer='word')\n",
    "cv_matrix = cv.fit_transform(movies_df[\"Genres\"]).toarray()\n",
    "print(cv_matrix.shape)"
   ],
   "metadata": {
    "collapsed": false,
    "pycharm": {
     "name": "#%%\n"
    }
   }
  },
  {
   "cell_type": "code",
   "execution_count": 116,
   "outputs": [
    {
     "name": "stdout",
     "output_type": "stream",
     "text": [
      "[[1.         0.30552517 0.19737232 0.26019351]\n",
      " [0.30552517 1.         0.         0.        ]\n",
      " [0.19737232 0.         1.         0.43309256]\n",
      " [0.26019351 0.         0.43309256 1.        ]]\n",
      "[[3. 1. 1. 1.]\n",
      " [1. 3. 0. 0.]\n",
      " [1. 0. 2. 1.]\n",
      " [1. 0. 1. 2.]]\n"
     ]
    }
   ],
   "source": [
    "cosine_sim_tf_idf = linear_kernel(tfidf_matrix, tfidf_matrix)\n",
    "print(cosine_sim_tf_idf[:4, :4])\n",
    "\n",
    "cosine_sim_cv = linear_kernel(cv_matrix, cv_matrix)\n",
    "print(cosine_sim_cv[:4, :4])\n",
    "\n",
    "names_to_indices = pd.Series(movies_df.index, index = movies_df['Title'])"
   ],
   "metadata": {
    "collapsed": false,
    "pycharm": {
     "name": "#%%\n"
    }
   }
  },
  {
   "cell_type": "code",
   "execution_count": 120,
   "outputs": [
    {
     "name": "stdout",
     "output_type": "stream",
     "text": [
      "Because you watched Toy Story (1995), you might also like:\n",
      "\tGoofy Movie, A (1995)\n",
      "\tAladdin (1992)\n",
      "\tSpace Jam (1996)\n",
      "\tAladdin and the King of Thieves (1996)\n",
      "\tHercules (1997)\n",
      "\tJungle Book, The (1967)\n",
      "\tLady and the Tramp (1955)\n",
      "\tLittle Mermaid, The (1989)\n",
      "\tSteamboat Willie (1940)\n",
      "\tAmerican Tail, An (1986)\n",
      "\n",
      "Because you watched Toy Story (1995), you might also like:\n",
      "\tAladdin and the King of Thieves (1996)\n",
      "\tAmerican Tail, An (1986)\n",
      "\tAmerican Tail: Fievel Goes West, An (1991)\n",
      "\tRugrats Movie, The (1998)\n",
      "\tBug's Life, A (1998)\n",
      "\tToy Story 2 (1999)\n",
      "\tSaludos Amigos (1943)\n",
      "\tChicken Run (2000)\n",
      "\tAdventures of Rocky and Bullwinkle, The (2000)\n",
      "\tBalto (1995)\n"
     ]
    }
   ],
   "source": [
    "def recommend_by_name(name, sim_matrix, n=10):\n",
    "    idx = names_to_indices[name]\n",
    "    sims = list(enumerate(sim_matrix[idx]))\n",
    "    sims = sorted(sims,key= lambda x:x[1], reverse=True)\n",
    "    top_sims = sims[1:n+1]\n",
    "    top_indicies = [i[0] for i in top_sims]\n",
    "    return movies_df.iloc[top_indicies]\n",
    "\n",
    "recommended_films = recommend_by_name(\"Toy Story (1995)\", cosine_sim_cv)\n",
    "\n",
    "print(\"Because you watched Toy Story (1995), you might also like:\")\n",
    "for idx,row in recommended_films.iterrows():\n",
    "    print(f\"\\t{row['Title']}\")\n",
    "\n",
    "print()\n",
    "recommended_films = recommend_by_name(\"Toy Story (1995)\", cosine_sim_tf_idf)\n",
    "\n",
    "print(\"Because you watched Toy Story (1995), you might also like:\")\n",
    "for idx,row in recommended_films.iterrows():\n",
    "    print(f\"\\t{row['Title']}\")\n"
   ],
   "metadata": {
    "collapsed": false,
    "pycharm": {
     "name": "#%%\n"
    }
   }
  },
  {
   "cell_type": "markdown",
   "source": [
    "Genres+Title-based recommendation\n"
   ],
   "metadata": {
    "collapsed": false
   }
  },
  {
   "cell_type": "code",
   "execution_count": 123,
   "outputs": [],
   "source": [
    "movies_df['GT'] = movies_df[\"Title\"]+\" \"+movies_df[\"Genres\"]"
   ],
   "metadata": {
    "collapsed": false,
    "pycharm": {
     "name": "#%%\n"
    }
   }
  },
  {
   "cell_type": "code",
   "execution_count": 134,
   "outputs": [
    {
     "name": "stdout",
     "output_type": "stream",
     "text": [
      "(3883, 400)\n"
     ]
    }
   ],
   "source": [
    "tfidf = TfidfVectorizer(max_features=400,analyzer='word')\n",
    "tfidf_matrix = tfidf.fit_transform(movies_df[\"GT\"])\n",
    "print(tfidf_matrix.shape)"
   ],
   "metadata": {
    "collapsed": false,
    "pycharm": {
     "name": "#%%\n"
    }
   }
  },
  {
   "cell_type": "code",
   "execution_count": 135,
   "outputs": [
    {
     "name": "stdout",
     "output_type": "stream",
     "text": [
      "(3883, 30)\n"
     ]
    }
   ],
   "source": [
    "cv = CountVectorizer(max_features=30, analyzer='word')\n",
    "cv_matrix = cv.fit_transform(movies_df[\"GT\"]).toarray()\n",
    "print(cv_matrix.shape)"
   ],
   "metadata": {
    "collapsed": false,
    "pycharm": {
     "name": "#%%\n"
    }
   }
  },
  {
   "cell_type": "code",
   "execution_count": 136,
   "outputs": [
    {
     "name": "stdout",
     "output_type": "stream",
     "text": [
      "[[1.         0.34439139 0.16729851 0.27076221]\n",
      " [0.34439139 1.         0.13804774 0.22342166]\n",
      " [0.16729851 0.13804774 1.         0.23454174]\n",
      " [0.27076221 0.22342166 0.23454174 1.        ]]\n",
      "[[4. 2. 2. 2.]\n",
      " [2. 3. 1. 1.]\n",
      " [2. 1. 3. 2.]\n",
      " [2. 1. 2. 3.]]\n"
     ]
    }
   ],
   "source": [
    "cosine_sim_tf_idf = linear_kernel(tfidf_matrix, tfidf_matrix)\n",
    "print(cosine_sim_tf_idf[:4, :4])\n",
    "\n",
    "cosine_sim_cv = linear_kernel(cv_matrix, cv_matrix)\n",
    "print(cosine_sim_cv[:4, :4])\n",
    "\n",
    "names_to_indices = pd.Series(movies_df.index, index = movies_df['Title'])"
   ],
   "metadata": {
    "collapsed": false,
    "pycharm": {
     "name": "#%%\n"
    }
   }
  },
  {
   "cell_type": "code",
   "execution_count": 137,
   "outputs": [
    {
     "name": "stdout",
     "output_type": "stream",
     "text": [
      "Because you watched Toy Story (1995), you might also like:\n",
      "\tGoofy Movie, A (1995)\n",
      "\tBalto (1995)\n",
      "\tBabe (1995)\n",
      "\tPocahontas (1995)\n",
      "\tBig Green, The (1995)\n",
      "\tGumby: The Movie (1995)\n",
      "\tKid in King Arthur's Court, A (1995)\n",
      "\tAladdin (1992)\n",
      "\tSpace Jam (1996)\n",
      "\tClose Shave, A (1995)\n",
      "\n",
      "Because you watched Toy Story (1995), you might also like:\n",
      "\tToy Story 2 (1999)\n",
      "\tBalto (1995)\n",
      "\tLilian's Story (1995)\n",
      "\tClose Shave, A (1995)\n",
      "\tPyromaniac's Love Story, A (1995)\n",
      "\tPocahontas (1995)\n",
      "\tBabe (1995)\n",
      "\tGoofy Movie, A (1995)\n",
      "\tWe're Back! A Dinosaur's Story (1993)\n",
      "\tMulan (1998)\n"
     ]
    }
   ],
   "source": [
    "def recommend_by_name(name, sim_matrix, n=10):\n",
    "    idx = names_to_indices[name]\n",
    "    sims = list(enumerate(sim_matrix[idx]))\n",
    "    sims = sorted(sims,key= lambda x:x[1], reverse=True)\n",
    "    top_sims = sims[1:n+1]\n",
    "    top_indicies = [i[0] for i in top_sims]\n",
    "    return movies_df.iloc[top_indicies]\n",
    "\n",
    "recommended_films = recommend_by_name(\"Toy Story (1995)\", cosine_sim_cv)\n",
    "\n",
    "print(\"Because you watched Toy Story (1995), you might also like:\")\n",
    "for idx,row in recommended_films.iterrows():\n",
    "    print(f\"\\t{row['Title']}\")\n",
    "\n",
    "print()\n",
    "recommended_films = recommend_by_name(\"Toy Story (1995)\", cosine_sim_tf_idf)\n",
    "\n",
    "print(\"Because you watched Toy Story (1995), you might also like:\")\n",
    "for idx,row in recommended_films.iterrows():\n",
    "    print(f\"\\t{row['Title']}\")"
   ],
   "metadata": {
    "collapsed": false,
    "pycharm": {
     "name": "#%%\n"
    }
   }
  }
 ],
 "metadata": {
  "kernelspec": {
   "name": "python3",
   "language": "python",
   "display_name": "Python 3"
  },
  "language_info": {
   "name": "python",
   "nbconvert_exporter": "python",
   "version": "3.9.2"
  },
  "orig_nbformat": 2
 },
 "nbformat": 4,
 "nbformat_minor": 2
}