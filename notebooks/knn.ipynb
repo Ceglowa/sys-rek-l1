{
 "cells": [
  {
   "cell_type": "code",
   "execution_count": 22,
   "metadata": {},
   "outputs": [],
   "source": [
    "from data import get_movielens_1m\r\n",
    "from surprise import KNNBasic\r\n",
    "from surprise import Dataset\r\n",
    "from surprise.model_selection import cross_validate\r\n",
    "from surprise.model_selection import train_test_split\r\n",
    "from surprise import accuracy"
   ]
  },
  {
   "cell_type": "code",
   "execution_count": null,
   "metadata": {},
   "outputs": [],
   "source": [
    "import random\r\n",
    "import numpy as np\r\n",
    "\r\n",
    "np.random.seed(42)\r\n",
    "random.seed(42)"
   ]
  },
  {
   "cell_type": "code",
   "execution_count": 9,
   "metadata": {},
   "outputs": [],
   "source": [
    "movies_df, users_df, ratings_df = get_movielens_1m()\r\n",
    "data = Dataset.load_builtin('ml-100k')"
   ]
  },
  {
   "cell_type": "code",
   "execution_count": 10,
   "metadata": {},
   "outputs": [
    {
     "name": "stdout",
     "output_type": "stream",
     "text": [
      "cosine True\n",
      "Computing the cosine similarity matrix...\n",
      "Done computing similarity matrix.\n",
      "Computing the cosine similarity matrix...\n",
      "Done computing similarity matrix.\n",
      "Computing the cosine similarity matrix...\n",
      "Done computing similarity matrix.\n",
      "Computing the cosine similarity matrix...\n",
      "Done computing similarity matrix.\n",
      "Computing the cosine similarity matrix...\n",
      "Done computing similarity matrix.\n",
      "   test_rmse  test_mae  fit_time  test_time\n",
      "0   1.019459  0.806684  0.772001   1.454000\n",
      "1   1.018625  0.806853  0.898001   1.425999\n",
      "2   1.022019  0.807522  0.886001   1.434999\n",
      "3   1.009518  0.798870  0.882999   1.428000\n",
      "4   1.013849  0.800116  0.916999   1.451001\n",
      "cosine False\n",
      "Computing the cosine similarity matrix...\n",
      "Done computing similarity matrix.\n",
      "Computing the cosine similarity matrix...\n",
      "Done computing similarity matrix.\n",
      "Computing the cosine similarity matrix...\n",
      "Done computing similarity matrix.\n",
      "Computing the cosine similarity matrix...\n",
      "Done computing similarity matrix.\n",
      "Computing the cosine similarity matrix...\n",
      "Done computing similarity matrix.\n",
      "   test_rmse  test_mae  fit_time  test_time\n",
      "0   1.030433  0.814097  1.382999   1.680000\n",
      "1   1.023450  0.807030  1.449276   1.676054\n",
      "2   1.028945  0.815348  1.450999   1.611002\n",
      "3   1.019637  0.805821  1.384998   1.720000\n",
      "4   1.028636  0.815164  1.353999   1.629000\n",
      "pearson True\n",
      "Computing the pearson similarity matrix...\n",
      "Done computing similarity matrix.\n",
      "Computing the pearson similarity matrix...\n",
      "Done computing similarity matrix.\n",
      "Computing the pearson similarity matrix...\n",
      "Done computing similarity matrix.\n",
      "Computing the pearson similarity matrix...\n",
      "Done computing similarity matrix.\n",
      "Computing the pearson similarity matrix...\n",
      "Done computing similarity matrix.\n",
      "   test_rmse  test_mae  fit_time  test_time\n",
      "0   1.009432  0.800869  1.188999   1.380001\n",
      "1   1.013132  0.806529  1.259002   1.611998\n",
      "2   1.006901  0.799318  1.207000   1.400000\n",
      "3   1.016858  0.805402  1.205999   1.414001\n",
      "4   1.014039  0.804788  1.167001   1.401998\n",
      "pearson False\n",
      "Computing the pearson similarity matrix...\n",
      "Done computing similarity matrix.\n",
      "Computing the pearson similarity matrix...\n",
      "Done computing similarity matrix.\n",
      "Computing the pearson similarity matrix...\n",
      "Done computing similarity matrix.\n",
      "Computing the pearson similarity matrix...\n",
      "Done computing similarity matrix.\n",
      "Computing the pearson similarity matrix...\n",
      "Done computing similarity matrix.\n",
      "   test_rmse  test_mae  fit_time  test_time\n",
      "0   1.039787  0.835214  1.906999   1.579000\n",
      "1   1.035786  0.826691  1.904001   1.627000\n",
      "2   1.043817  0.835539  1.903001   1.754000\n",
      "3   1.042829  0.837415  1.908998   1.637001\n",
      "4   1.040877  0.835037  1.884000   1.606000\n",
      "msd True\n",
      "Computing the msd similarity matrix...\n",
      "Done computing similarity matrix.\n",
      "Computing the msd similarity matrix...\n",
      "Done computing similarity matrix.\n",
      "Computing the msd similarity matrix...\n",
      "Done computing similarity matrix.\n",
      "Computing the msd similarity matrix...\n",
      "Done computing similarity matrix.\n",
      "Computing the msd similarity matrix...\n",
      "Done computing similarity matrix.\n",
      "   test_rmse  test_mae  fit_time  test_time\n",
      "0   0.981332  0.774173  0.230999   1.566999\n",
      "1   0.976565  0.768716  0.233001   1.493588\n",
      "2   0.979783  0.775942  0.274542   1.512229\n",
      "3   0.974194  0.769345  0.293107   1.662043\n",
      "4   0.981633  0.776363  0.292103   1.438513\n",
      "msd False\n",
      "Computing the msd similarity matrix...\n",
      "Done computing similarity matrix.\n",
      "Computing the msd similarity matrix...\n",
      "Done computing similarity matrix.\n",
      "Computing the msd similarity matrix...\n",
      "Done computing similarity matrix.\n",
      "Computing the msd similarity matrix...\n",
      "Done computing similarity matrix.\n",
      "Computing the msd similarity matrix...\n",
      "Done computing similarity matrix.\n",
      "   test_rmse  test_mae  fit_time  test_time\n",
      "0   0.977250  0.773241  0.366999   1.600000\n",
      "1   0.961503  0.756533  0.371000   1.801152\n",
      "2   0.978950  0.774603  0.404517   1.701828\n",
      "3   0.971387  0.768831  0.449036   1.674478\n",
      "4   0.979889  0.771824  0.411052   1.787999\n"
     ]
    }
   ],
   "source": [
    "import pandas as pd\r\n",
    "for measure in [\"cosine\", \"pearson\", \"msd\"]:\r\n",
    "    for user_based in [True, False]:\r\n",
    "        print(measure, user_based)\r\n",
    "        sim_options = {'name': measure, 'user_based': user_based }\r\n",
    "        algo = KNNBasic(sim_options=sim_options)\r\n",
    "        results = cross_validate(algo, data, [\"rmse\", \"mae\"], 5)\r\n",
    "        print(pd.DataFrame.from_dict(results))"
   ]
  },
  {
   "cell_type": "code",
   "execution_count": 11,
   "metadata": {},
   "outputs": [
    {
     "name": "stdout",
     "output_type": "stream",
     "text": [
      "Computing the msd similarity matrix...\n",
      "Done computing similarity matrix.\n",
      "RMSE: 0.9763\n"
     ]
    },
    {
     "data": {
      "text/plain": "0.9763004230384338"
     },
     "execution_count": 11,
     "metadata": {},
     "output_type": "execute_result"
    }
   ],
   "source": [
    "train_ds, test_ds = train_test_split(data, test_size=0.1)\r\n",
    "\r\n",
    "alg = KNNBasic()\r\n",
    "\r\n",
    "predictions = alg.fit(train_ds).test(test_ds)\r\n",
    "\r\n",
    "accuracy.rmse(predictions)\r\n"
   ]
  },
  {
   "cell_type": "code",
   "execution_count": 12,
   "metadata": {},
   "outputs": [
    {
     "name": "stdout",
     "output_type": "stream",
     "text": [
      "Movie: Shadows (Cienie) (1988), genre: Drama, rating: 3.528766666666667\n",
      "Movie: Desert Blue (1999), genre: Drama, rating: 3.528766666666667\n",
      "Movie: My Fellow Americans (1996), genre: Comedy, rating: 3.528766666666667\n",
      "Movie: Crying Game, The (1992), genre: Drama|Romance|War, rating: 3.528766666666667\n",
      "Movie: Third World Cop (1999), genre: Action, rating: 3.528766666666667\n",
      "Movie: Addiction, The (1995), genre: Horror, rating: 3.528766666666667\n",
      "Movie: Distinguished Gentleman, The (1992), genre: Comedy, rating: 3.528766666666667\n",
      "Movie: Mifune (Mifunes sidste sang) (1999), genre: Comedy|Romance, rating: 3.528766666666667\n",
      "Movie: Miller's Crossing (1990), genre: Drama, rating: 3.528766666666667\n",
      "Movie: Last Dance (1996), genre: Drama, rating: 3.528766666666667\n"
     ]
    }
   ],
   "source": [
    "from random import randint\r\n",
    "\r\n",
    "USER_ID = 4177\r\n",
    "\r\n",
    "\r\n",
    "def get_prediction(user_id: int, movie_id: int):\r\n",
    "    user_id = str(user_id)\r\n",
    "    movie_id = str(movie_id)\r\n",
    "\r\n",
    "    rating = alg.predict(user_id, movie_id)\r\n",
    "    return rating\r\n",
    "\r\n",
    "for i in range(10):\r\n",
    "    uid = USER_ID\r\n",
    "    mid = randint(1, 3953)\r\n",
    "\r\n",
    "    rating = get_prediction(uid, mid)\r\n",
    "\r\n",
    "    movie = movies_df.loc[movies_df['MovieID'] == mid].iloc[0]\r\n",
    "    print(f'Movie: {movie[\"Title\"]}, genre: {movie[\"Genres\"]}, rating: {rating.est}')"
   ]
  }
 ],
 "metadata": {
  "kernelspec": {
   "display_name": "Python 3",
   "language": "python",
   "name": "python3"
  },
  "language_info": {
   "codemirror_mode": {
    "name": "ipython",
    "version": 3
   },
   "file_extension": ".py",
   "mimetype": "text/x-python",
   "name": "python",
   "nbconvert_exporter": "python",
   "pygments_lexer": "ipython3",
   "version": "3.8.6"
  },
  "orig_nbformat": 2
 },
 "nbformat": 4,
 "nbformat_minor": 2
}