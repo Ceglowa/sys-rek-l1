{
 "cells": [
  {
   "cell_type": "code",
   "execution_count": 22,
   "metadata": {},
   "outputs": [],
   "source": [
    "from data import get_movielens_1m\r\n",
    "from surprise import KNNBasic\r\n",
    "from surprise import Dataset\r\n",
    "from surprise.model_selection import cross_validate\r\n",
    "from surprise.model_selection import train_test_split\r\n",
    "from surprise import accuracy"
   ]
  },
  {
   "cell_type": "code",
   "execution_count": 13,
   "metadata": {},
   "outputs": [],
   "source": [
    "import random\r\n",
    "import numpy as np\r\n",
    "\r\n",
    "np.random.seed(42)\r\n",
    "random.seed(42)"
   ]
  },
  {
   "cell_type": "code",
   "execution_count": 14,
   "metadata": {},
   "outputs": [],
   "source": [
    "movies_df, users_df, ratings_df = get_movielens_1m()\r\n",
    "data = Dataset.load_builtin('ml-100k')"
   ]
  },
  {
   "cell_type": "code",
   "execution_count": 15,
   "metadata": {},
   "outputs": [
    {
     "name": "stdout",
     "output_type": "stream",
     "text": [
      "cosine True\n",
      "Computing the cosine similarity matrix...\n",
      "Done computing similarity matrix.\n",
      "Computing the cosine similarity matrix...\n",
      "Done computing similarity matrix.\n",
      "Computing the cosine similarity matrix...\n",
      "Done computing similarity matrix.\n",
      "Computing the cosine similarity matrix...\n",
      "Done computing similarity matrix.\n",
      "Computing the cosine similarity matrix...\n",
      "Done computing similarity matrix.\n",
      "   test_rmse  test_mae  fit_time  test_time\n",
      "0   1.011953  0.798421  0.848001   1.495999\n",
      "1   1.011719  0.800784  0.951000   1.501001\n",
      "2   1.023941  0.812346  0.991721   1.582058\n",
      "3   1.018417  0.806602  1.026695   1.524799\n",
      "4   1.019354  0.803799  0.954247   1.547481\n",
      "cosine False\n",
      "Computing the cosine similarity matrix...\n",
      "Done computing similarity matrix.\n",
      "Computing the cosine similarity matrix...\n",
      "Done computing similarity matrix.\n",
      "Computing the cosine similarity matrix...\n",
      "Done computing similarity matrix.\n",
      "Computing the cosine similarity matrix...\n",
      "Done computing similarity matrix.\n",
      "Computing the cosine similarity matrix...\n",
      "Done computing similarity matrix.\n",
      "   test_rmse  test_mae  fit_time  test_time\n",
      "0   1.021132  0.805281  1.475021   1.688009\n",
      "1   1.025058  0.810751  1.501485   1.750158\n",
      "2   1.030738  0.815881  1.529702   1.751025\n",
      "3   1.028202  0.813090  1.527382   1.756699\n",
      "4   1.032290  0.816611  1.497542   1.780371\n",
      "pearson True\n",
      "Computing the pearson similarity matrix...\n",
      "Done computing similarity matrix.\n",
      "Computing the pearson similarity matrix...\n",
      "Done computing similarity matrix.\n",
      "Computing the pearson similarity matrix...\n",
      "Done computing similarity matrix.\n",
      "Computing the pearson similarity matrix...\n",
      "Done computing similarity matrix.\n",
      "Computing the pearson similarity matrix...\n",
      "Done computing similarity matrix.\n",
      "   test_rmse  test_mae  fit_time  test_time\n",
      "0   1.011144  0.805044  1.296999   1.472999\n",
      "1   1.008322  0.798915  1.257000   1.637000\n",
      "2   1.011277  0.805410  1.242001   1.451000\n",
      "3   1.011850  0.801125  1.226002   1.491873\n",
      "4   1.011651  0.803431  1.253751   1.493999\n",
      "pearson False\n",
      "Computing the pearson similarity matrix...\n",
      "Done computing similarity matrix.\n",
      "Computing the pearson similarity matrix...\n",
      "Done computing similarity matrix.\n",
      "Computing the pearson similarity matrix...\n",
      "Done computing similarity matrix.\n",
      "Computing the pearson similarity matrix...\n",
      "Done computing similarity matrix.\n",
      "Computing the pearson similarity matrix...\n",
      "Done computing similarity matrix.\n",
      "   test_rmse  test_mae  fit_time  test_time\n",
      "0   1.036417  0.831710  1.986000   1.744852\n",
      "1   1.038309  0.828528  1.951000   1.887001\n",
      "2   1.038587  0.834448  1.968998   1.681998\n",
      "3   1.050721  0.841723  1.963001   1.660999\n",
      "4   1.039714  0.832434  1.954000   1.717159\n",
      "msd True\n",
      "Computing the msd similarity matrix...\n",
      "Done computing similarity matrix.\n",
      "Computing the msd similarity matrix...\n",
      "Done computing similarity matrix.\n",
      "Computing the msd similarity matrix...\n",
      "Done computing similarity matrix.\n",
      "Computing the msd similarity matrix...\n",
      "Done computing similarity matrix.\n",
      "Computing the msd similarity matrix...\n",
      "Done computing similarity matrix.\n",
      "   test_rmse  test_mae  fit_time  test_time\n",
      "0   0.973919  0.769546  0.235000   1.459001\n",
      "1   0.977546  0.769702  0.244000   1.455000\n",
      "2   0.982719  0.775663  0.253002   1.474998\n",
      "3   0.977493  0.770833  0.250000   1.587256\n",
      "4   0.979225  0.776225  0.259000   1.601340\n",
      "msd False\n",
      "Computing the msd similarity matrix...\n",
      "Done computing similarity matrix.\n",
      "Computing the msd similarity matrix...\n",
      "Done computing similarity matrix.\n",
      "Computing the msd similarity matrix...\n",
      "Done computing similarity matrix.\n",
      "Computing the msd similarity matrix...\n",
      "Done computing similarity matrix.\n",
      "Computing the msd similarity matrix...\n",
      "Done computing similarity matrix.\n",
      "   test_rmse  test_mae  fit_time  test_time\n",
      "0   0.969323  0.767333  0.383001   1.707299\n",
      "1   0.965636  0.763038  0.385000   1.992272\n",
      "2   0.971927  0.767591  0.394003   1.684003\n",
      "3   0.981306  0.774545  0.399001   1.697999\n",
      "4   0.980130  0.774219  0.395000   1.712001\n"
     ]
    }
   ],
   "source": [
    "import pandas as pd\r\n",
    "for measure in [\"cosine\", \"pearson\", \"msd\"]:\r\n",
    "    for user_based in [True, False]:\r\n",
    "        print(measure, user_based)\r\n",
    "        sim_options = {'name': measure, 'user_based': user_based }\r\n",
    "        algo = KNNBasic(sim_options=sim_options)\r\n",
    "        results = cross_validate(algo, data, [\"rmse\", \"mae\"], 5)\r\n",
    "        print(pd.DataFrame.from_dict(results))"
   ]
  },
  {
   "cell_type": "code",
   "execution_count": 16,
   "metadata": {},
   "outputs": [
    {
     "name": "stdout",
     "output_type": "stream",
     "text": [
      "Computing the msd similarity matrix...\n",
      "Done computing similarity matrix.\n",
      "RMSE: 0.9717\n"
     ]
    },
    {
     "data": {
      "text/plain": "0.9717303709200743"
     },
     "execution_count": 16,
     "metadata": {},
     "output_type": "execute_result"
    }
   ],
   "source": [
    "train_ds, test_ds = train_test_split(data, test_size=0.1)\r\n",
    "\r\n",
    "alg = KNNBasic()\r\n",
    "\r\n",
    "predictions = alg.fit(train_ds).test(test_ds)\r\n",
    "\r\n",
    "accuracy.rmse(predictions)\r\n"
   ]
  },
  {
   "cell_type": "code",
   "execution_count": 17,
   "metadata": {},
   "outputs": [
    {
     "name": "stdout",
     "output_type": "stream",
     "text": [
      "Movie: This Is My Father (1998), genre: Drama|Romance, rating: 3.529322222222222\n",
      "Movie: Fugitive, The (1993), genre: Action|Thriller, rating: 3.529322222222222\n",
      "Movie: Unforgettable (1996), genre: Thriller, rating: 3.529322222222222\n",
      "Movie: Face in the Crowd, A (1957), genre: Drama, rating: 3.529322222222222\n",
      "Movie: Abyss, The (1989), genre: Action|Adventure|Sci-Fi|Thriller, rating: 3.529322222222222\n",
      "Movie: Glimmer Man, The (1996), genre: Action|Thriller, rating: 3.529322222222222\n",
      "Movie: Sabrina (1954), genre: Comedy|Romance, rating: 3.529322222222222\n",
      "Movie: Foreign Student (1994), genre: Drama, rating: 3.529322222222222\n",
      "Movie: Creepshow 2 (1987), genre: Horror, rating: 3.529322222222222\n",
      "Movie: Beverly Hills Cop III (1994), genre: Action|Comedy, rating: 3.529322222222222\n"
     ]
    }
   ],
   "source": [
    "from random import randint\r\n",
    "\r\n",
    "USER_ID = 4177\r\n",
    "\r\n",
    "\r\n",
    "def get_prediction(user_id: int, movie_id: int):\r\n",
    "    user_id = str(user_id)\r\n",
    "    movie_id = str(movie_id)\r\n",
    "\r\n",
    "    rating = alg.predict(user_id, movie_id)\r\n",
    "    return rating\r\n",
    "\r\n",
    "for i in range(10):\r\n",
    "    uid = USER_ID\r\n",
    "    mid = randint(1, 3953)\r\n",
    "\r\n",
    "    rating = get_prediction(uid, mid)\r\n",
    "\r\n",
    "    movie = movies_df.loc[movies_df['MovieID'] == mid].iloc[0]\r\n",
    "    print(f'Movie: {movie[\"Title\"]}, genre: {movie[\"Genres\"]}, rating: {rating.est}')"
   ]
  }
 ],
 "metadata": {
  "kernelspec": {
   "display_name": "Python 3",
   "language": "python",
   "name": "python3"
  },
  "language_info": {
   "codemirror_mode": {
    "name": "ipython",
    "version": 3
   },
   "file_extension": ".py",
   "mimetype": "text/x-python",
   "name": "python",
   "nbconvert_exporter": "python",
   "pygments_lexer": "ipython3",
   "version": "3.8.6"
  },
  "orig_nbformat": 2
 },
 "nbformat": 4,
 "nbformat_minor": 2
}