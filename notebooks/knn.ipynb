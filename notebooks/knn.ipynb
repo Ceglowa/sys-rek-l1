{
 "cells": [
  {
   "cell_type": "code",
   "execution_count": 34,
   "metadata": {},
   "outputs": [],
   "source": [
    "from data import get_movielens_1m\r\n",
    "from surprise import KNNBasic\r\n",
    "from surprise import Dataset\r\n",
    "from surprise.model_selection import cross_validate\r\n",
    "from surprise.model_selection import train_test_split\r\n",
    "from surprise import accuracy"
   ]
  },
  {
   "cell_type": "code",
   "execution_count": 35,
   "metadata": {},
   "outputs": [],
   "source": [
    "import random\r\n",
    "import numpy as np\r\n",
    "\r\n",
    "np.random.seed(42)\r\n",
    "random.seed(42)"
   ]
  },
  {
   "cell_type": "code",
   "execution_count": 36,
   "metadata": {},
   "outputs": [],
   "source": [
    "movies_df, users_df, ratings_df = get_movielens_1m()\r\n",
    "data = Dataset.load_builtin('ml-100k')"
   ]
  },
  {
   "cell_type": "code",
   "execution_count": 37,
   "metadata": {},
   "outputs": [
    {
     "data": {
      "text/html": "<div>\n<style scoped>\n    .dataframe tbody tr th:only-of-type {\n        vertical-align: middle;\n    }\n\n    .dataframe tbody tr th {\n        vertical-align: top;\n    }\n\n    .dataframe thead th {\n        text-align: right;\n    }\n</style>\n<table border=\"1\" class=\"dataframe\">\n  <thead>\n    <tr style=\"text-align: right;\">\n      <th></th>\n      <th>UserID</th>\n      <th>MovieID</th>\n      <th>Rating</th>\n      <th>Timestamp</th>\n    </tr>\n  </thead>\n  <tbody>\n    <tr>\n      <th>97</th>\n      <td>98</td>\n      <td>20</td>\n      <td>20</td>\n      <td>20</td>\n    </tr>\n    <tr>\n      <th>159</th>\n      <td>160</td>\n      <td>20</td>\n      <td>20</td>\n      <td>20</td>\n    </tr>\n    <tr>\n      <th>216</th>\n      <td>217</td>\n      <td>20</td>\n      <td>20</td>\n      <td>20</td>\n    </tr>\n    <tr>\n      <th>249</th>\n      <td>250</td>\n      <td>20</td>\n      <td>20</td>\n      <td>20</td>\n    </tr>\n    <tr>\n      <th>310</th>\n      <td>311</td>\n      <td>20</td>\n      <td>20</td>\n      <td>20</td>\n    </tr>\n    <tr>\n      <th>...</th>\n      <td>...</td>\n      <td>...</td>\n      <td>...</td>\n      <td>...</td>\n    </tr>\n    <tr>\n      <th>5532</th>\n      <td>5533</td>\n      <td>20</td>\n      <td>20</td>\n      <td>20</td>\n    </tr>\n    <tr>\n      <th>5724</th>\n      <td>5725</td>\n      <td>20</td>\n      <td>20</td>\n      <td>20</td>\n    </tr>\n    <tr>\n      <th>5827</th>\n      <td>5828</td>\n      <td>20</td>\n      <td>20</td>\n      <td>20</td>\n    </tr>\n    <tr>\n      <th>5903</th>\n      <td>5904</td>\n      <td>20</td>\n      <td>20</td>\n      <td>20</td>\n    </tr>\n    <tr>\n      <th>6037</th>\n      <td>6038</td>\n      <td>20</td>\n      <td>20</td>\n      <td>20</td>\n    </tr>\n  </tbody>\n</table>\n<p>86 rows × 4 columns</p>\n</div>",
      "text/plain": "      UserID  MovieID  Rating  Timestamp\n97        98       20      20         20\n159      160       20      20         20\n216      217       20      20         20\n249      250       20      20         20\n310      311       20      20         20\n...      ...      ...     ...        ...\n5532    5533       20      20         20\n5724    5725       20      20         20\n5827    5828       20      20         20\n5903    5904       20      20         20\n6037    6038       20      20         20\n\n[86 rows x 4 columns]"
     },
     "execution_count": 37,
     "metadata": {},
     "output_type": "execute_result"
    }
   ],
   "source": [
    "a = ratings_df.groupby('UserID').count().reset_index()\r\n",
    "a[a['MovieID'] == 20]"
   ]
  },
  {
   "cell_type": "code",
   "execution_count": 38,
   "metadata": {},
   "outputs": [
    {
     "name": "stdout",
     "output_type": "stream",
     "text": [
      "cosine True\n",
      "Computing the cosine similarity matrix...\n",
      "Done computing similarity matrix.\n",
      "Computing the cosine similarity matrix...\n",
      "Done computing similarity matrix.\n",
      "Computing the cosine similarity matrix...\n",
      "Done computing similarity matrix.\n",
      "Computing the cosine similarity matrix...\n",
      "Done computing similarity matrix.\n",
      "Computing the cosine similarity matrix...\n",
      "Done computing similarity matrix.\n",
      "   test_rmse  test_mae  fit_time  test_time\n",
      "0   1.011953  0.798421  0.877009   1.369701\n",
      "1   1.011719  0.800784  0.890913   1.532922\n",
      "2   1.023941  0.812346  0.845001   1.371013\n",
      "3   1.018417  0.806602  0.881015   1.363031\n",
      "4   1.019354  0.803799  0.847665   1.370006\n",
      "cosine False\n",
      "Computing the cosine similarity matrix...\n",
      "Done computing similarity matrix.\n",
      "Computing the cosine similarity matrix...\n",
      "Done computing similarity matrix.\n",
      "Computing the cosine similarity matrix...\n",
      "Done computing similarity matrix.\n",
      "Computing the cosine similarity matrix...\n",
      "Done computing similarity matrix.\n",
      "Computing the cosine similarity matrix...\n",
      "Done computing similarity matrix.\n",
      "   test_rmse  test_mae  fit_time  test_time\n",
      "0   1.021132  0.805281  1.366015   1.561880\n",
      "1   1.025058  0.810751  1.405019   1.594027\n",
      "2   1.030738  0.815881  1.480999   1.849999\n",
      "3   1.028202  0.813090  1.471999   1.681999\n",
      "4   1.032290  0.816611  1.499184   1.705888\n",
      "pearson True\n",
      "Computing the pearson similarity matrix...\n",
      "Done computing similarity matrix.\n",
      "Computing the pearson similarity matrix...\n",
      "Done computing similarity matrix.\n",
      "Computing the pearson similarity matrix...\n",
      "Done computing similarity matrix.\n",
      "Computing the pearson similarity matrix...\n",
      "Done computing similarity matrix.\n",
      "Computing the pearson similarity matrix...\n",
      "Done computing similarity matrix.\n",
      "   test_rmse  test_mae  fit_time  test_time\n",
      "0   1.011144  0.805044  1.325010   1.474981\n",
      "1   1.008322  0.798915  1.314110   1.505103\n",
      "2   1.011277  0.805410  1.324235   1.500086\n",
      "3   1.011850  0.801125  1.364089   1.603999\n",
      "4   1.011651  0.803431  1.286998   1.434999\n",
      "pearson False\n",
      "Computing the pearson similarity matrix...\n",
      "Done computing similarity matrix.\n",
      "Computing the pearson similarity matrix...\n",
      "Done computing similarity matrix.\n",
      "Computing the pearson similarity matrix...\n",
      "Done computing similarity matrix.\n",
      "Computing the pearson similarity matrix...\n",
      "Done computing similarity matrix.\n",
      "Computing the pearson similarity matrix...\n",
      "Done computing similarity matrix.\n",
      "   test_rmse  test_mae  fit_time  test_time\n",
      "0   1.036417  0.831710  1.998003   1.620999\n",
      "1   1.038309  0.828528  1.993001   1.658000\n",
      "2   1.038587  0.834448  2.027998   1.698999\n",
      "3   1.050721  0.841723  2.017001   1.695998\n",
      "4   1.039714  0.832434  2.016001   1.670000\n",
      "msd True\n",
      "Computing the msd similarity matrix...\n",
      "Done computing similarity matrix.\n",
      "Computing the msd similarity matrix...\n",
      "Done computing similarity matrix.\n",
      "Computing the msd similarity matrix...\n",
      "Done computing similarity matrix.\n",
      "Computing the msd similarity matrix...\n",
      "Done computing similarity matrix.\n",
      "Computing the msd similarity matrix...\n",
      "Done computing similarity matrix.\n",
      "   test_rmse  test_mae  fit_time  test_time\n",
      "0   0.973919  0.769546  0.259002   1.432002\n",
      "1   0.977546  0.769702  0.249002   1.413209\n",
      "2   0.982719  0.775663  0.307000   1.488972\n",
      "3   0.977493  0.770833  0.262881   1.397021\n",
      "4   0.979225  0.776225  0.244000   1.710753\n",
      "msd False\n",
      "Computing the msd similarity matrix...\n",
      "Done computing similarity matrix.\n",
      "Computing the msd similarity matrix...\n",
      "Done computing similarity matrix.\n",
      "Computing the msd similarity matrix...\n",
      "Done computing similarity matrix.\n",
      "Computing the msd similarity matrix...\n",
      "Done computing similarity matrix.\n",
      "Computing the msd similarity matrix...\n",
      "Done computing similarity matrix.\n",
      "   test_rmse  test_mae  fit_time  test_time\n",
      "0   0.969323  0.767333  0.458008   1.675220\n",
      "1   0.965636  0.763038  0.420001   1.566000\n",
      "2   0.971927  0.767591  0.366001   1.545999\n",
      "3   0.981306  0.774545  0.421000   1.641000\n",
      "4   0.980130  0.774219  0.358001   1.580998\n"
     ]
    }
   ],
   "source": [
    "import pandas as pd\r\n",
    "for measure in [\"cosine\", \"pearson\", \"msd\"]:\r\n",
    "    for user_based in [True, False]:\r\n",
    "        print(measure, user_based)\r\n",
    "        sim_options = {'name': measure, 'user_based': user_based }\r\n",
    "        algo = KNNBasic(sim_options=sim_options)\r\n",
    "        results = cross_validate(algo, data, [\"rmse\", \"mae\"], 5)\r\n",
    "        print(pd.DataFrame.from_dict(results))"
   ]
  },
  {
   "cell_type": "code",
   "execution_count": 39,
   "metadata": {},
   "outputs": [
    {
     "name": "stdout",
     "output_type": "stream",
     "text": [
      "Computing the msd similarity matrix...\n",
      "Done computing similarity matrix.\n",
      "RMSE: 0.9717\n"
     ]
    },
    {
     "data": {
      "text/plain": "0.9717303709200743"
     },
     "execution_count": 39,
     "metadata": {},
     "output_type": "execute_result"
    }
   ],
   "source": [
    "train_ds, test_ds = train_test_split(data, test_size=0.1)\r\n",
    "\r\n",
    "alg = KNNBasic()\r\n",
    "\r\n",
    "predictions = alg.fit(train_ds).test(test_ds)\r\n",
    "\r\n",
    "accuracy.rmse(predictions)\r\n"
   ]
  },
  {
   "cell_type": "code",
   "execution_count": 40,
   "metadata": {},
   "outputs": [
    {
     "name": "stdout",
     "output_type": "stream",
     "text": [
      "Movie: Mission: Impossible (1996), genre: Action|Adventure|Mystery, rating: 4\n",
      "Movie: Bridge on the River Kwai, The (1957), genre: Drama|War, rating: 5\n",
      "Movie: Silence of the Lambs, The (1991), genre: Drama|Thriller, rating: 3\n",
      "Movie: My Cousin Vinny (1992), genre: Comedy, rating: 3\n",
      "Movie: Class (1983), genre: Comedy, rating: 3\n",
      "Movie: Gone with the Wind (1939), genre: Drama|Romance|War, rating: 5\n",
      "Movie: Batman & Robin (1997), genre: Action|Adventure|Crime, rating: 3\n",
      "Movie: Goodbye Girl, The (1977), genre: Comedy|Romance, rating: 3\n",
      "Movie: Odd Couple, The (1968), genre: Comedy, rating: 4\n",
      "Movie: Rocky Horror Picture Show, The (1975), genre: Comedy|Horror|Musical|Sci-Fi, rating: 1\n",
      "Movie: Shawshank Redemption, The (1994), genre: Drama, rating: 5\n",
      "Movie: Gladiator (2000), genre: Action|Drama, rating: 5\n",
      "Movie: Pulp Fiction (1994), genre: Crime|Drama, rating: 4\n",
      "Movie: Airplane! (1980), genre: Comedy, rating: 5\n",
      "Movie: Escape from New York (1981), genre: Action|Adventure|Sci-Fi|Thriller, rating: 4\n",
      "Movie: Exorcist, The (1973), genre: Horror, rating: 2\n",
      "Movie: Schindler's List (1993), genre: Drama|War, rating: 5\n",
      "Movie: Nutty Professor II: The Klumps (2000), genre: Comedy, rating: 4\n",
      "Movie: Star Wars: Episode VI - Return of the Jedi (1983), genre: Action|Adventure|Romance|Sci-Fi|War, rating: 3\n",
      "Movie: Saving Private Ryan (1998), genre: Action|Drama|War, rating: 5\n"
     ]
    }
   ],
   "source": [
    "USER_ID = 98\r\n",
    "movies_by = ratings_df[ratings_df['UserID'] == USER_ID]\r\n",
    "for idx, row in movies_by.iterrows():\r\n",
    "    movie = movies_df.loc[movies_df['MovieID'] == row['MovieID']].iloc[0]\r\n",
    "    print(f'Movie: {movie[\"Title\"]}, genre: {movie[\"Genres\"]}, rating: {row[\"Rating\"]}')"
   ]
  },
  {
   "cell_type": "code",
   "execution_count": 41,
   "metadata": {},
   "outputs": [
    {
     "name": "stdout",
     "output_type": "stream",
     "text": [
      "Movie: Hype! (1996), genre: Documentary, rating: 3.0, {'actual_k': 1, 'was_impossible': False}\n",
      "Movie: Death and the Maiden (1994), genre: Drama|Thriller, rating: 3.180728474668971, {'actual_k': 40, 'was_impossible': False}\n",
      "Movie: Mighty Aphrodite (1995), genre: Comedy, rating: 3.8938345371196608, {'actual_k': 40, 'was_impossible': False}\n",
      "Movie: Broken English (1996), genre: Drama, rating: 3.460674157303371, {'actual_k': 2, 'was_impossible': False}\n",
      "Movie: Chasers (1994), genre: Comedy, rating: 1.978944209802029, {'actual_k': 21, 'was_impossible': False}\n",
      "Movie: Next Karate Kid, The (1994), genre: Action|Children's, rating: 3.8582063423188435, {'actual_k': 40, 'was_impossible': False}\n",
      "Movie: Geronimo: An American Legend (1993), genre: Drama|Western, rating: 2.926599348794026, {'actual_k': 40, 'was_impossible': False}\n",
      "Movie: Nemesis 2: Nebula (1995), genre: Action|Sci-Fi|Thriller, rating: 3.775, {'actual_k': 40, 'was_impossible': False}\n",
      "Movie: All Over Me (1997), genre: Drama, rating: 1.6085039300636086, {'actual_k': 5, 'was_impossible': False}\n",
      "Movie: Wild Bill (1995), genre: Western, rating: 3.986071153739951, {'actual_k': 40, 'was_impossible': False}\n"
     ]
    }
   ],
   "source": [
    "from random import randint\r\n",
    "\r\n",
    "def get_prediction(user_id: int, movie_id: int):\r\n",
    "    user_id = str(user_id)\r\n",
    "    movie_id = str(movie_id)\r\n",
    "\r\n",
    "    rating = alg.predict(user_id, movie_id)\r\n",
    "    return rating\r\n",
    "\r\n",
    "for i in range(10):\r\n",
    "    uid = USER_ID\r\n",
    "    mid = randint(1, 1667)\r\n",
    "\r\n",
    "    rating = get_prediction(uid, mid)\r\n",
    "\r\n",
    "    movie = movies_df.loc[movies_df['MovieID'] == mid].iloc[0]\r\n",
    "    print(f'Movie: {movie[\"Title\"]}, genre: {movie[\"Genres\"]}, rating: {rating.est}, {rating.details}')"
   ]
  },
  {
   "cell_type": "code",
   "execution_count": null,
   "metadata": {},
   "outputs": [],
   "source": []
  }
 ],
 "metadata": {
  "kernelspec": {
   "display_name": "Python 3",
   "language": "python",
   "name": "python3"
  },
  "language_info": {
   "codemirror_mode": {
    "name": "ipython",
    "version": 3
   },
   "file_extension": ".py",
   "mimetype": "text/x-python",
   "name": "python",
   "nbconvert_exporter": "python",
   "pygments_lexer": "ipython3",
   "version": "3.8.6"
  },
  "orig_nbformat": 2
 },
 "nbformat": 4,
 "nbformat_minor": 2
}