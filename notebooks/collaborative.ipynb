{
 "cells": [
  {
   "cell_type": "markdown",
   "source": [
    "# Collaborative filtering"
   ],
   "metadata": {
    "collapsed": false,
    "pycharm": {
     "name": "#%% md\n"
    }
   }
  },
  {
   "cell_type": "code",
   "execution_count": 1,
   "metadata": {
    "collapsed": true
   },
   "outputs": [],
   "source": [
    "from typing import Tuple\n",
    "%load_ext autoreload\n",
    "%autoreload 2"
   ]
  },
  {
   "cell_type": "code",
   "execution_count": 44,
   "outputs": [],
   "source": [
    "import os\n",
    "import surprise\n",
    "from surprise import Dataset, Reader\n",
    "import pandas as pd\n",
    "from scipy.sparse import csr_matrix\n",
    "\n",
    "from sklearn.decomposition import NMF\n",
    "from sklearn.model_selection import train_test_split\n",
    "\n",
    "from sklearn.metrics import mean_squared_error"
   ],
   "metadata": {
    "collapsed": false,
    "pycharm": {
     "name": "#%%\n"
    }
   }
  },
  {
   "cell_type": "markdown",
   "source": [
    "## Load MovieLens dataset"
   ],
   "metadata": {
    "collapsed": false,
    "pycharm": {
     "name": "#%% md\n"
    }
   }
  },
  {
   "cell_type": "code",
   "execution_count": 34,
   "outputs": [],
   "source": [
    "movielens = Dataset.load_builtin('ml-1m', prompt=False)\n",
    "ratings_file = f\"{surprise.get_dataset_dir()}/ml-1m/ml-1m/ratings.dat\"\n",
    "ratings_df = pd.read_csv(ratings_file, sep=\"::\", names=[\"UserID\", \"MovieID\", \"Rating\", \"Timestamp\"], engine='python')"
   ],
   "metadata": {
    "collapsed": false,
    "pycharm": {
     "name": "#%%\n"
    }
   }
  },
  {
   "cell_type": "code",
   "execution_count": 35,
   "outputs": [
    {
     "name": "stdout",
     "output_type": "stream",
     "text": [
      "Users: 6040\n",
      "Movies: 3952\n"
     ]
    }
   ],
   "source": [
    "print(f'Users: {ratings_df[\"UserID\"].max()}')\n",
    "print(f'Movies: {ratings_df[\"MovieID\"].max()}')"
   ],
   "metadata": {
    "collapsed": false,
    "pycharm": {
     "name": "#%%\n"
    }
   }
  },
  {
   "cell_type": "markdown",
   "source": [
    "## Prepare train/test data"
   ],
   "metadata": {
    "collapsed": false,
    "pycharm": {
     "name": "#%% md\n"
    }
   }
  },
  {
   "cell_type": "code",
   "execution_count": 31,
   "outputs": [],
   "source": [
    "def convert_to_sparse(df: pd.DataFrame) -> csr_matrix:\n",
    "    rows, cols, vals = zip(*df.values)\n",
    "    return csr_matrix((vals, (rows, cols)))"
   ],
   "metadata": {
    "collapsed": false,
    "pycharm": {
     "name": "#%%\n"
    }
   }
  },
  {
   "cell_type": "code",
   "execution_count": 39,
   "outputs": [
    {
     "name": "stdout",
     "output_type": "stream",
     "text": [
      "(6040, 3952)\n",
      "(6040, 3952)\n"
     ]
    }
   ],
   "source": [
    "ratings_df.sort_values(by='Timestamp', inplace=True)\n",
    "\n",
    "ratings_df['UserID'] = ratings_df['UserID'].apply(lambda x: x - 1)\n",
    "ratings_df['MovieID'] = ratings_df['MovieID'].apply(lambda x: x - 1)\n",
    "\n",
    "train_df, test_df = train_test_split(\n",
    "    ratings_df.iloc[:, :3], shuffle=False, test_size=0.1)\n",
    "\n",
    "train_sparse = convert_to_sparse(train_df)\n",
    "test_sparse = convert_to_sparse(test_df)\n",
    "\n",
    "print(train_sparse.shape)\n",
    "print(test_sparse.shape)"
   ],
   "metadata": {
    "collapsed": false,
    "pycharm": {
     "name": "#%%\n"
    }
   }
  },
  {
   "cell_type": "markdown",
   "source": [
    "## Use Non-negative Matrix Factorization to predict users ratings"
   ],
   "metadata": {
    "collapsed": false,
    "pycharm": {
     "name": "#%% md\n"
    }
   }
  },
  {
   "cell_type": "code",
   "execution_count": 58,
   "outputs": [
    {
     "name": "stderr",
     "output_type": "stream",
     "text": [
      "/home/piotrek/.pyenv/versions/3.8.6/envs/sys-rekomend/lib/python3.8/site-packages/sklearn/decomposition/_nmf.py:312: FutureWarning: The 'init' value, when 'init=None' and n_components is less than n_samples and n_features, will be changed from 'nndsvd' to 'nndsvda' in 1.1 (renaming of 0.26).\n",
      "  warnings.warn((\"The 'init' value, when 'init=None' and \"\n",
      "/home/piotrek/.pyenv/versions/3.8.6/envs/sys-rekomend/lib/python3.8/site-packages/sklearn/decomposition/_nmf.py:1090: ConvergenceWarning: Maximum number of iterations 200 reached. Increase it to improve convergence.\n",
      "  warnings.warn(\"Maximum number of iterations %d reached. Increase it to\"\n"
     ]
    }
   ],
   "source": [
    "nmf = NMF(n_components=100)\n",
    "res = nmf.fit_transform(train_sparse)\n",
    "preds = res @ nmf.components_\n"
   ],
   "metadata": {
    "collapsed": false,
    "pycharm": {
     "name": "#%%\n"
    }
   }
  },
  {
   "cell_type": "code",
   "execution_count": 47,
   "outputs": [
    {
     "data": {
      "text/plain": "0.36238612699460515"
     },
     "execution_count": 47,
     "metadata": {},
     "output_type": "execute_result"
    }
   ],
   "source": [
    "rmse = mean_squared_error(preds, test_sparse.toarray(), squared=False)\n",
    "rmse"
   ],
   "metadata": {
    "collapsed": false,
    "pycharm": {
     "name": "#%%\n"
    }
   }
  },
  {
   "cell_type": "code",
   "execution_count": 71,
   "outputs": [
    {
     "data": {
      "text/plain": "0.0"
     },
     "execution_count": 71,
     "metadata": {},
     "output_type": "execute_result"
    }
   ],
   "source": [
    "preds[23, 108]"
   ],
   "metadata": {
    "collapsed": false,
    "pycharm": {
     "name": "#%%\n"
    }
   }
  },
  {
   "cell_type": "code",
   "execution_count": 69,
   "outputs": [
    {
     "name": "stdout",
     "output_type": "stream",
     "text": [
      "  (23, 109)\t4.0\n",
      "  (23, 265)\t2.0\n",
      "  (23, 295)\t5.0\n",
      "  (23, 317)\t4.0\n",
      "  (23, 363)\t4.0\n",
      "  (23, 371)\t1.0\n",
      "  (23, 526)\t5.0\n",
      "  (23, 538)\t3.0\n",
      "  (23, 584)\t4.0\n",
      "  (23, 592)\t5.0\n",
      "  (23, 596)\t4.0\n",
      "  (23, 607)\t5.0\n",
      "  (23, 911)\t5.0\n",
      "  (23, 952)\t5.0\n",
      "  (23, 1056)\t4.0\n",
      "  (23, 1078)\t4.0\n",
      "  (23, 1089)\t4.0\n",
      "  (23, 1196)\t4.0\n",
      "  (23, 1212)\t5.0\n",
      "  (23, 1219)\t4.0\n",
      "  (23, 1220)\t5.0\n",
      "  (23, 1224)\t4.0\n",
      "  (23, 1246)\t4.0\n",
      "  (23, 1258)\t4.0\n",
      "  (23, 1262)\t5.0\n",
      "  :\t:\n",
      "  (6039, 3223)\t5.0\n",
      "  (6039, 3261)\t4.0\n",
      "  (6039, 3288)\t5.0\n",
      "  (6039, 3333)\t5.0\n",
      "  (6039, 3341)\t3.0\n",
      "  (6039, 3358)\t4.0\n",
      "  (6039, 3360)\t2.0\n",
      "  (6039, 3387)\t1.0\n",
      "  (6039, 3417)\t3.0\n",
      "  (6039, 3421)\t3.0\n",
      "  (6039, 3423)\t2.0\n",
      "  (6039, 3448)\t3.0\n",
      "  (6039, 3470)\t4.0\n",
      "  (6039, 3503)\t4.0\n",
      "  (6039, 3504)\t4.0\n",
      "  (6039, 3520)\t5.0\n",
      "  (6039, 3523)\t1.0\n",
      "  (6039, 3542)\t4.0\n",
      "  (6039, 3546)\t4.0\n",
      "  (6039, 3551)\t2.0\n",
      "  (6039, 3682)\t4.0\n",
      "  (6039, 3702)\t4.0\n",
      "  (6039, 3734)\t4.0\n",
      "  (6039, 3750)\t4.0\n",
      "  (6039, 3818)\t5.0\n"
     ]
    }
   ],
   "source": [
    "print(train_sparse)"
   ],
   "metadata": {
    "collapsed": false,
    "pycharm": {
     "name": "#%%\n"
    }
   }
  },
  {
   "cell_type": "code",
   "execution_count": null,
   "outputs": [],
   "source": [],
   "metadata": {
    "collapsed": false,
    "pycharm": {
     "name": "#%%\n"
    }
   }
  }
 ],
 "metadata": {
  "kernelspec": {
   "display_name": "Python 3",
   "language": "python",
   "name": "python3"
  },
  "language_info": {
   "codemirror_mode": {
    "name": "ipython",
    "version": 2
   },
   "file_extension": ".py",
   "mimetype": "text/x-python",
   "name": "python",
   "nbconvert_exporter": "python",
   "pygments_lexer": "ipython2",
   "version": "2.7.6"
  }
 },
 "nbformat": 4,
 "nbformat_minor": 0
}