{
 "cells": [
  {
   "cell_type": "markdown",
   "source": [
    "# Collaborative filtering"
   ],
   "metadata": {
    "collapsed": false,
    "pycharm": {
     "name": "#%% md\n"
    }
   }
  },
  {
   "cell_type": "code",
   "execution_count": 1,
   "metadata": {
    "collapsed": true
   },
   "outputs": [],
   "source": [
    "from typing import Tuple\n",
    "%load_ext autoreload\n",
    "%autoreload 2"
   ]
  },
  {
   "cell_type": "code",
   "execution_count": 3,
   "outputs": [],
   "source": [
    "import os\n",
    "import surprise\n",
    "from surprise import Dataset, Reader\n",
    "import pandas as pd\n",
    "from scipy.sparse import csr_matrix\n",
    "\n",
    "from sklearn.decomposition import NMF\n",
    "from sklearn.model_selection import train_test_split\n",
    "\n",
    "from sklearn.metrics import mean_squared_error"
   ],
   "metadata": {
    "collapsed": false,
    "pycharm": {
     "name": "#%%\n"
    }
   }
  },
  {
   "cell_type": "markdown",
   "source": [
    "## Load MovieLens dataset"
   ],
   "metadata": {
    "collapsed": false,
    "pycharm": {
     "name": "#%% md\n"
    }
   }
  },
  {
   "cell_type": "code",
   "execution_count": 4,
   "outputs": [],
   "source": [
    "movielens = Dataset.load_builtin('ml-1m', prompt=False)\n",
    "ratings_file = f\"{surprise.get_dataset_dir()}/ml-1m/ml-1m/ratings.dat\"\n",
    "ratings_df = pd.read_csv(ratings_file, sep=\"::\", names=[\"UserID\", \"MovieID\", \"Rating\", \"Timestamp\"], engine='python')"
   ],
   "metadata": {
    "collapsed": false,
    "pycharm": {
     "name": "#%%\n"
    }
   }
  },
  {
   "cell_type": "code",
   "execution_count": 75,
   "outputs": [
    {
     "name": "stdout",
     "output_type": "stream",
     "text": [
      "Users: 6040\n",
      "Movies: 3952\n"
     ]
    }
   ],
   "source": [
    "print(f'Users: {ratings_df[\"UserID\"].max()}')\n",
    "print(f'Movies: {ratings_df[\"MovieID\"].max()}')"
   ],
   "metadata": {
    "collapsed": false,
    "pycharm": {
     "name": "#%%\n"
    }
   }
  },
  {
   "cell_type": "markdown",
   "source": [
    "## Prepare train/test data"
   ],
   "metadata": {
    "collapsed": false,
    "pycharm": {
     "name": "#%% md\n"
    }
   }
  },
  {
   "cell_type": "code",
   "execution_count": 76,
   "outputs": [],
   "source": [
    "def convert_to_sparse(df: pd.DataFrame) -> csr_matrix:\n",
    "    rows, cols, vals = zip(*df.values)\n",
    "    return csr_matrix((vals, (rows, cols)))"
   ],
   "metadata": {
    "collapsed": false,
    "pycharm": {
     "name": "#%%\n"
    }
   }
  },
  {
   "cell_type": "code",
   "execution_count": 77,
   "outputs": [
    {
     "name": "stdout",
     "output_type": "stream",
     "text": [
      "(6040, 3952)\n",
      "(6040, 3952)\n"
     ]
    }
   ],
   "source": [
    "ratings_df.sort_values(by='Timestamp', inplace=True)\n",
    "\n",
    "ratings_df['UserID'] = ratings_df['UserID'].apply(lambda x: x - 1)\n",
    "ratings_df['MovieID'] = ratings_df['MovieID'].apply(lambda x: x - 1)\n",
    "\n",
    "train_df, test_df = train_test_split(\n",
    "    ratings_df.iloc[:, :3], shuffle=False, test_size=0.1)\n",
    "\n",
    "train_sparse = convert_to_sparse(train_df)\n",
    "test_sparse = convert_to_sparse(test_df)\n",
    "\n",
    "print(train_sparse.shape)\n",
    "print(test_sparse.shape)\n",
    "\n",
    "train = train_sparse.toarray()\n",
    "test = test_sparse.toarray()"
   ],
   "metadata": {
    "collapsed": false,
    "pycharm": {
     "name": "#%%\n"
    }
   }
  },
  {
   "cell_type": "markdown",
   "source": [
    "## Use Non-negative Matrix Factorization to predict users ratings"
   ],
   "metadata": {
    "collapsed": false,
    "pycharm": {
     "name": "#%% md\n"
    }
   }
  },
  {
   "cell_type": "code",
   "execution_count": 99,
   "outputs": [],
   "source": [
    "def non_zero_rmse(pred, actual):\n",
    "    pred = pred[actual.nonzero()].flatten()     # Ignore nonzero terms\n",
    "    actual = actual[actual.nonzero()].flatten() # Ignore nonzero terms\n",
    "    return mean_squared_error(pred, actual, squared=False)"
   ],
   "metadata": {
    "collapsed": false,
    "pycharm": {
     "name": "#%%\n"
    }
   }
  },
  {
   "cell_type": "code",
   "execution_count": 95,
   "outputs": [
    {
     "name": "stderr",
     "output_type": "stream",
     "text": [
      "/home/piotrek/.pyenv/versions/3.8.6/envs/sys-rekomend/lib/python3.8/site-packages/sklearn/decomposition/_nmf.py:312: FutureWarning: The 'init' value, when 'init=None' and n_components is less than n_samples and n_features, will be changed from 'nndsvd' to 'nndsvda' in 1.1 (renaming of 0.26).\n",
      "  warnings.warn((\"The 'init' value, when 'init=None' and \"\n",
      "/home/piotrek/.pyenv/versions/3.8.6/envs/sys-rekomend/lib/python3.8/site-packages/sklearn/decomposition/_nmf.py:1090: ConvergenceWarning: Maximum number of iterations 200 reached. Increase it to improve convergence.\n",
      "  warnings.warn(\"Maximum number of iterations %d reached. Increase it to\"\n"
     ]
    }
   ],
   "source": [
    "nmf = NMF(n_components=15, alpha=0.001, l1_ratio=0.0)\n",
    "res = nmf.fit_transform(train)\n",
    "preds = res @ nmf.components_"
   ],
   "metadata": {
    "collapsed": false,
    "pycharm": {
     "name": "#%%\n"
    }
   }
  },
  {
   "cell_type": "code",
   "execution_count": 100,
   "outputs": [
    {
     "name": "stdout",
     "output_type": "stream",
     "text": [
      "3.189504614173558\n"
     ]
    }
   ],
   "source": [
    "print(non_zero_rmse(preds, test))\n"
   ],
   "metadata": {
    "collapsed": false,
    "pycharm": {
     "name": "#%%\n"
    }
   }
  },
  {
   "cell_type": "markdown",
   "source": [
    "## Test ready to use NFM for recommender system implementation"
   ],
   "metadata": {
    "collapsed": false,
    "pycharm": {
     "name": "#%% md\n"
    }
   }
  },
  {
   "cell_type": "code",
   "execution_count": 1,
   "outputs": [],
   "source": [
    "from surprise.prediction_algorithms.matrix_factorization import NMF\n",
    "from surprise.model_selection import cross_validate"
   ],
   "metadata": {
    "collapsed": false,
    "pycharm": {
     "name": "#%%\n"
    }
   }
  },
  {
   "cell_type": "code",
   "execution_count": 2,
   "outputs": [],
   "source": [
    "alg = NMF()"
   ],
   "metadata": {
    "collapsed": false,
    "pycharm": {
     "name": "#%%\n"
    }
   }
  },
  {
   "cell_type": "code",
   "execution_count": 5,
   "outputs": [
    {
     "name": "stdout",
     "output_type": "stream",
     "text": [
      "Evaluating RMSE of algorithm NMF on 5 split(s).\n",
      "\n",
      "                  Fold 1  Fold 2  Fold 3  Fold 4  Fold 5  Mean    Std     \n",
      "RMSE (testset)    0.9161  0.9171  0.9188  0.9148  0.9159  0.9165  0.0013  \n",
      "Fit time          65.64   56.90   61.89   76.31   71.97   66.54   6.93    \n",
      "Test time         1.85    2.73    2.67    2.40    2.39    2.41    0.31    \n"
     ]
    },
    {
     "data": {
      "text/plain": "{'test_rmse': array([0.91611858, 0.91713986, 0.91878369, 0.91478603, 0.91588292]),\n 'fit_time': (65.64167737960815,\n  56.90305018424988,\n  61.89145374298096,\n  76.30525422096252,\n  71.96712946891785),\n 'test_time': (1.8510870933532715,\n  2.7301337718963623,\n  2.6708340644836426,\n  2.3965368270874023,\n  2.3918817043304443)}"
     },
     "execution_count": 5,
     "metadata": {},
     "output_type": "execute_result"
    }
   ],
   "source": [
    "cross_validate(alg, movielens, measures=['rmse'], verbose=True)"
   ],
   "metadata": {
    "collapsed": false,
    "pycharm": {
     "name": "#%%\n"
    }
   }
  }
 ],
 "metadata": {
  "kernelspec": {
   "display_name": "Python 3",
   "language": "python",
   "name": "python3"
  },
  "language_info": {
   "codemirror_mode": {
    "name": "ipython",
    "version": 2
   },
   "file_extension": ".py",
   "mimetype": "text/x-python",
   "name": "python",
   "nbconvert_exporter": "python",
   "pygments_lexer": "ipython2",
   "version": "2.7.6"
  }
 },
 "nbformat": 4,
 "nbformat_minor": 0
}