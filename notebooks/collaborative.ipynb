{
 "cells": [
  {
   "cell_type": "markdown",
   "source": [
    "# Collaborative filtering"
   ],
   "metadata": {
    "collapsed": false,
    "pycharm": {
     "name": "#%% md\n"
    }
   }
  },
  {
   "cell_type": "code",
   "execution_count": 2,
   "metadata": {
    "collapsed": true
   },
   "outputs": [
    {
     "name": "stdout",
     "output_type": "stream",
     "text": [
      "The autoreload extension is already loaded. To reload it, use:\n",
      "  %reload_ext autoreload\n"
     ]
    }
   ],
   "source": [
    "%load_ext autoreload\n",
    "%autoreload 2"
   ]
  },
  {
   "cell_type": "code",
   "execution_count": 3,
   "outputs": [],
   "source": [
    "import pandas as pd\n",
    "from scipy.sparse import csr_matrix\n",
    "from sklearn.decomposition import NMF\n",
    "from sklearn.metrics import mean_squared_error\n",
    "from sklearn.model_selection import train_test_split\n",
    "\n",
    "from data import get_movielens_1m"
   ],
   "metadata": {
    "collapsed": false,
    "pycharm": {
     "name": "#%%\n"
    }
   }
  },
  {
   "cell_type": "markdown",
   "source": [
    "## Load MovieLens dataset"
   ],
   "metadata": {
    "collapsed": false,
    "pycharm": {
     "name": "#%% md\n"
    }
   }
  },
  {
   "cell_type": "code",
   "execution_count": 4,
   "outputs": [],
   "source": [
    "movies_df, users_df, ratings_df = get_movielens_1m()"
   ],
   "metadata": {
    "collapsed": false,
    "pycharm": {
     "name": "#%%\n"
    }
   }
  },
  {
   "cell_type": "code",
   "execution_count": 5,
   "outputs": [
    {
     "name": "stdout",
     "output_type": "stream",
     "text": [
      "Users: 6040\n",
      "Movies: 3952\n"
     ]
    }
   ],
   "source": [
    "print(f'Users: {ratings_df[\"UserID\"].max()}')\n",
    "print(f'Movies: {ratings_df[\"MovieID\"].max()}')"
   ],
   "metadata": {
    "collapsed": false,
    "pycharm": {
     "name": "#%%\n"
    }
   }
  },
  {
   "cell_type": "markdown",
   "source": [
    "## Prepare train/test data"
   ],
   "metadata": {
    "collapsed": false,
    "pycharm": {
     "name": "#%% md\n"
    }
   }
  },
  {
   "cell_type": "code",
   "execution_count": 6,
   "outputs": [],
   "source": [
    "def convert_to_sparse(df: pd.DataFrame) -> csr_matrix:\n",
    "    rows, cols, vals = zip(*df.values)\n",
    "    return csr_matrix((vals, (rows, cols)))"
   ],
   "metadata": {
    "collapsed": false,
    "pycharm": {
     "name": "#%%\n"
    }
   }
  },
  {
   "cell_type": "code",
   "execution_count": 7,
   "outputs": [
    {
     "name": "stdout",
     "output_type": "stream",
     "text": [
      "(6040, 3952)\n",
      "(6040, 3952)\n"
     ]
    }
   ],
   "source": [
    "ratings_df.sort_values(by='Timestamp', inplace=True)\n",
    "\n",
    "ratings_df['UserID'] = ratings_df['UserID'].apply(lambda x: x - 1)\n",
    "ratings_df['MovieID'] = ratings_df['MovieID'].apply(lambda x: x - 1)\n",
    "\n",
    "train_df, test_df = train_test_split(\n",
    "    ratings_df.iloc[:, :3], shuffle=False, test_size=0.1)\n",
    "\n",
    "train_sparse = convert_to_sparse(train_df)\n",
    "test_sparse = convert_to_sparse(test_df)\n",
    "\n",
    "print(train_sparse.shape)\n",
    "print(test_sparse.shape)\n",
    "\n",
    "train = train_sparse.toarray()\n",
    "test = test_sparse.toarray()"
   ],
   "metadata": {
    "collapsed": false,
    "pycharm": {
     "name": "#%%\n"
    }
   }
  },
  {
   "cell_type": "markdown",
   "source": [
    "## Use Non-negative Matrix Factorization to predict users ratings"
   ],
   "metadata": {
    "collapsed": false,
    "pycharm": {
     "name": "#%% md\n"
    }
   }
  },
  {
   "cell_type": "code",
   "execution_count": 8,
   "outputs": [],
   "source": [
    "def non_zero_rmse(pred, actual):\n",
    "    pred = pred[actual.nonzero()].flatten()     # Ignore nonzero terms\n",
    "    actual = actual[actual.nonzero()].flatten() # Ignore nonzero terms\n",
    "    return mean_squared_error(pred, actual, squared=False)"
   ],
   "metadata": {
    "collapsed": false,
    "pycharm": {
     "name": "#%%\n"
    }
   }
  },
  {
   "cell_type": "code",
   "execution_count": 9,
   "outputs": [
    {
     "name": "stderr",
     "output_type": "stream",
     "text": [
      "/home/piotrek/.pyenv/versions/3.8.6/envs/sys-rekomend/lib/python3.8/site-packages/sklearn/decomposition/_nmf.py:312: FutureWarning: The 'init' value, when 'init=None' and n_components is less than n_samples and n_features, will be changed from 'nndsvd' to 'nndsvda' in 1.1 (renaming of 0.26).\n",
      "  warnings.warn((\"The 'init' value, when 'init=None' and \"\n",
      "/home/piotrek/.pyenv/versions/3.8.6/envs/sys-rekomend/lib/python3.8/site-packages/sklearn/decomposition/_nmf.py:1090: ConvergenceWarning: Maximum number of iterations 200 reached. Increase it to improve convergence.\n",
      "  warnings.warn(\"Maximum number of iterations %d reached. Increase it to\"\n"
     ]
    }
   ],
   "source": [
    "nmf = NMF(n_components=15, alpha=0.001, l1_ratio=0.0)\n",
    "res = nmf.fit_transform(train)\n",
    "preds = res @ nmf.components_"
   ],
   "metadata": {
    "collapsed": false,
    "pycharm": {
     "name": "#%%\n"
    }
   }
  },
  {
   "cell_type": "code",
   "execution_count": 10,
   "outputs": [
    {
     "name": "stdout",
     "output_type": "stream",
     "text": [
      "3.1895046191120273\n"
     ]
    }
   ],
   "source": [
    "print(non_zero_rmse(preds, test))\n"
   ],
   "metadata": {
    "collapsed": false,
    "pycharm": {
     "name": "#%%\n"
    }
   }
  },
  {
   "cell_type": "markdown",
   "source": [
    "## Test ready to use NFM for recommender system implementation"
   ],
   "metadata": {
    "collapsed": false,
    "pycharm": {
     "name": "#%% md\n"
    }
   }
  },
  {
   "cell_type": "code",
   "execution_count": 27,
   "outputs": [],
   "source": [
    "import surprise\n",
    "from surprise import Dataset\n",
    "from surprise.prediction_algorithms.matrix_factorization import NMF\n",
    "from surprise.model_selection import cross_validate\n",
    "from surprise import accuracy\n",
    "\n",
    "from random import randint"
   ],
   "metadata": {
    "collapsed": false,
    "pycharm": {
     "name": "#%%\n"
    }
   }
  },
  {
   "cell_type": "code",
   "execution_count": 16,
   "outputs": [
    {
     "name": "stdout",
     "output_type": "stream",
     "text": [
      "RMSE: 0.9136\n"
     ]
    },
    {
     "data": {
      "text/plain": "0.9136055567011406"
     },
     "execution_count": 16,
     "metadata": {},
     "output_type": "execute_result"
    }
   ],
   "source": [
    "movielens = Dataset.load_builtin('ml-1m', prompt=False)\n",
    "\n",
    "train_ds, test_ds = surprise.model_selection.train_test_split(movielens, test_size=0.1)\n",
    "\n",
    "alg = NMF()\n",
    "\n",
    "predictions = alg.fit(train_ds).test(test_ds)\n",
    "\n",
    "accuracy.rmse(predictions)"
   ],
   "metadata": {
    "collapsed": false,
    "pycharm": {
     "name": "#%%\n"
    }
   }
  },
  {
   "cell_type": "markdown",
   "source": [
    "## Analyze prediction performance"
   ],
   "metadata": {
    "collapsed": false,
    "pycharm": {
     "name": "#%% md\n"
    }
   }
  },
  {
   "cell_type": "code",
   "execution_count": 30,
   "outputs": [],
   "source": [
    "USER_ID = 4177"
   ],
   "metadata": {
    "collapsed": false,
    "pycharm": {
     "name": "#%%\n"
    }
   }
  },
  {
   "cell_type": "code",
   "execution_count": 24,
   "outputs": [
    {
     "name": "stdout",
     "output_type": "stream",
     "text": [
      "Movie: Wizard of Oz, The (1939), genre: Adventure|Children's|Drama|Musical, rating: 5\n",
      "Movie: Steam: The Turkish Bath (Hamam) (1997), genre: Drama|Romance, rating: 1\n",
      "Movie: Sunset Blvd. (a.k.a. Sunset Boulevard) (1950), genre: Film-Noir, rating: 4\n",
      "Movie: Flintstones, The (1994), genre: Children's|Comedy, rating: 5\n",
      "Movie: Wings (1927), genre: Drama|Romance|War, rating: 4\n",
      "Movie: Shower (Xizhao) (1999), genre: Comedy, rating: 3\n",
      "Movie: Adventures of Rocky and Bullwinkle, The (2000), genre: Animation|Children's|Comedy, rating: 2\n",
      "Movie: Yellow Submarine (1968), genre: Animation|Musical, rating: 4\n",
      "Movie: Crimson Pirate, The (1952), genre: Adventure|Comedy|Sci-Fi, rating: 3\n",
      "Movie: Far and Away (1992), genre: Drama|Romance, rating: 4\n",
      "Movie: Client, The (1994), genre: Drama|Mystery|Thriller, rating: 4\n",
      "Movie: Volunteers (1985), genre: Comedy, rating: 4\n",
      "Movie: Eye for an Eye (1996), genre: Drama|Thriller, rating: 5\n",
      "Movie: GoldenEye (1995), genre: Action|Adventure|Thriller, rating: 4\n",
      "Movie: Psycho (1998), genre: Crime|Horror|Thriller, rating: 4\n",
      "Movie: Christmas Vacation (1989), genre: Comedy, rating: 3\n",
      "Movie: Time Tracers (1995), genre: Action|Adventure|Sci-Fi, rating: 3\n",
      "Movie: Diva (1981), genre: Action|Drama|Mystery|Romance|Thriller, rating: 4\n",
      "Movie: My Fair Lady (1964), genre: Musical|Romance, rating: 5\n",
      "Movie: Heat (1995), genre: Action|Crime|Thriller, rating: 4\n"
     ]
    }
   ],
   "source": [
    "movies_by = ratings_df[ratings_df['UserID'] == USER_ID]\n",
    "for idx, row in movies_by.iterrows():\n",
    "    movie = movies_df.loc[movies_df['MovieID'] == row['MovieID']].iloc[0]\n",
    "    print(f'Movie: {movie[\"Title\"]}, genre: {movie[\"Genres\"]}, rating: {row[\"Rating\"]}')"
   ],
   "metadata": {
    "collapsed": false,
    "pycharm": {
     "name": "#%%\n"
    }
   }
  },
  {
   "cell_type": "code",
   "execution_count": 25,
   "outputs": [],
   "source": [
    "def get_prediction(user_id: int, movie_id: int):\n",
    "    user_id = str(user_id)\n",
    "    movie_id = str(movie_id)\n",
    "\n",
    "    rating = alg.predict(user_id, movie_id)\n",
    "    return rating"
   ],
   "metadata": {
    "collapsed": false,
    "pycharm": {
     "name": "#%%\n"
    }
   }
  },
  {
   "cell_type": "code",
   "execution_count": 29,
   "outputs": [
    {
     "name": "stdout",
     "output_type": "stream",
     "text": [
      "Movie: Night of the Creeps (1986), genre: Comedy|Horror|Sci-Fi, rating: 2.805948975152578\n",
      "Movie: Mrs. Doubtfire (1993), genre: Comedy, rating: 4.026193629803376\n",
      "Movie: Fools Rush In (1997), genre: Comedy|Romance, rating: 3.6302007022492107\n",
      "Movie: Buddy Holly Story, The (1978), genre: Drama, rating: 4.2566646044830865\n",
      "Movie: Three Musketeers, The (1993), genre: Action|Adventure|Comedy, rating: 3.7013053195174184\n",
      "Movie: All Over Me (1997), genre: Drama, rating: 4.034121977378656\n",
      "Movie: Teenage Mutant Ninja Turtles II: The Secret of the Ooze (1991), genre: Action|Children's|Fantasy, rating: 2.5838075035895023\n",
      "Movie: Interview with the Vampire (1994), genre: Drama|Horror, rating: 3.988946699291398\n",
      "Movie: Century of Cinema, A (1994), genre: Documentary, rating: 3.5813352321959413\n",
      "Movie: Fan, The (1996), genre: Thriller, rating: 3.0813537441144114\n"
     ]
    }
   ],
   "source": [
    "for i in range(10):\n",
    "    uid = USER_ID\n",
    "    mid = randint(1, 3953)\n",
    "\n",
    "    rating = get_prediction(uid, mid)\n",
    "\n",
    "    movie = movies_df.loc[movies_df['MovieID'] == mid].iloc[0]\n",
    "    print(f'Movie: {movie[\"Title\"]}, genre: {movie[\"Genres\"]}, rating: {rating.est}')"
   ],
   "metadata": {
    "collapsed": false,
    "pycharm": {
     "name": "#%%\n"
    }
   }
  }
 ],
 "metadata": {
  "kernelspec": {
   "display_name": "Python 3",
   "language": "python",
   "name": "python3"
  },
  "language_info": {
   "codemirror_mode": {
    "name": "ipython",
    "version": 2
   },
   "file_extension": ".py",
   "mimetype": "text/x-python",
   "name": "python",
   "nbconvert_exporter": "python",
   "pygments_lexer": "ipython2",
   "version": "2.7.6"
  }
 },
 "nbformat": 4,
 "nbformat_minor": 0
}