{
 "cells": [
  {
   "cell_type": "code",
   "execution_count": 1,
   "outputs": [],
   "source": [
    "%load_ext autoreload\n",
    "%autoreload 2"
   ],
   "metadata": {
    "collapsed": false,
    "pycharm": {
     "name": "#%%\n"
    }
   }
  },
  {
   "cell_type": "code",
   "execution_count": 62,
   "metadata": {
    "collapsed": true
   },
   "outputs": [],
   "source": [
    "import numpy as np\n",
    "import pytorch_lightning as pl\n",
    "import torch\n",
    "from sklearn.model_selection import train_test_split\n",
    "from sklearn.neighbors import NearestNeighbors\n",
    "from sklearn.metrics import mean_squared_error\n",
    "from torch.utils.data import DataLoader\n",
    "from tqdm.auto import tqdm\n",
    "\n",
    "from autoencoder.model import UserAutoEncoder\n",
    "from data import get_movielens_1m"
   ]
  },
  {
   "cell_type": "markdown",
   "source": [
    "### Prepare users features"
   ],
   "metadata": {
    "collapsed": false,
    "pycharm": {
     "name": "#%% md\n"
    }
   }
  },
  {
   "cell_type": "code",
   "execution_count": 3,
   "outputs": [],
   "source": [
    "movies_df, users_df, ratings_df = get_movielens_1m()"
   ],
   "metadata": {
    "collapsed": false,
    "pycharm": {
     "name": "#%%\n"
    }
   }
  },
  {
   "cell_type": "code",
   "execution_count": 4,
   "outputs": [],
   "source": [
    "genres = set()\n",
    "\n",
    "for genre in movies_df.Genres.unique():\n",
    "    all_parts = genre.split('|')\n",
    "    genres.update(all_parts)"
   ],
   "metadata": {
    "collapsed": false,
    "pycharm": {
     "name": "#%%\n"
    }
   }
  },
  {
   "cell_type": "code",
   "execution_count": 5,
   "outputs": [],
   "source": [
    "dataset = users_df.copy(deep=True)\n",
    "dataset['female'] = dataset['Gender'].apply(lambda x: 1 if x == 'F' else 0)\n",
    "dataset['male'] = dataset['Gender'].apply(lambda x: 1 if x == 'M' else 0)\n",
    "dataset.drop(columns=['Gender'], inplace=True)\n",
    "\n",
    "for genre in genres:\n",
    "    dataset[f'avg_{genre}'] = 0"
   ],
   "metadata": {
    "collapsed": false,
    "pycharm": {
     "name": "#%%\n"
    }
   }
  },
  {
   "cell_type": "code",
   "execution_count": 6,
   "outputs": [],
   "source": [
    "train_ratings, test_ratings = train_test_split(\n",
    "    ratings_df.sort_values(by=['Timestamp']),\n",
    "    shuffle=False,\n",
    "    test_size=0.1\n",
    ")\n",
    "\n",
    "train_ratings = train_ratings.merge(movies_df, on='MovieID')"
   ],
   "metadata": {
    "collapsed": false,
    "pycharm": {
     "name": "#%%\n"
    }
   }
  },
  {
   "cell_type": "code",
   "execution_count": 7,
   "outputs": [
    {
     "data": {
      "text/plain": "  0%|          | 0/6040 [00:00<?, ?it/s]",
      "application/vnd.jupyter.widget-view+json": {
       "version_major": 2,
       "version_minor": 0,
       "model_id": "c640aac6af1749f88944f14483333c25"
      }
     },
     "metadata": {},
     "output_type": "display_data"
    }
   ],
   "source": [
    "for idx, user in tqdm(dataset.iterrows(), total=len(dataset)):\n",
    "    ratings_by_user = train_ratings[train_ratings['UserID'] == user.UserID]\n",
    "    for genre in genres:\n",
    "        ratings_by_genre = ratings_by_user[ratings_by_user['Genres'].apply(lambda x: genre in x)]\n",
    "        if len(ratings_by_genre) > 0:\n",
    "            dataset.loc[idx, f'avg_{genre}'] = ratings_by_genre['Rating'].mean()"
   ],
   "metadata": {
    "collapsed": false,
    "pycharm": {
     "name": "#%%\n"
    }
   }
  },
  {
   "cell_type": "code",
   "execution_count": 8,
   "outputs": [
    {
     "data": {
      "text/plain": "      UserID  Age  Occupation Zip-code  female  male  avg_Thriller  \\\n0          1    1          10    48067       1     0      0.000000   \n1          2   56          16    70072       0     1      0.000000   \n2          3   25          15    55117       0     1      0.000000   \n3          4   45           7    02460       0     1      0.000000   \n4          5   25          20    55455       0     1      0.000000   \n...      ...  ...         ...      ...     ...   ...           ...   \n6035    6036   25          15    32603       1     0      3.142857   \n6036    6037   45           1    76006       1     0      3.705882   \n6037    6038   56           1    14706       1     0      0.000000   \n6038    6039   45           0    01060       1     0      4.142857   \n6039    6040   25           6    11106       0     1      3.914286   \n\n      avg_Horror  avg_Children's  avg_Mystery  ...  avg_Sci-Fi  avg_Drama  \\\n0       0.000000        0.000000     0.000000  ...    0.000000   0.000000   \n1       0.000000        0.000000     0.000000  ...    0.000000   0.000000   \n2       0.000000        0.000000     0.000000  ...    0.000000   0.000000   \n3       0.000000        0.000000     0.000000  ...    0.000000   0.000000   \n4       0.000000        0.000000     0.000000  ...    0.000000   0.000000   \n...          ...             ...          ...  ...         ...        ...   \n6035    2.986486        3.444444     3.411765  ...    2.834320   3.505376   \n6036    4.111111        3.666667     3.692308  ...    3.692308   3.877551   \n6037    2.500000        3.000000     0.000000  ...    4.000000   3.888889   \n6038    4.000000        3.529412     4.176471  ...    4.250000   4.000000   \n6039    2.450000        4.000000     4.400000  ...    3.457143   3.804598   \n\n      avg_Fantasy  avg_Comedy  avg_Documentary   avg_War  avg_Musical  \\\n0            0.00    0.000000         0.000000  0.000000     0.000000   \n1            0.00    0.000000         0.000000  0.000000     0.000000   \n2            0.00    0.000000         0.000000  0.000000     0.000000   \n3            0.00    0.000000         0.000000  0.000000     0.000000   \n4            0.00    0.000000         0.000000  0.000000     0.000000   \n...           ...         ...              ...       ...          ...   \n6035         3.00    3.203065         3.909091  3.785714     3.709677   \n6036         4.25    3.576271         4.000000  4.000000     4.000000   \n6037         0.00    3.833333         0.000000  4.000000     0.000000   \n6038         3.60    3.723077         0.000000  4.111111     3.690476   \n6039         3.50    3.231579         4.444444  3.727273     4.000000   \n\n      avg_Action  avg_Romance  avg_Film-Noir  \n0       0.000000     0.000000       0.000000  \n1       0.000000     0.000000       0.000000  \n2       0.000000     0.000000       0.000000  \n3       0.000000     0.000000       0.000000  \n4       0.000000     0.000000       0.000000  \n...          ...          ...            ...  \n6035    3.000000     3.352459       4.058824  \n6036    3.642857     3.681818       3.444444  \n6037    3.000000     4.166667       0.000000  \n6038    4.000000     3.800000       4.500000  \n6039    2.897436     3.441860       4.000000  \n\n[6040 rows x 24 columns]",
      "text/html": "<div>\n<style scoped>\n    .dataframe tbody tr th:only-of-type {\n        vertical-align: middle;\n    }\n\n    .dataframe tbody tr th {\n        vertical-align: top;\n    }\n\n    .dataframe thead th {\n        text-align: right;\n    }\n</style>\n<table border=\"1\" class=\"dataframe\">\n  <thead>\n    <tr style=\"text-align: right;\">\n      <th></th>\n      <th>UserID</th>\n      <th>Age</th>\n      <th>Occupation</th>\n      <th>Zip-code</th>\n      <th>female</th>\n      <th>male</th>\n      <th>avg_Thriller</th>\n      <th>avg_Horror</th>\n      <th>avg_Children's</th>\n      <th>avg_Mystery</th>\n      <th>...</th>\n      <th>avg_Sci-Fi</th>\n      <th>avg_Drama</th>\n      <th>avg_Fantasy</th>\n      <th>avg_Comedy</th>\n      <th>avg_Documentary</th>\n      <th>avg_War</th>\n      <th>avg_Musical</th>\n      <th>avg_Action</th>\n      <th>avg_Romance</th>\n      <th>avg_Film-Noir</th>\n    </tr>\n  </thead>\n  <tbody>\n    <tr>\n      <th>0</th>\n      <td>1</td>\n      <td>1</td>\n      <td>10</td>\n      <td>48067</td>\n      <td>1</td>\n      <td>0</td>\n      <td>0.000000</td>\n      <td>0.000000</td>\n      <td>0.000000</td>\n      <td>0.000000</td>\n      <td>...</td>\n      <td>0.000000</td>\n      <td>0.000000</td>\n      <td>0.00</td>\n      <td>0.000000</td>\n      <td>0.000000</td>\n      <td>0.000000</td>\n      <td>0.000000</td>\n      <td>0.000000</td>\n      <td>0.000000</td>\n      <td>0.000000</td>\n    </tr>\n    <tr>\n      <th>1</th>\n      <td>2</td>\n      <td>56</td>\n      <td>16</td>\n      <td>70072</td>\n      <td>0</td>\n      <td>1</td>\n      <td>0.000000</td>\n      <td>0.000000</td>\n      <td>0.000000</td>\n      <td>0.000000</td>\n      <td>...</td>\n      <td>0.000000</td>\n      <td>0.000000</td>\n      <td>0.00</td>\n      <td>0.000000</td>\n      <td>0.000000</td>\n      <td>0.000000</td>\n      <td>0.000000</td>\n      <td>0.000000</td>\n      <td>0.000000</td>\n      <td>0.000000</td>\n    </tr>\n    <tr>\n      <th>2</th>\n      <td>3</td>\n      <td>25</td>\n      <td>15</td>\n      <td>55117</td>\n      <td>0</td>\n      <td>1</td>\n      <td>0.000000</td>\n      <td>0.000000</td>\n      <td>0.000000</td>\n      <td>0.000000</td>\n      <td>...</td>\n      <td>0.000000</td>\n      <td>0.000000</td>\n      <td>0.00</td>\n      <td>0.000000</td>\n      <td>0.000000</td>\n      <td>0.000000</td>\n      <td>0.000000</td>\n      <td>0.000000</td>\n      <td>0.000000</td>\n      <td>0.000000</td>\n    </tr>\n    <tr>\n      <th>3</th>\n      <td>4</td>\n      <td>45</td>\n      <td>7</td>\n      <td>02460</td>\n      <td>0</td>\n      <td>1</td>\n      <td>0.000000</td>\n      <td>0.000000</td>\n      <td>0.000000</td>\n      <td>0.000000</td>\n      <td>...</td>\n      <td>0.000000</td>\n      <td>0.000000</td>\n      <td>0.00</td>\n      <td>0.000000</td>\n      <td>0.000000</td>\n      <td>0.000000</td>\n      <td>0.000000</td>\n      <td>0.000000</td>\n      <td>0.000000</td>\n      <td>0.000000</td>\n    </tr>\n    <tr>\n      <th>4</th>\n      <td>5</td>\n      <td>25</td>\n      <td>20</td>\n      <td>55455</td>\n      <td>0</td>\n      <td>1</td>\n      <td>0.000000</td>\n      <td>0.000000</td>\n      <td>0.000000</td>\n      <td>0.000000</td>\n      <td>...</td>\n      <td>0.000000</td>\n      <td>0.000000</td>\n      <td>0.00</td>\n      <td>0.000000</td>\n      <td>0.000000</td>\n      <td>0.000000</td>\n      <td>0.000000</td>\n      <td>0.000000</td>\n      <td>0.000000</td>\n      <td>0.000000</td>\n    </tr>\n    <tr>\n      <th>...</th>\n      <td>...</td>\n      <td>...</td>\n      <td>...</td>\n      <td>...</td>\n      <td>...</td>\n      <td>...</td>\n      <td>...</td>\n      <td>...</td>\n      <td>...</td>\n      <td>...</td>\n      <td>...</td>\n      <td>...</td>\n      <td>...</td>\n      <td>...</td>\n      <td>...</td>\n      <td>...</td>\n      <td>...</td>\n      <td>...</td>\n      <td>...</td>\n      <td>...</td>\n      <td>...</td>\n    </tr>\n    <tr>\n      <th>6035</th>\n      <td>6036</td>\n      <td>25</td>\n      <td>15</td>\n      <td>32603</td>\n      <td>1</td>\n      <td>0</td>\n      <td>3.142857</td>\n      <td>2.986486</td>\n      <td>3.444444</td>\n      <td>3.411765</td>\n      <td>...</td>\n      <td>2.834320</td>\n      <td>3.505376</td>\n      <td>3.00</td>\n      <td>3.203065</td>\n      <td>3.909091</td>\n      <td>3.785714</td>\n      <td>3.709677</td>\n      <td>3.000000</td>\n      <td>3.352459</td>\n      <td>4.058824</td>\n    </tr>\n    <tr>\n      <th>6036</th>\n      <td>6037</td>\n      <td>45</td>\n      <td>1</td>\n      <td>76006</td>\n      <td>1</td>\n      <td>0</td>\n      <td>3.705882</td>\n      <td>4.111111</td>\n      <td>3.666667</td>\n      <td>3.692308</td>\n      <td>...</td>\n      <td>3.692308</td>\n      <td>3.877551</td>\n      <td>4.25</td>\n      <td>3.576271</td>\n      <td>4.000000</td>\n      <td>4.000000</td>\n      <td>4.000000</td>\n      <td>3.642857</td>\n      <td>3.681818</td>\n      <td>3.444444</td>\n    </tr>\n    <tr>\n      <th>6037</th>\n      <td>6038</td>\n      <td>56</td>\n      <td>1</td>\n      <td>14706</td>\n      <td>1</td>\n      <td>0</td>\n      <td>0.000000</td>\n      <td>2.500000</td>\n      <td>3.000000</td>\n      <td>0.000000</td>\n      <td>...</td>\n      <td>4.000000</td>\n      <td>3.888889</td>\n      <td>0.00</td>\n      <td>3.833333</td>\n      <td>0.000000</td>\n      <td>4.000000</td>\n      <td>0.000000</td>\n      <td>3.000000</td>\n      <td>4.166667</td>\n      <td>0.000000</td>\n    </tr>\n    <tr>\n      <th>6038</th>\n      <td>6039</td>\n      <td>45</td>\n      <td>0</td>\n      <td>01060</td>\n      <td>1</td>\n      <td>0</td>\n      <td>4.142857</td>\n      <td>4.000000</td>\n      <td>3.529412</td>\n      <td>4.176471</td>\n      <td>...</td>\n      <td>4.250000</td>\n      <td>4.000000</td>\n      <td>3.60</td>\n      <td>3.723077</td>\n      <td>0.000000</td>\n      <td>4.111111</td>\n      <td>3.690476</td>\n      <td>4.000000</td>\n      <td>3.800000</td>\n      <td>4.500000</td>\n    </tr>\n    <tr>\n      <th>6039</th>\n      <td>6040</td>\n      <td>25</td>\n      <td>6</td>\n      <td>11106</td>\n      <td>0</td>\n      <td>1</td>\n      <td>3.914286</td>\n      <td>2.450000</td>\n      <td>4.000000</td>\n      <td>4.400000</td>\n      <td>...</td>\n      <td>3.457143</td>\n      <td>3.804598</td>\n      <td>3.50</td>\n      <td>3.231579</td>\n      <td>4.444444</td>\n      <td>3.727273</td>\n      <td>4.000000</td>\n      <td>2.897436</td>\n      <td>3.441860</td>\n      <td>4.000000</td>\n    </tr>\n  </tbody>\n</table>\n<p>6040 rows × 24 columns</p>\n</div>"
     },
     "execution_count": 8,
     "metadata": {},
     "output_type": "execute_result"
    }
   ],
   "source": [
    "dataset"
   ],
   "metadata": {
    "collapsed": false,
    "pycharm": {
     "name": "#%%\n"
    }
   }
  },
  {
   "cell_type": "markdown",
   "source": [
    "### Train embeddings"
   ],
   "metadata": {
    "collapsed": false,
    "pycharm": {
     "name": "#%% md\n"
    }
   }
  },
  {
   "cell_type": "code",
   "execution_count": 9,
   "outputs": [
    {
     "name": "stderr",
     "output_type": "stream",
     "text": [
      "GPU available: False, used: False\n",
      "TPU available: None, using: 0 TPU cores\n"
     ]
    }
   ],
   "source": [
    "X = dataset.drop(columns=['UserID', 'Zip-code']).to_numpy().astype(np.float32)\n",
    "model = UserAutoEncoder(n_features=X.shape[1])\n",
    "x_dataloader = DataLoader(X, batch_size=100, num_workers=4)\n",
    "trainer = pl.Trainer(max_epochs=100)"
   ],
   "metadata": {
    "collapsed": false,
    "pycharm": {
     "name": "#%%\n"
    }
   }
  },
  {
   "cell_type": "code",
   "execution_count": 10,
   "outputs": [
    {
     "name": "stderr",
     "output_type": "stream",
     "text": [
      "/home/piotrek/.pyenv/versions/3.8.6/envs/sys-rekomend/lib/python3.8/site-packages/pytorch_lightning/utilities/distributed.py:51: UserWarning: you defined a validation_step but have no val_dataloader. Skipping validation loop\n",
      "  warnings.warn(*args, **kwargs)\n",
      "\n",
      "  | Name    | Type       | Params\n",
      "---------------------------------------\n",
      "0 | encoder | Sequential | 2.8 K \n",
      "1 | decoder | Sequential | 2.8 K \n",
      "---------------------------------------\n",
      "5.7 K     Trainable params\n",
      "0         Non-trainable params\n",
      "5.7 K     Total params\n",
      "0.023     Total estimated model params size (MB)\n",
      "/home/piotrek/.pyenv/versions/3.8.6/envs/sys-rekomend/lib/python3.8/site-packages/pytorch_lightning/utilities/distributed.py:51: UserWarning: The dataloader, train dataloader, does not have many workers which may be a bottleneck. Consider increasing the value of the `num_workers` argument` (try 4 which is the number of cpus on this machine) in the `DataLoader` init to improve performance.\n",
      "  warnings.warn(*args, **kwargs)\n"
     ]
    },
    {
     "data": {
      "text/plain": "Validation sanity check: 0it [00:00, ?it/s]",
      "application/vnd.jupyter.widget-view+json": {
       "version_major": 2,
       "version_minor": 0,
       "model_id": "80513533de26437e9fb4507d3cf86c11"
      }
     },
     "metadata": {},
     "output_type": "display_data"
    },
    {
     "data": {
      "text/plain": "Training: 0it [00:00, ?it/s]",
      "application/vnd.jupyter.widget-view+json": {
       "version_major": 2,
       "version_minor": 0,
       "model_id": "96ac3d23609048a68bc5760b27279bb8"
      }
     },
     "metadata": {},
     "output_type": "display_data"
    },
    {
     "data": {
      "text/plain": "1"
     },
     "execution_count": 10,
     "metadata": {},
     "output_type": "execute_result"
    }
   ],
   "source": [
    "trainer.fit(model, x_dataloader)"
   ],
   "metadata": {
    "collapsed": false,
    "pycharm": {
     "name": "#%%\n"
    }
   }
  },
  {
   "cell_type": "code",
   "execution_count": 16,
   "outputs": [
    {
     "data": {
      "text/plain": "(6040, 64)"
     },
     "execution_count": 16,
     "metadata": {},
     "output_type": "execute_result"
    }
   ],
   "source": [
    "embeddings = model(torch.Tensor(X)).detach().numpy()\n",
    "embeddings.shape"
   ],
   "metadata": {
    "collapsed": false,
    "pycharm": {
     "name": "#%%\n"
    }
   }
  },
  {
   "cell_type": "markdown",
   "source": [
    "### Use KNN to recommend (predict ratings)"
   ],
   "metadata": {
    "collapsed": false,
    "pycharm": {
     "name": "#%% md\n"
    }
   }
  },
  {
   "cell_type": "code",
   "execution_count": 60,
   "outputs": [],
   "source": [
    "K = 50"
   ],
   "metadata": {
    "collapsed": false,
    "pycharm": {
     "name": "#%%\n"
    }
   }
  },
  {
   "cell_type": "code",
   "execution_count": 19,
   "outputs": [
    {
     "data": {
      "text/plain": "NearestNeighbors()"
     },
     "execution_count": 19,
     "metadata": {},
     "output_type": "execute_result"
    }
   ],
   "source": [
    "knn = NearestNeighbors()\n",
    "knn.fit(embeddings)"
   ],
   "metadata": {
    "collapsed": false,
    "pycharm": {
     "name": "#%%\n"
    }
   }
  },
  {
   "cell_type": "code",
   "execution_count": 49,
   "outputs": [],
   "source": [
    "def get_prediction(uid: int, mid: int):\n",
    "    neighbours = knn.kneighbors(embeddings[uid - 1].reshape(1, -1), n_neighbors=K+1, return_distance=False).flatten()[1:]\n",
    "    neighbours = neighbours + 1  # users indexing starts at 1\n",
    "\n",
    "    ratings_of_movie = train_ratings[train_ratings['MovieID'] == mid]\n",
    "    ratings_of_movie = ratings_of_movie[ratings_of_movie['UserID'].isin(neighbours)]\n",
    "\n",
    "    return ratings_of_movie['Rating'].mean()"
   ],
   "metadata": {
    "collapsed": false,
    "pycharm": {
     "name": "#%%\n"
    }
   }
  },
  {
   "cell_type": "code",
   "execution_count": 53,
   "outputs": [
    {
     "data": {
      "text/plain": "  0%|          | 0/100021 [00:00<?, ?it/s]",
      "application/vnd.jupyter.widget-view+json": {
       "version_major": 2,
       "version_minor": 0,
       "model_id": "9056dc96512b4051a551145f5643c0ba"
      }
     },
     "metadata": {},
     "output_type": "display_data"
    }
   ],
   "source": [
    "test_ratings['prediction'] = None\n",
    "\n",
    "for idx, row in tqdm(test_ratings.iterrows(), total=len(test_ratings)):\n",
    "    user_id = row['UserID']\n",
    "    movie_id = row['MovieID']\n",
    "\n",
    "    test_ratings.loc[idx, 'prediction'] = get_prediction(user_id, movie_id)"
   ],
   "metadata": {
    "collapsed": false,
    "pycharm": {
     "name": "#%%\n"
    }
   }
  },
  {
   "cell_type": "code",
   "execution_count": 67,
   "outputs": [],
   "source": [
    "ratings_for_rmse = test_ratings.dropna()"
   ],
   "metadata": {
    "collapsed": false,
    "pycharm": {
     "name": "#%%\n"
    }
   }
  },
  {
   "cell_type": "code",
   "execution_count": 68,
   "outputs": [],
   "source": [
    "y_true = ratings_for_rmse['Rating'].to_numpy()\n",
    "y_pred = ratings_for_rmse['prediction'].to_numpy()"
   ],
   "metadata": {
    "collapsed": false,
    "pycharm": {
     "name": "#%%\n"
    }
   }
  },
  {
   "cell_type": "code",
   "execution_count": 69,
   "outputs": [
    {
     "data": {
      "text/plain": "1.080310957188026"
     },
     "execution_count": 69,
     "metadata": {},
     "output_type": "execute_result"
    }
   ],
   "source": [
    "rmse = mean_squared_error(y_true, y_pred, squared=False)\n",
    "rmse"
   ],
   "metadata": {
    "collapsed": false,
    "pycharm": {
     "name": "#%%\n"
    }
   }
  },
  {
   "cell_type": "code",
   "execution_count": 70,
   "outputs": [
    {
     "data": {
      "text/plain": "1.1670717642205088"
     },
     "execution_count": 70,
     "metadata": {},
     "output_type": "execute_result"
    }
   ],
   "source": [
    "mse = mean_squared_error(y_true, y_pred)\n",
    "mse"
   ],
   "metadata": {
    "collapsed": false,
    "pycharm": {
     "name": "#%%\n"
    }
   }
  }
 ],
 "metadata": {
  "kernelspec": {
   "display_name": "Python 3",
   "language": "python",
   "name": "python3"
  },
  "language_info": {
   "codemirror_mode": {
    "name": "ipython",
    "version": 2
   },
   "file_extension": ".py",
   "mimetype": "text/x-python",
   "name": "python",
   "nbconvert_exporter": "python",
   "pygments_lexer": "ipython2",
   "version": "2.7.6"
  }
 },
 "nbformat": 4,
 "nbformat_minor": 0
}